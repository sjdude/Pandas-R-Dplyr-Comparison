{
 "cells": [
  {
   "cell_type": "markdown",
   "metadata": {},
   "source": [
    "# Comparison of Pandas vs R & Dplyr - from a Python user's perspective"
   ]
  },
  {
   "cell_type": "markdown",
   "metadata": {},
   "source": [
    "Pandas & R comparison documentation: https://pandas.pydata.org/docs/getting_started/comparison/comparison_with_r.html\n",
    "<br> Dplyr Documentation & Cheatsheet: https://dplyr.tidyverse.org/"
   ]
  },
  {
   "cell_type": "code",
   "execution_count": 2,
   "metadata": {},
   "outputs": [],
   "source": [
    "# !pip install pandas, rpy2"
   ]
  },
  {
   "cell_type": "markdown",
   "metadata": {},
   "source": [
    "## Imports"
   ]
  },
  {
   "cell_type": "code",
   "execution_count": 3,
   "metadata": {},
   "outputs": [],
   "source": [
    "import pandas as pd\n",
    "import numpy as np"
   ]
  },
  {
   "cell_type": "code",
   "execution_count": 4,
   "metadata": {},
   "outputs": [
    {
     "name": "stderr",
     "output_type": "stream",
     "text": [
      "c:\\Users\\sjdud\\anaconda3\\envs\\rpy2\\Lib\\site-packages\\rpy2\\robjects\\packages.py:367: UserWarning: The symbol 'quartz' is not in this R namespace/package.\n",
      "  warnings.warn(\n"
     ]
    }
   ],
   "source": [
    "# enable ipython R magic commands\n",
    "# ensure that the R_HOME environmental variable is set to your R installation folder. eg. C:\\Program Files\\R\\R-4.4.0 or\n",
    "\n",
    "# Manually setting envrionment variable, if necessary\n",
    "# import os\n",
    "# os.environ['R_HOME'] = 'C:/Program Files/R/R-4.4.0'\n",
    "\n",
    "%load_ext rpy2.ipython "
   ]
  },
  {
   "cell_type": "code",
   "execution_count": 5,
   "metadata": {},
   "outputs": [],
   "source": [
    "# load rpy2 for working with R within Python\n",
    "import rpy2.robjects as ro\n",
    "from rpy2.robjects.packages import importr\n",
    "\n",
    "utils = importr('utils') # R utils for installing packages in R"
   ]
  },
  {
   "cell_type": "code",
   "execution_count": 6,
   "metadata": {},
   "outputs": [],
   "source": [
    "# install dplyr, tibble in R, if necessary\n",
    "# utils.install_packages('dplyr') # Note R commands like install.packages are translated to install_packages by rpy2\n",
    "# utils.install_packages('tibble')\n",
    "\n",
    "# Alternative: Install tidyverse which installs several pacakges including dplyr, tibble, ggplot2 and others.\n",
    "# utils.install_packages('tidyverse')\n",
    "\n",
    "#load dplyr (R's pandas equivalent)\n",
    "dplyr = importr('dplyr')\n",
    "tibble = importr('tibble')"
   ]
  },
  {
   "cell_type": "markdown",
   "metadata": {},
   "source": [
    "## Ipython Magic commands %R (inline) and %%R (cell)"
   ]
  },
  {
   "cell_type": "code",
   "execution_count": 7,
   "metadata": {},
   "outputs": [
    {
     "name": "stdout",
     "output_type": "stream",
     "text": [
      "3.141592653589793\n"
     ]
    }
   ],
   "source": [
    "# Python\n",
    "x= np.pi\n",
    "print(x)"
   ]
  },
  {
   "cell_type": "code",
   "execution_count": 8,
   "metadata": {},
   "outputs": [
    {
     "data": {
      "text/plain": [
       "{'__name__': '__main__',\n",
       " '__doc__': 'Automatically created module for IPython interactive environment',\n",
       " '__package__': None,\n",
       " '__loader__': None,\n",
       " '__spec__': None,\n",
       " '__builtin__': <module 'builtins' (built-in)>,\n",
       " '__builtins__': <module 'builtins' (built-in)>,\n",
       " '_ih': ['',\n",
       "  'get_ipython().run_cell_magic(\\'R\\', \\'\\', \"# Dplyr\\\\n# mutate() creates new variable(column)\\\\n# .keep=\\'none\\' will not return columns used to create new variable\\\\nmtcars_r |> rowwise() |> mutate(total=mean(c_across(everything())), .keep=\\'none\\') |>head(5)\\\\n\")',\n",
       "  '# !pip install pandas, rpy2',\n",
       "  'import pandas as pd\\nimport numpy as np',\n",
       "  \"# enable ipython R magic commands\\n# ensure that the R_HOME environmental variable is set to your R installation folder. eg. C:\\\\Program Files\\\\R\\\\R-4.4.0 or\\n\\n# Manually setting envrionment variable, if necessary\\n# import os\\n# os.environ['R_HOME'] = 'C:/Program Files/R/R-4.4.0'\\n\\nget_ipython().run_line_magic('load_ext', 'rpy2.ipython')\",\n",
       "  \"# load rpy2 for working with R within Python\\nimport rpy2.robjects as ro\\nfrom rpy2.robjects.packages import importr\\n\\nutils = importr('utils') # R utils for installing packages in R\",\n",
       "  \"# install dplyr, tibble in R, if necessary\\n# utils.install_packages('dplyr') # Note R commands like install.packages are translated to install_packages by rpy2\\n# utils.install_packages('tibble')\\n\\n# Alternative: Install tidyverse which installs several pacakges including dplyr, tibble, ggplot2 and others.\\n# utils.install_packages('tidyverse')\\n\\n#load dplyr (R's pandas equivalent)\\ndplyr = importr('dplyr')\\ntibble = importr('tibble')\",\n",
       "  '# Python\\nx= np.pi\\nprint(x)',\n",
       "  'locals()'],\n",
       " '_oh': {},\n",
       " '_dh': [WindowsPath('c:/Users/sjdud/OneDrive/Visual Studio/Rpy2 and R')],\n",
       " 'In': ['',\n",
       "  'get_ipython().run_cell_magic(\\'R\\', \\'\\', \"# Dplyr\\\\n# mutate() creates new variable(column)\\\\n# .keep=\\'none\\' will not return columns used to create new variable\\\\nmtcars_r |> rowwise() |> mutate(total=mean(c_across(everything())), .keep=\\'none\\') |>head(5)\\\\n\")',\n",
       "  '# !pip install pandas, rpy2',\n",
       "  'import pandas as pd\\nimport numpy as np',\n",
       "  \"# enable ipython R magic commands\\n# ensure that the R_HOME environmental variable is set to your R installation folder. eg. C:\\\\Program Files\\\\R\\\\R-4.4.0 or\\n\\n# Manually setting envrionment variable, if necessary\\n# import os\\n# os.environ['R_HOME'] = 'C:/Program Files/R/R-4.4.0'\\n\\nget_ipython().run_line_magic('load_ext', 'rpy2.ipython')\",\n",
       "  \"# load rpy2 for working with R within Python\\nimport rpy2.robjects as ro\\nfrom rpy2.robjects.packages import importr\\n\\nutils = importr('utils') # R utils for installing packages in R\",\n",
       "  \"# install dplyr, tibble in R, if necessary\\n# utils.install_packages('dplyr') # Note R commands like install.packages are translated to install_packages by rpy2\\n# utils.install_packages('tibble')\\n\\n# Alternative: Install tidyverse which installs several pacakges including dplyr, tibble, ggplot2 and others.\\n# utils.install_packages('tidyverse')\\n\\n#load dplyr (R's pandas equivalent)\\ndplyr = importr('dplyr')\\ntibble = importr('tibble')\",\n",
       "  '# Python\\nx= np.pi\\nprint(x)',\n",
       "  'locals()'],\n",
       " 'Out': {},\n",
       " 'get_ipython': <bound method InteractiveShell.get_ipython of <ipykernel.zmqshell.ZMQInteractiveShell object at 0x0000016A469C4210>>,\n",
       " 'exit': <IPython.core.autocall.ZMQExitAutocall at 0x16a469cc710>,\n",
       " 'quit': <IPython.core.autocall.ZMQExitAutocall at 0x16a469cc710>,\n",
       " 'open': <function io.open(file, mode='r', buffering=-1, encoding=None, errors=None, newline=None, closefd=True, opener=None)>,\n",
       " '_': '',\n",
       " '__': '',\n",
       " '___': '',\n",
       " '__vsc_ipynb_file__': \"c:\\\\Users\\\\sjdud\\\\OneDrive\\\\Visual Studio\\\\Rpy2 and R\\\\Comparison of Pandas vs R & Dplyr - from a Python user's perspective.ipynb\",\n",
       " '_i': '# Python\\nx= np.pi\\nprint(x)',\n",
       " '_ii': \"# install dplyr, tibble in R, if necessary\\n# utils.install_packages('dplyr') # Note R commands like install.packages are translated to install_packages by rpy2\\n# utils.install_packages('tibble')\\n\\n# Alternative: Install tidyverse which installs several pacakges including dplyr, tibble, ggplot2 and others.\\n# utils.install_packages('tidyverse')\\n\\n#load dplyr (R's pandas equivalent)\\ndplyr = importr('dplyr')\\ntibble = importr('tibble')\",\n",
       " '_iii': \"# load rpy2 for working with R within Python\\nimport rpy2.robjects as ro\\nfrom rpy2.robjects.packages import importr\\n\\nutils = importr('utils') # R utils for installing packages in R\",\n",
       " '_i1': \"%%R\\n# Dplyr\\n# mutate() creates new variable(column)\\n# .keep='none' will not return columns used to create new variable\\nmtcars_r |> rowwise() |> mutate(total=mean(c_across(everything())), .keep='none') |>head(5)\",\n",
       " '_i2': '# !pip install pandas, rpy2',\n",
       " '_i3': 'import pandas as pd\\nimport numpy as np',\n",
       " 'pd': <module 'pandas' from 'c:\\\\Users\\\\sjdud\\\\anaconda3\\\\envs\\\\rpy2\\\\Lib\\\\site-packages\\\\pandas\\\\__init__.py'>,\n",
       " 'np': <module 'numpy' from 'c:\\\\Users\\\\sjdud\\\\anaconda3\\\\envs\\\\rpy2\\\\Lib\\\\site-packages\\\\numpy\\\\__init__.py'>,\n",
       " '_i4': \"# enable ipython R magic commands\\n# ensure that the R_HOME environmental variable is set to your R installation folder. eg. C:\\\\Program Files\\\\R\\\\R-4.4.0 or\\n\\n# Manually setting envrionment variable, if necessary\\n# import os\\n# os.environ['R_HOME'] = 'C:/Program Files/R/R-4.4.0'\\n\\n%load_ext rpy2.ipython \",\n",
       " '_i5': \"# load rpy2 for working with R within Python\\nimport rpy2.robjects as ro\\nfrom rpy2.robjects.packages import importr\\n\\nutils = importr('utils') # R utils for installing packages in R\",\n",
       " 'ro': <module 'rpy2.robjects' from 'c:\\\\Users\\\\sjdud\\\\anaconda3\\\\envs\\\\rpy2\\\\Lib\\\\site-packages\\\\rpy2\\\\robjects\\\\__init__.py'>,\n",
       " 'importr': <function rpy2.robjects.packages.importr(name: str, lib_loc=None, robject_translations={}, signature_translation=True, suppress_messages=True, on_conflict='fail', symbol_r2python=<function default_symbol_r2python at 0x0000016A47E91940>, symbol_resolve=<function default_symbol_resolve at 0x0000016A47E919E0>, data=True)>,\n",
       " 'utils': rpy2.robjects.packages.Package as a <module 'utils'>,\n",
       " '_i6': \"# install dplyr, tibble in R, if necessary\\n# utils.install_packages('dplyr') # Note R commands like install.packages are translated to install_packages by rpy2\\n# utils.install_packages('tibble')\\n\\n# Alternative: Install tidyverse which installs several pacakges including dplyr, tibble, ggplot2 and others.\\n# utils.install_packages('tidyverse')\\n\\n#load dplyr (R's pandas equivalent)\\ndplyr = importr('dplyr')\\ntibble = importr('tibble')\",\n",
       " 'dplyr': rpy2.robjects.packages.Package as a <module 'dplyr'>,\n",
       " 'tibble': rpy2.robjects.packages.Package as a <module 'tibble'>,\n",
       " '_i7': '# Python\\nx= np.pi\\nprint(x)',\n",
       " 'x': 3.141592653589793,\n",
       " '_i8': 'locals()'}"
      ]
     },
     "execution_count": 8,
     "metadata": {},
     "output_type": "execute_result"
    }
   ],
   "source": [
    "locals()"
   ]
  },
  {
   "cell_type": "code",
   "execution_count": 9,
   "metadata": {},
   "outputs": [
    {
     "data": {
      "text/plain": [
       "array([3.14159265])"
      ]
     },
     "execution_count": 9,
     "metadata": {},
     "output_type": "execute_result"
    }
   ],
   "source": [
    "# Running inline R code\n",
    "%R my_pi <- pi # This is inline R code (base::pi). pi is in-built in R"
   ]
  },
  {
   "cell_type": "code",
   "execution_count": 10,
   "metadata": {},
   "outputs": [
    {
     "name": "stdout",
     "output_type": "stream",
     "text": [
      "[1] 3.141593\n"
     ]
    }
   ],
   "source": [
    "%%R\n",
    "my_pi # running R code in a cell"
   ]
  },
  {
   "cell_type": "code",
   "execution_count": 11,
   "metadata": {},
   "outputs": [
    {
     "name": "stdout",
     "output_type": "stream",
     "text": [
      "[1] \"my_pi\"\n"
     ]
    }
   ],
   "source": [
    "%%R\n",
    "ls() # View the R environment namespace"
   ]
  },
  {
   "cell_type": "markdown",
   "metadata": {},
   "source": [
    "## Loading Datasets"
   ]
  },
  {
   "cell_type": "code",
   "execution_count": 12,
   "metadata": {},
   "outputs": [
    {
     "name": "stdout",
     "output_type": "stream",
     "text": [
      "                   mpg cyl disp  hp drat    wt  qsec vs am gear carb\n",
      "Mazda RX4         21.0   6  160 110 3.90 2.620 16.46  0  1    4    4\n",
      "Mazda RX4 Wag     21.0   6  160 110 3.90 2.875 17.02  0  1    4    4\n",
      "Datsun 710        22.8   4  108  93 3.85 2.320 18.61  1  1    4    1\n",
      "Hornet 4 Drive    21.4   6  258 110 3.08 3.215 19.44  1  0    3    1\n",
      "Hornet Sportabout 18.7   8  360 175 3.15 3.440 17.02  0  0    3    2\n"
     ]
    }
   ],
   "source": [
    "%%R\n",
    "# R: mtcars dataset is built-in in R\n",
    "data(mtcars) # loading built-in dataset\n",
    "mtcars_r <- mtcars # variable assignment\n",
    "head(mtcars_r, 5) # or mtcars r %>% head(5) or mtcars_r |> head(5)"
   ]
  },
  {
   "cell_type": "code",
   "execution_count": 13,
   "metadata": {},
   "outputs": [
    {
     "data": {
      "text/html": [
       "<div>\n",
       "<style scoped>\n",
       "    .dataframe tbody tr th:only-of-type {\n",
       "        vertical-align: middle;\n",
       "    }\n",
       "\n",
       "    .dataframe tbody tr th {\n",
       "        vertical-align: top;\n",
       "    }\n",
       "\n",
       "    .dataframe thead th {\n",
       "        text-align: right;\n",
       "    }\n",
       "</style>\n",
       "<table border=\"1\" class=\"dataframe\">\n",
       "  <thead>\n",
       "    <tr style=\"text-align: right;\">\n",
       "      <th></th>\n",
       "      <th>mpg</th>\n",
       "      <th>cyl</th>\n",
       "      <th>disp</th>\n",
       "      <th>hp</th>\n",
       "      <th>drat</th>\n",
       "      <th>wt</th>\n",
       "      <th>qsec</th>\n",
       "      <th>vs</th>\n",
       "      <th>am</th>\n",
       "      <th>gear</th>\n",
       "      <th>carb</th>\n",
       "    </tr>\n",
       "  </thead>\n",
       "  <tbody>\n",
       "    <tr>\n",
       "      <th>Mazda RX4</th>\n",
       "      <td>21.0</td>\n",
       "      <td>6.0</td>\n",
       "      <td>160.0</td>\n",
       "      <td>110.0</td>\n",
       "      <td>3.90</td>\n",
       "      <td>2.620</td>\n",
       "      <td>16.46</td>\n",
       "      <td>0.0</td>\n",
       "      <td>1.0</td>\n",
       "      <td>4.0</td>\n",
       "      <td>4.0</td>\n",
       "    </tr>\n",
       "    <tr>\n",
       "      <th>Mazda RX4 Wag</th>\n",
       "      <td>21.0</td>\n",
       "      <td>6.0</td>\n",
       "      <td>160.0</td>\n",
       "      <td>110.0</td>\n",
       "      <td>3.90</td>\n",
       "      <td>2.875</td>\n",
       "      <td>17.02</td>\n",
       "      <td>0.0</td>\n",
       "      <td>1.0</td>\n",
       "      <td>4.0</td>\n",
       "      <td>4.0</td>\n",
       "    </tr>\n",
       "    <tr>\n",
       "      <th>Datsun 710</th>\n",
       "      <td>22.8</td>\n",
       "      <td>4.0</td>\n",
       "      <td>108.0</td>\n",
       "      <td>93.0</td>\n",
       "      <td>3.85</td>\n",
       "      <td>2.320</td>\n",
       "      <td>18.61</td>\n",
       "      <td>1.0</td>\n",
       "      <td>1.0</td>\n",
       "      <td>4.0</td>\n",
       "      <td>1.0</td>\n",
       "    </tr>\n",
       "    <tr>\n",
       "      <th>Hornet 4 Drive</th>\n",
       "      <td>21.4</td>\n",
       "      <td>6.0</td>\n",
       "      <td>258.0</td>\n",
       "      <td>110.0</td>\n",
       "      <td>3.08</td>\n",
       "      <td>3.215</td>\n",
       "      <td>19.44</td>\n",
       "      <td>1.0</td>\n",
       "      <td>0.0</td>\n",
       "      <td>3.0</td>\n",
       "      <td>1.0</td>\n",
       "    </tr>\n",
       "    <tr>\n",
       "      <th>Hornet Sportabout</th>\n",
       "      <td>18.7</td>\n",
       "      <td>8.0</td>\n",
       "      <td>360.0</td>\n",
       "      <td>175.0</td>\n",
       "      <td>3.15</td>\n",
       "      <td>3.440</td>\n",
       "      <td>17.02</td>\n",
       "      <td>0.0</td>\n",
       "      <td>0.0</td>\n",
       "      <td>3.0</td>\n",
       "      <td>2.0</td>\n",
       "    </tr>\n",
       "  </tbody>\n",
       "</table>\n",
       "</div>"
      ],
      "text/plain": [
       "                    mpg  cyl   disp     hp  drat     wt   qsec   vs   am  \\\n",
       "Mazda RX4          21.0  6.0  160.0  110.0  3.90  2.620  16.46  0.0  1.0   \n",
       "Mazda RX4 Wag      21.0  6.0  160.0  110.0  3.90  2.875  17.02  0.0  1.0   \n",
       "Datsun 710         22.8  4.0  108.0   93.0  3.85  2.320  18.61  1.0  1.0   \n",
       "Hornet 4 Drive     21.4  6.0  258.0  110.0  3.08  3.215  19.44  1.0  0.0   \n",
       "Hornet Sportabout  18.7  8.0  360.0  175.0  3.15  3.440  17.02  0.0  0.0   \n",
       "\n",
       "                   gear  carb  \n",
       "Mazda RX4           4.0   4.0  \n",
       "Mazda RX4 Wag       4.0   4.0  \n",
       "Datsun 710          4.0   1.0  \n",
       "Hornet 4 Drive      3.0   1.0  \n",
       "Hornet Sportabout   3.0   2.0  "
      ]
     },
     "execution_count": 13,
     "metadata": {},
     "output_type": "execute_result"
    }
   ],
   "source": [
    "# Python. converting an R dataframe to Pandas dataframe\n",
    "from rpy2.robjects import pandas2ri\n",
    "\n",
    "r = ro.r\n",
    "\n",
    "# Recommended method of converting R to Pandas and vice versa using a context manager\n",
    "with (ro.default_converter + pandas2ri.converter).context():\n",
    "    mtcars_pd = ro.conversion.get_conversion().rpy2py(r('mtcars_r'))\n",
    "\n",
    "mtcars_pd.head()"
   ]
  },
  {
   "cell_type": "code",
   "execution_count": 14,
   "metadata": {},
   "outputs": [
    {
     "data": {
      "text/html": [
       "\n",
       "        <span>R/rpy2 DataFrame (3 x 11)</span>\n",
       "        <table>\n",
       "          <thead>\n",
       "            <tr>\n",
       "              \n",
       "              <th>mpg</th>\n",
       "              \n",
       "              <th>cyl</th>\n",
       "              \n",
       "              <th>disp</th>\n",
       "              \n",
       "              <th>...</th>\n",
       "              \n",
       "              <th>am</th>\n",
       "              \n",
       "              <th>gear</th>\n",
       "              \n",
       "              <th>carb</th>\n",
       "              \n",
       "            </tr>\n",
       "          </thead>\n",
       "          <tbody>\n",
       "          \n",
       "          <tr>\n",
       "            \n",
       "            <td>\n",
       "              21.000000\n",
       "            </td>\n",
       "            \n",
       "            <td>\n",
       "              6.000000\n",
       "            </td>\n",
       "            \n",
       "            <td>\n",
       "              160.000000\n",
       "            </td>\n",
       "            \n",
       "            <td>\n",
       "              ...\n",
       "            </td>\n",
       "            \n",
       "            <td>\n",
       "              1.000000\n",
       "            </td>\n",
       "            \n",
       "            <td>\n",
       "              4.000000\n",
       "            </td>\n",
       "            \n",
       "            <td>\n",
       "              4.000000\n",
       "            </td>\n",
       "            \n",
       "          </tr>\n",
       "          \n",
       "          <tr>\n",
       "            \n",
       "            <td>\n",
       "              21.000000\n",
       "            </td>\n",
       "            \n",
       "            <td>\n",
       "              6.000000\n",
       "            </td>\n",
       "            \n",
       "            <td>\n",
       "              160.000000\n",
       "            </td>\n",
       "            \n",
       "            <td>\n",
       "              \n",
       "            </td>\n",
       "            \n",
       "            <td>\n",
       "              1.000000\n",
       "            </td>\n",
       "            \n",
       "            <td>\n",
       "              4.000000\n",
       "            </td>\n",
       "            \n",
       "            <td>\n",
       "              4.000000\n",
       "            </td>\n",
       "            \n",
       "          </tr>\n",
       "          \n",
       "          <tr>\n",
       "            \n",
       "            <td>\n",
       "              22.800000\n",
       "            </td>\n",
       "            \n",
       "            <td>\n",
       "              4.000000\n",
       "            </td>\n",
       "            \n",
       "            <td>\n",
       "              108.000000\n",
       "            </td>\n",
       "            \n",
       "            <td>\n",
       "              \n",
       "            </td>\n",
       "            \n",
       "            <td>\n",
       "              1.000000\n",
       "            </td>\n",
       "            \n",
       "            <td>\n",
       "              4.000000\n",
       "            </td>\n",
       "            \n",
       "            <td>\n",
       "              1.000000\n",
       "            </td>\n",
       "            \n",
       "          </tr>\n",
       "          \n",
       "          </tbody>\n",
       "        </table>\n",
       "    "
      ],
      "text/plain": [
       "<rpy2.robjects.vectors.DataFrame object at 0x0000016A4C7A7C90> [19]\n",
       "R classes: ('data.frame',)\n",
       "[FloatSexp..., FloatSexp..., FloatSexp..., FloatSexp..., ..., FloatSexp..., FloatSexp..., FloatSexp..., FloatSexp...]\n",
       "  mpg: <class 'rpy2.robjects.vectors.FloatVector'>\n",
       "  <rpy2.robjects.vectors.FloatVector object at 0x0000016A47E94890> [14]\n",
       "R classes: ('numeric',)\n",
       "[21.000000, 21.000000, 22.800000]\n",
       "  cyl: <class 'rpy2.robjects.vectors.FloatVector'>\n",
       "  <rpy2.robjects.vectors.FloatVector object at 0x0000016A4F972850> [14]\n",
       "R classes: ('numeric',)\n",
       "[6.000000, 6.000000, 4.000000]\n",
       "  disp: <class 'rpy2.robjects.vectors.FloatVector'>\n",
       "  <rpy2.robjects.vectors.FloatVector object at 0x0000016A4F9ACE50> [14]\n",
       "R classes: ('numeric',)\n",
       "[160.000000, 160.000000, 108.000000]\n",
       "  hp: <class 'rpy2.robjects.vectors.FloatVector'>\n",
       "  <rpy2.robjects.vectors.FloatVector object at 0x0000016A4F9AF7D0> [14]\n",
       "R classes: ('numeric',)\n",
       "[110.000000, 110.000000, 93.000000]\n",
       "...\n",
       "  wt: <class 'rpy2.robjects.vectors.FloatVector'>\n",
       "  <rpy2.robjects.vectors.FloatVector object at 0x0000016A4F9AF0D0> [14]\n",
       "R classes: ('numeric',)\n",
       "[0.000000, 0.000000, 1.000000]\n",
       "  qsec: <class 'rpy2.robjects.vectors.FloatVector'>\n",
       "  <rpy2.robjects.vectors.FloatVector object at 0x0000016A4F9AF090> [14]\n",
       "R classes: ('numeric',)\n",
       "[1.000000, 1.000000, 1.000000]\n",
       "  vs: <class 'rpy2.robjects.vectors.FloatVector'>\n",
       "  <rpy2.robjects.vectors.FloatVector object at 0x0000016A4F9AEA50> [14]\n",
       "R classes: ('numeric',)\n",
       "[4.000000, 4.000000, 4.000000]\n",
       "  am: <class 'rpy2.robjects.vectors.FloatVector'>\n",
       "  <rpy2.robjects.vectors.FloatVector object at 0x0000016A4F9AE350> [14]\n",
       "R classes: ('numeric',)\n",
       "[4.000000, 4.000000, 1.000000]"
      ]
     },
     "execution_count": 14,
     "metadata": {},
     "output_type": "execute_result"
    }
   ],
   "source": [
    "# Access R Namespace from Python\n",
    "r = ro.r\n",
    "r('mtcars_r |> head(3)') # input is a string containing R commands"
   ]
  },
  {
   "cell_type": "markdown",
   "metadata": {},
   "source": [
    "## Assigning R objects to Python namespace\n",
    "* Interoperability with pandas documentation: https://rpy2.github.io/doc/latest/html/pandas.html"
   ]
  },
  {
   "cell_type": "code",
   "execution_count": 15,
   "metadata": {},
   "outputs": [
    {
     "name": "stdout",
     "output_type": "stream",
     "text": [
      "[1] 3.141593\n",
      "\n",
      "3.141592653589793\n"
     ]
    }
   ],
   "source": [
    "r_pi = r('pi')\n",
    "print(r_pi) # Note: Array of length 1\n",
    "print(r_pi[0]) # To access the actual values, the array must be indexed"
   ]
  },
  {
   "cell_type": "markdown",
   "metadata": {},
   "source": [
    "### R Dataframe to Python/Pandas Dataframe"
   ]
  },
  {
   "cell_type": "code",
   "execution_count": 16,
   "metadata": {},
   "outputs": [
    {
     "name": "stdout",
     "output_type": "stream",
     "text": [
      "<class 'rpy2.robjects.vectors.DataFrame'>\n"
     ]
    },
    {
     "data": {
      "text/html": [
       "\n",
       "        <span>R/rpy2 DataFrame (32 x 11)</span>\n",
       "        <table>\n",
       "          <thead>\n",
       "            <tr>\n",
       "              \n",
       "              <th>mpg</th>\n",
       "              \n",
       "              <th>cyl</th>\n",
       "              \n",
       "              <th>disp</th>\n",
       "              \n",
       "              <th>...</th>\n",
       "              \n",
       "              <th>am</th>\n",
       "              \n",
       "              <th>gear</th>\n",
       "              \n",
       "              <th>carb</th>\n",
       "              \n",
       "            </tr>\n",
       "          </thead>\n",
       "          <tbody>\n",
       "          \n",
       "          <tr>\n",
       "            \n",
       "            <td>\n",
       "              21.000000\n",
       "            </td>\n",
       "            \n",
       "            <td>\n",
       "              6.000000\n",
       "            </td>\n",
       "            \n",
       "            <td>\n",
       "              160.000000\n",
       "            </td>\n",
       "            \n",
       "            <td>\n",
       "              ...\n",
       "            </td>\n",
       "            \n",
       "            <td>\n",
       "              1.000000\n",
       "            </td>\n",
       "            \n",
       "            <td>\n",
       "              4.000000\n",
       "            </td>\n",
       "            \n",
       "            <td>\n",
       "              4.000000\n",
       "            </td>\n",
       "            \n",
       "          </tr>\n",
       "          \n",
       "          <tr>\n",
       "            \n",
       "            <td>\n",
       "              21.000000\n",
       "            </td>\n",
       "            \n",
       "            <td>\n",
       "              6.000000\n",
       "            </td>\n",
       "            \n",
       "            <td>\n",
       "              160.000000\n",
       "            </td>\n",
       "            \n",
       "            <td>\n",
       "              \n",
       "            </td>\n",
       "            \n",
       "            <td>\n",
       "              1.000000\n",
       "            </td>\n",
       "            \n",
       "            <td>\n",
       "              4.000000\n",
       "            </td>\n",
       "            \n",
       "            <td>\n",
       "              4.000000\n",
       "            </td>\n",
       "            \n",
       "          </tr>\n",
       "          \n",
       "          <tr>\n",
       "            \n",
       "            <td>\n",
       "              22.800000\n",
       "            </td>\n",
       "            \n",
       "            <td>\n",
       "              4.000000\n",
       "            </td>\n",
       "            \n",
       "            <td>\n",
       "              108.000000\n",
       "            </td>\n",
       "            \n",
       "            <td>\n",
       "              \n",
       "            </td>\n",
       "            \n",
       "            <td>\n",
       "              1.000000\n",
       "            </td>\n",
       "            \n",
       "            <td>\n",
       "              4.000000\n",
       "            </td>\n",
       "            \n",
       "            <td>\n",
       "              1.000000\n",
       "            </td>\n",
       "            \n",
       "          </tr>\n",
       "          \n",
       "          <tr>\n",
       "            \n",
       "            <td>\n",
       "              21.400000\n",
       "            </td>\n",
       "            \n",
       "            <td>\n",
       "              6.000000\n",
       "            </td>\n",
       "            \n",
       "            <td>\n",
       "              258.000000\n",
       "            </td>\n",
       "            \n",
       "            <td>\n",
       "              \n",
       "            </td>\n",
       "            \n",
       "            <td>\n",
       "              0.000000\n",
       "            </td>\n",
       "            \n",
       "            <td>\n",
       "              3.000000\n",
       "            </td>\n",
       "            \n",
       "            <td>\n",
       "              1.000000\n",
       "            </td>\n",
       "            \n",
       "          </tr>\n",
       "          \n",
       "          <tr>\n",
       "            \n",
       "            <td>\n",
       "              ...\n",
       "            </td>\n",
       "            \n",
       "            <td>\n",
       "              ...\n",
       "            </td>\n",
       "            \n",
       "            <td>\n",
       "              ...\n",
       "            </td>\n",
       "            \n",
       "            <td>\n",
       "              \n",
       "            </td>\n",
       "            \n",
       "            <td>\n",
       "              ...\n",
       "            </td>\n",
       "            \n",
       "            <td>\n",
       "              ...\n",
       "            </td>\n",
       "            \n",
       "            <td>\n",
       "              ...\n",
       "            </td>\n",
       "            \n",
       "          </tr>\n",
       "          \n",
       "          <tr>\n",
       "            \n",
       "            <td>\n",
       "              15.800000\n",
       "            </td>\n",
       "            \n",
       "            <td>\n",
       "              8.000000\n",
       "            </td>\n",
       "            \n",
       "            <td>\n",
       "              351.000000\n",
       "            </td>\n",
       "            \n",
       "            <td>\n",
       "              \n",
       "            </td>\n",
       "            \n",
       "            <td>\n",
       "              1.000000\n",
       "            </td>\n",
       "            \n",
       "            <td>\n",
       "              5.000000\n",
       "            </td>\n",
       "            \n",
       "            <td>\n",
       "              4.000000\n",
       "            </td>\n",
       "            \n",
       "          </tr>\n",
       "          \n",
       "          <tr>\n",
       "            \n",
       "            <td>\n",
       "              19.700000\n",
       "            </td>\n",
       "            \n",
       "            <td>\n",
       "              6.000000\n",
       "            </td>\n",
       "            \n",
       "            <td>\n",
       "              145.000000\n",
       "            </td>\n",
       "            \n",
       "            <td>\n",
       "              \n",
       "            </td>\n",
       "            \n",
       "            <td>\n",
       "              1.000000\n",
       "            </td>\n",
       "            \n",
       "            <td>\n",
       "              5.000000\n",
       "            </td>\n",
       "            \n",
       "            <td>\n",
       "              6.000000\n",
       "            </td>\n",
       "            \n",
       "          </tr>\n",
       "          \n",
       "          <tr>\n",
       "            \n",
       "            <td>\n",
       "              15.000000\n",
       "            </td>\n",
       "            \n",
       "            <td>\n",
       "              8.000000\n",
       "            </td>\n",
       "            \n",
       "            <td>\n",
       "              301.000000\n",
       "            </td>\n",
       "            \n",
       "            <td>\n",
       "              \n",
       "            </td>\n",
       "            \n",
       "            <td>\n",
       "              1.000000\n",
       "            </td>\n",
       "            \n",
       "            <td>\n",
       "              5.000000\n",
       "            </td>\n",
       "            \n",
       "            <td>\n",
       "              8.000000\n",
       "            </td>\n",
       "            \n",
       "          </tr>\n",
       "          \n",
       "          <tr>\n",
       "            \n",
       "            <td>\n",
       "              21.400000\n",
       "            </td>\n",
       "            \n",
       "            <td>\n",
       "              4.000000\n",
       "            </td>\n",
       "            \n",
       "            <td>\n",
       "              121.000000\n",
       "            </td>\n",
       "            \n",
       "            <td>\n",
       "              \n",
       "            </td>\n",
       "            \n",
       "            <td>\n",
       "              1.000000\n",
       "            </td>\n",
       "            \n",
       "            <td>\n",
       "              4.000000\n",
       "            </td>\n",
       "            \n",
       "            <td>\n",
       "              2.000000\n",
       "            </td>\n",
       "            \n",
       "          </tr>\n",
       "          \n",
       "          </tbody>\n",
       "        </table>\n",
       "    "
      ],
      "text/plain": [
       "<rpy2.robjects.vectors.DataFrame object at 0x0000016A4F99BC50> [19]\n",
       "R classes: ('data.frame',)\n",
       "[FloatSexp..., FloatSexp..., FloatSexp..., FloatSexp..., ..., FloatSexp..., FloatSexp..., FloatSexp..., FloatSexp...]\n",
       "  mpg: <class 'rpy2.robjects.vectors.FloatVector'>\n",
       "  <rpy2.robjects.vectors.FloatVector object at 0x0000016A4F9C97D0> [14]\n",
       "R classes: ('numeric',)\n",
       "[21.000000, 21.000000, 22.800000, 21.400000, ..., 15.800000, 19.700000, 15.000000, 21.400000]\n",
       "  cyl: <class 'rpy2.robjects.vectors.FloatVector'>\n",
       "  <rpy2.robjects.vectors.FloatVector object at 0x0000016A4F9C9650> [14]\n",
       "R classes: ('numeric',)\n",
       "[6.000000, 6.000000, 4.000000, 6.000000, ..., 8.000000, 6.000000, 8.000000, 4.000000]\n",
       "  disp: <class 'rpy2.robjects.vectors.FloatVector'>\n",
       "  <rpy2.robjects.vectors.FloatVector object at 0x0000016A4F9C9DD0> [14]\n",
       "R classes: ('numeric',)\n",
       "[160.000000, 160.000000, 108.000000, 258.000000, ..., 351.000000, 145.000000, 301.000000, 121.000000]\n",
       "  hp: <class 'rpy2.robjects.vectors.FloatVector'>\n",
       "  <rpy2.robjects.vectors.FloatVector object at 0x0000016A4F9CA050> [14]\n",
       "R classes: ('numeric',)\n",
       "[110.000000, 110.000000, 93.000000, 110.000000, ..., 264.000000, 175.000000, 335.000000, 109.000000]\n",
       "...\n",
       "  wt: <class 'rpy2.robjects.vectors.FloatVector'>\n",
       "  <rpy2.robjects.vectors.FloatVector object at 0x0000016A4F9CA410> [14]\n",
       "R classes: ('numeric',)\n",
       "[0.000000, 0.000000, 1.000000, 1.000000, ..., 0.000000, 0.000000, 0.000000, 1.000000]\n",
       "  qsec: <class 'rpy2.robjects.vectors.FloatVector'>\n",
       "  <rpy2.robjects.vectors.FloatVector object at 0x0000016A4F9CA590> [14]\n",
       "R classes: ('numeric',)\n",
       "[1.000000, 1.000000, 1.000000, 0.000000, ..., 1.000000, 1.000000, 1.000000, 1.000000]\n",
       "  vs: <class 'rpy2.robjects.vectors.FloatVector'>\n",
       "  <rpy2.robjects.vectors.FloatVector object at 0x0000016A4F9CA850> [14]\n",
       "R classes: ('numeric',)\n",
       "[4.000000, 4.000000, 4.000000, 3.000000, ..., 5.000000, 5.000000, 5.000000, 4.000000]\n",
       "  am: <class 'rpy2.robjects.vectors.FloatVector'>\n",
       "  <rpy2.robjects.vectors.FloatVector object at 0x0000016A4F9CAAD0> [14]\n",
       "R classes: ('numeric',)\n",
       "[4.000000, 4.000000, 1.000000, 1.000000, ..., 4.000000, 6.000000, 8.000000, 2.000000]"
      ]
     },
     "execution_count": 16,
     "metadata": {},
     "output_type": "execute_result"
    }
   ],
   "source": [
    "r_mt_rdf = r('mtcars_r')\n",
    "print(type(r_mt_rdf))\n",
    "r_mt_rdf # Note: This is an R dataframe, not a Pandas dataframe"
   ]
  },
  {
   "cell_type": "code",
   "execution_count": 17,
   "metadata": {},
   "outputs": [
    {
     "name": "stdout",
     "output_type": "stream",
     "text": [
      "<class 'pandas.core.frame.DataFrame'>\n"
     ]
    },
    {
     "data": {
      "text/html": [
       "<div>\n",
       "<style scoped>\n",
       "    .dataframe tbody tr th:only-of-type {\n",
       "        vertical-align: middle;\n",
       "    }\n",
       "\n",
       "    .dataframe tbody tr th {\n",
       "        vertical-align: top;\n",
       "    }\n",
       "\n",
       "    .dataframe thead th {\n",
       "        text-align: right;\n",
       "    }\n",
       "</style>\n",
       "<table border=\"1\" class=\"dataframe\">\n",
       "  <thead>\n",
       "    <tr style=\"text-align: right;\">\n",
       "      <th></th>\n",
       "      <th>mpg</th>\n",
       "      <th>cyl</th>\n",
       "      <th>disp</th>\n",
       "      <th>hp</th>\n",
       "      <th>drat</th>\n",
       "      <th>wt</th>\n",
       "      <th>qsec</th>\n",
       "      <th>vs</th>\n",
       "      <th>am</th>\n",
       "      <th>gear</th>\n",
       "      <th>carb</th>\n",
       "    </tr>\n",
       "  </thead>\n",
       "  <tbody>\n",
       "    <tr>\n",
       "      <th>Mazda RX4</th>\n",
       "      <td>21.0</td>\n",
       "      <td>6.0</td>\n",
       "      <td>160.0</td>\n",
       "      <td>110.0</td>\n",
       "      <td>3.90</td>\n",
       "      <td>2.620</td>\n",
       "      <td>16.46</td>\n",
       "      <td>0.0</td>\n",
       "      <td>1.0</td>\n",
       "      <td>4.0</td>\n",
       "      <td>4.0</td>\n",
       "    </tr>\n",
       "    <tr>\n",
       "      <th>Mazda RX4 Wag</th>\n",
       "      <td>21.0</td>\n",
       "      <td>6.0</td>\n",
       "      <td>160.0</td>\n",
       "      <td>110.0</td>\n",
       "      <td>3.90</td>\n",
       "      <td>2.875</td>\n",
       "      <td>17.02</td>\n",
       "      <td>0.0</td>\n",
       "      <td>1.0</td>\n",
       "      <td>4.0</td>\n",
       "      <td>4.0</td>\n",
       "    </tr>\n",
       "    <tr>\n",
       "      <th>Datsun 710</th>\n",
       "      <td>22.8</td>\n",
       "      <td>4.0</td>\n",
       "      <td>108.0</td>\n",
       "      <td>93.0</td>\n",
       "      <td>3.85</td>\n",
       "      <td>2.320</td>\n",
       "      <td>18.61</td>\n",
       "      <td>1.0</td>\n",
       "      <td>1.0</td>\n",
       "      <td>4.0</td>\n",
       "      <td>1.0</td>\n",
       "    </tr>\n",
       "    <tr>\n",
       "      <th>Hornet 4 Drive</th>\n",
       "      <td>21.4</td>\n",
       "      <td>6.0</td>\n",
       "      <td>258.0</td>\n",
       "      <td>110.0</td>\n",
       "      <td>3.08</td>\n",
       "      <td>3.215</td>\n",
       "      <td>19.44</td>\n",
       "      <td>1.0</td>\n",
       "      <td>0.0</td>\n",
       "      <td>3.0</td>\n",
       "      <td>1.0</td>\n",
       "    </tr>\n",
       "    <tr>\n",
       "      <th>Hornet Sportabout</th>\n",
       "      <td>18.7</td>\n",
       "      <td>8.0</td>\n",
       "      <td>360.0</td>\n",
       "      <td>175.0</td>\n",
       "      <td>3.15</td>\n",
       "      <td>3.440</td>\n",
       "      <td>17.02</td>\n",
       "      <td>0.0</td>\n",
       "      <td>0.0</td>\n",
       "      <td>3.0</td>\n",
       "      <td>2.0</td>\n",
       "    </tr>\n",
       "  </tbody>\n",
       "</table>\n",
       "</div>"
      ],
      "text/plain": [
       "                    mpg  cyl   disp     hp  drat     wt   qsec   vs   am  \\\n",
       "Mazda RX4          21.0  6.0  160.0  110.0  3.90  2.620  16.46  0.0  1.0   \n",
       "Mazda RX4 Wag      21.0  6.0  160.0  110.0  3.90  2.875  17.02  0.0  1.0   \n",
       "Datsun 710         22.8  4.0  108.0   93.0  3.85  2.320  18.61  1.0  1.0   \n",
       "Hornet 4 Drive     21.4  6.0  258.0  110.0  3.08  3.215  19.44  1.0  0.0   \n",
       "Hornet Sportabout  18.7  8.0  360.0  175.0  3.15  3.440  17.02  0.0  0.0   \n",
       "\n",
       "                   gear  carb  \n",
       "Mazda RX4           4.0   4.0  \n",
       "Mazda RX4 Wag       4.0   4.0  \n",
       "Datsun 710          4.0   1.0  \n",
       "Hornet 4 Drive      3.0   1.0  \n",
       "Hornet Sportabout   3.0   2.0  "
      ]
     },
     "execution_count": 17,
     "metadata": {},
     "output_type": "execute_result"
    }
   ],
   "source": [
    "# Converting an R dataframe to Pandas dataframe\n",
    "from rpy2.robjects import pandas2ri\n",
    "import rpy2.robjects as ro\n",
    "\n",
    "# Recommended method of converting R to Pandas and vice versa using a context manager\n",
    "with (ro.default_converter + pandas2ri.converter).context():\n",
    "    r_mt_pdf = ro.conversion.get_conversion().rpy2py(r('mtcars_r'))\n",
    "\n",
    "print(type(r_mt_pdf)) # Pandas dataframe that has been converted from R dataframe\n",
    "r_mt_pdf.head()"
   ]
  },
  {
   "cell_type": "markdown",
   "metadata": {},
   "source": [
    "## Assigning Python objects to R namespace"
   ]
  },
  {
   "cell_type": "code",
   "execution_count": 18,
   "metadata": {},
   "outputs": [
    {
     "data": {
      "text/plain": [
       "array([31.41592654])"
      ]
     },
     "execution_count": 18,
     "metadata": {},
     "output_type": "execute_result"
    }
   ],
   "source": [
    "ro.globalenv['python_pi10'] = np.pi * 10\n",
    "%R python_pi10"
   ]
  },
  {
   "cell_type": "markdown",
   "metadata": {},
   "source": [
    "### Pandas Dataframe to R objects in R namespace"
   ]
  },
  {
   "cell_type": "code",
   "execution_count": 19,
   "metadata": {},
   "outputs": [
    {
     "data": {
      "text/html": [
       "\n",
       "        <span>R/rpy2 DataFrame (5 x 11)</span>\n",
       "        <table>\n",
       "          <thead>\n",
       "            <tr>\n",
       "              \n",
       "              <th>mpg</th>\n",
       "              \n",
       "              <th>cyl</th>\n",
       "              \n",
       "              <th>disp</th>\n",
       "              \n",
       "              <th>...</th>\n",
       "              \n",
       "              <th>am</th>\n",
       "              \n",
       "              <th>gear</th>\n",
       "              \n",
       "              <th>carb</th>\n",
       "              \n",
       "            </tr>\n",
       "          </thead>\n",
       "          <tbody>\n",
       "          \n",
       "          <tr>\n",
       "            \n",
       "            <td>\n",
       "              21.000000\n",
       "            </td>\n",
       "            \n",
       "            <td>\n",
       "              6.000000\n",
       "            </td>\n",
       "            \n",
       "            <td>\n",
       "              160.000000\n",
       "            </td>\n",
       "            \n",
       "            <td>\n",
       "              ...\n",
       "            </td>\n",
       "            \n",
       "            <td>\n",
       "              1.000000\n",
       "            </td>\n",
       "            \n",
       "            <td>\n",
       "              4.000000\n",
       "            </td>\n",
       "            \n",
       "            <td>\n",
       "              4.000000\n",
       "            </td>\n",
       "            \n",
       "          </tr>\n",
       "          \n",
       "          <tr>\n",
       "            \n",
       "            <td>\n",
       "              21.000000\n",
       "            </td>\n",
       "            \n",
       "            <td>\n",
       "              6.000000\n",
       "            </td>\n",
       "            \n",
       "            <td>\n",
       "              160.000000\n",
       "            </td>\n",
       "            \n",
       "            <td>\n",
       "              \n",
       "            </td>\n",
       "            \n",
       "            <td>\n",
       "              1.000000\n",
       "            </td>\n",
       "            \n",
       "            <td>\n",
       "              4.000000\n",
       "            </td>\n",
       "            \n",
       "            <td>\n",
       "              4.000000\n",
       "            </td>\n",
       "            \n",
       "          </tr>\n",
       "          \n",
       "          <tr>\n",
       "            \n",
       "            <td>\n",
       "              22.800000\n",
       "            </td>\n",
       "            \n",
       "            <td>\n",
       "              4.000000\n",
       "            </td>\n",
       "            \n",
       "            <td>\n",
       "              108.000000\n",
       "            </td>\n",
       "            \n",
       "            <td>\n",
       "              \n",
       "            </td>\n",
       "            \n",
       "            <td>\n",
       "              1.000000\n",
       "            </td>\n",
       "            \n",
       "            <td>\n",
       "              4.000000\n",
       "            </td>\n",
       "            \n",
       "            <td>\n",
       "              1.000000\n",
       "            </td>\n",
       "            \n",
       "          </tr>\n",
       "          \n",
       "          <tr>\n",
       "            \n",
       "            <td>\n",
       "              21.400000\n",
       "            </td>\n",
       "            \n",
       "            <td>\n",
       "              6.000000\n",
       "            </td>\n",
       "            \n",
       "            <td>\n",
       "              258.000000\n",
       "            </td>\n",
       "            \n",
       "            <td>\n",
       "              \n",
       "            </td>\n",
       "            \n",
       "            <td>\n",
       "              0.000000\n",
       "            </td>\n",
       "            \n",
       "            <td>\n",
       "              3.000000\n",
       "            </td>\n",
       "            \n",
       "            <td>\n",
       "              1.000000\n",
       "            </td>\n",
       "            \n",
       "          </tr>\n",
       "          \n",
       "          <tr>\n",
       "            \n",
       "            <td>\n",
       "              18.700000\n",
       "            </td>\n",
       "            \n",
       "            <td>\n",
       "              8.000000\n",
       "            </td>\n",
       "            \n",
       "            <td>\n",
       "              360.000000\n",
       "            </td>\n",
       "            \n",
       "            <td>\n",
       "              \n",
       "            </td>\n",
       "            \n",
       "            <td>\n",
       "              0.000000\n",
       "            </td>\n",
       "            \n",
       "            <td>\n",
       "              3.000000\n",
       "            </td>\n",
       "            \n",
       "            <td>\n",
       "              2.000000\n",
       "            </td>\n",
       "            \n",
       "          </tr>\n",
       "          \n",
       "          </tbody>\n",
       "        </table>\n",
       "    "
      ],
      "text/plain": [
       "<rpy2.robjects.vectors.DataFrame object at 0x0000016A4F9CBE90> [19]\n",
       "R classes: ('data.frame',)\n",
       "[FloatSexp..., FloatSexp..., FloatSexp..., FloatSexp..., ..., FloatSexp..., FloatSexp..., FloatSexp..., FloatSexp...]\n",
       "  mpg: <class 'rpy2.robjects.vectors.FloatVector'>\n",
       "  <rpy2.robjects.vectors.FloatVector object at 0x0000016A4F9AEA10> [14]\n",
       "R classes: ('numeric',)\n",
       "[21.000000, 21.000000, 22.800000, 21.400000, 18.700000]\n",
       "  cyl: <class 'rpy2.robjects.vectors.FloatVector'>\n",
       "  <rpy2.robjects.vectors.FloatVector object at 0x0000016A4F9ACE50> [14]\n",
       "R classes: ('numeric',)\n",
       "[6.000000, 6.000000, 4.000000, 6.000000, 8.000000]\n",
       "  disp: <class 'rpy2.robjects.vectors.FloatVector'>\n",
       "  <rpy2.robjects.vectors.FloatVector object at 0x0000016A4F9AF090> [14]\n",
       "R classes: ('numeric',)\n",
       "[160.000000, 160.000000, 108.000000, 258.000000, 360.000000]\n",
       "  hp: <class 'rpy2.robjects.vectors.FloatVector'>\n",
       "  <rpy2.robjects.vectors.FloatVector object at 0x0000016A4F9CD290> [14]\n",
       "R classes: ('numeric',)\n",
       "[110.000000, 110.000000, 93.000000, 110.000000, 175.000000]\n",
       "...\n",
       "  wt: <class 'rpy2.robjects.vectors.FloatVector'>\n",
       "  <rpy2.robjects.vectors.FloatVector object at 0x0000016A4F9CD610> [14]\n",
       "R classes: ('numeric',)\n",
       "[0.000000, 0.000000, 1.000000, 1.000000, 0.000000]\n",
       "  qsec: <class 'rpy2.robjects.vectors.FloatVector'>\n",
       "  <rpy2.robjects.vectors.FloatVector object at 0x0000016A4F9CD4D0> [14]\n",
       "R classes: ('numeric',)\n",
       "[1.000000, 1.000000, 1.000000, 0.000000, 0.000000]\n",
       "  vs: <class 'rpy2.robjects.vectors.FloatVector'>\n",
       "  <rpy2.robjects.vectors.FloatVector object at 0x0000016A4F9CD990> [14]\n",
       "R classes: ('numeric',)\n",
       "[4.000000, 4.000000, 4.000000, 3.000000, 3.000000]\n",
       "  am: <class 'rpy2.robjects.vectors.FloatVector'>\n",
       "  <rpy2.robjects.vectors.FloatVector object at 0x0000016A4F9CDC10> [14]\n",
       "R classes: ('numeric',)\n",
       "[4.000000, 4.000000, 1.000000, 1.000000, 2.000000]"
      ]
     },
     "execution_count": 19,
     "metadata": {},
     "output_type": "execute_result"
    }
   ],
   "source": [
    "# Recommended method of converting R to Pandas and vice versa using a context manager\n",
    "with (ro.default_converter + pandas2ri.converter).context():\n",
    "    ro.globalenv['p_mt_pdf'] = ro.conversion.get_conversion().py2rpy(mtcars_pd)\n",
    "\n",
    "r('p_mt_pdf |> head(5)')"
   ]
  },
  {
   "cell_type": "markdown",
   "metadata": {},
   "source": [
    "## R Pipe Operators ( |> and %>%)\n",
    "* Both operators allow a user to 'pipe' and object forward to a function or call expression, thereby allowing one to express a sequence of operations that transform an object.\n",
    "* Functionality between the two operators are identical except for a few differences.\n",
    "<br> Comparison documentation: https://www.tidyverse.org/blog/2023/04/base-vs-magrittr-pipe/"
   ]
  },
  {
   "cell_type": "markdown",
   "metadata": {},
   "source": [
    "| \\|> | %>% |\n",
    "|:-:|:-:|\n",
    "| Native R as of ver. 4.1.0 | Provided by magrittr package |\n",
    "| Cannot be used with R prior to ver. 4.1.0 | Works as long as magrittr package is installed |"
   ]
  },
  {
   "cell_type": "markdown",
   "metadata": {},
   "source": [
    "## Query, filtering, sampling"
   ]
  },
  {
   "cell_type": "markdown",
   "metadata": {},
   "source": [
    "### .shape"
   ]
  },
  {
   "cell_type": "code",
   "execution_count": 20,
   "metadata": {},
   "outputs": [
    {
     "data": {
      "text/plain": [
       "(32, 11)"
      ]
     },
     "execution_count": 20,
     "metadata": {},
     "output_type": "execute_result"
    }
   ],
   "source": [
    "mtcars_pd.shape"
   ]
  },
  {
   "cell_type": "code",
   "execution_count": 21,
   "metadata": {},
   "outputs": [
    {
     "name": "stdout",
     "output_type": "stream",
     "text": [
      "[1] 32 11\n"
     ]
    }
   ],
   "source": [
    "%%R\n",
    "# Standard R\n",
    "dim(mtcars_r)"
   ]
  },
  {
   "cell_type": "markdown",
   "metadata": {},
   "source": [
    "### .head()"
   ]
  },
  {
   "cell_type": "code",
   "execution_count": 22,
   "metadata": {},
   "outputs": [
    {
     "data": {
      "text/html": [
       "<div>\n",
       "<style scoped>\n",
       "    .dataframe tbody tr th:only-of-type {\n",
       "        vertical-align: middle;\n",
       "    }\n",
       "\n",
       "    .dataframe tbody tr th {\n",
       "        vertical-align: top;\n",
       "    }\n",
       "\n",
       "    .dataframe thead th {\n",
       "        text-align: right;\n",
       "    }\n",
       "</style>\n",
       "<table border=\"1\" class=\"dataframe\">\n",
       "  <thead>\n",
       "    <tr style=\"text-align: right;\">\n",
       "      <th></th>\n",
       "      <th>mpg</th>\n",
       "      <th>cyl</th>\n",
       "      <th>disp</th>\n",
       "      <th>hp</th>\n",
       "      <th>drat</th>\n",
       "      <th>wt</th>\n",
       "      <th>qsec</th>\n",
       "      <th>vs</th>\n",
       "      <th>am</th>\n",
       "      <th>gear</th>\n",
       "      <th>carb</th>\n",
       "    </tr>\n",
       "  </thead>\n",
       "  <tbody>\n",
       "    <tr>\n",
       "      <th>Mazda RX4</th>\n",
       "      <td>21.0</td>\n",
       "      <td>6.0</td>\n",
       "      <td>160.0</td>\n",
       "      <td>110.0</td>\n",
       "      <td>3.90</td>\n",
       "      <td>2.620</td>\n",
       "      <td>16.46</td>\n",
       "      <td>0.0</td>\n",
       "      <td>1.0</td>\n",
       "      <td>4.0</td>\n",
       "      <td>4.0</td>\n",
       "    </tr>\n",
       "    <tr>\n",
       "      <th>Mazda RX4 Wag</th>\n",
       "      <td>21.0</td>\n",
       "      <td>6.0</td>\n",
       "      <td>160.0</td>\n",
       "      <td>110.0</td>\n",
       "      <td>3.90</td>\n",
       "      <td>2.875</td>\n",
       "      <td>17.02</td>\n",
       "      <td>0.0</td>\n",
       "      <td>1.0</td>\n",
       "      <td>4.0</td>\n",
       "      <td>4.0</td>\n",
       "    </tr>\n",
       "    <tr>\n",
       "      <th>Datsun 710</th>\n",
       "      <td>22.8</td>\n",
       "      <td>4.0</td>\n",
       "      <td>108.0</td>\n",
       "      <td>93.0</td>\n",
       "      <td>3.85</td>\n",
       "      <td>2.320</td>\n",
       "      <td>18.61</td>\n",
       "      <td>1.0</td>\n",
       "      <td>1.0</td>\n",
       "      <td>4.0</td>\n",
       "      <td>1.0</td>\n",
       "    </tr>\n",
       "    <tr>\n",
       "      <th>Hornet 4 Drive</th>\n",
       "      <td>21.4</td>\n",
       "      <td>6.0</td>\n",
       "      <td>258.0</td>\n",
       "      <td>110.0</td>\n",
       "      <td>3.08</td>\n",
       "      <td>3.215</td>\n",
       "      <td>19.44</td>\n",
       "      <td>1.0</td>\n",
       "      <td>0.0</td>\n",
       "      <td>3.0</td>\n",
       "      <td>1.0</td>\n",
       "    </tr>\n",
       "    <tr>\n",
       "      <th>Hornet Sportabout</th>\n",
       "      <td>18.7</td>\n",
       "      <td>8.0</td>\n",
       "      <td>360.0</td>\n",
       "      <td>175.0</td>\n",
       "      <td>3.15</td>\n",
       "      <td>3.440</td>\n",
       "      <td>17.02</td>\n",
       "      <td>0.0</td>\n",
       "      <td>0.0</td>\n",
       "      <td>3.0</td>\n",
       "      <td>2.0</td>\n",
       "    </tr>\n",
       "  </tbody>\n",
       "</table>\n",
       "</div>"
      ],
      "text/plain": [
       "                    mpg  cyl   disp     hp  drat     wt   qsec   vs   am  \\\n",
       "Mazda RX4          21.0  6.0  160.0  110.0  3.90  2.620  16.46  0.0  1.0   \n",
       "Mazda RX4 Wag      21.0  6.0  160.0  110.0  3.90  2.875  17.02  0.0  1.0   \n",
       "Datsun 710         22.8  4.0  108.0   93.0  3.85  2.320  18.61  1.0  1.0   \n",
       "Hornet 4 Drive     21.4  6.0  258.0  110.0  3.08  3.215  19.44  1.0  0.0   \n",
       "Hornet Sportabout  18.7  8.0  360.0  175.0  3.15  3.440  17.02  0.0  0.0   \n",
       "\n",
       "                   gear  carb  \n",
       "Mazda RX4           4.0   4.0  \n",
       "Mazda RX4 Wag       4.0   4.0  \n",
       "Datsun 710          4.0   1.0  \n",
       "Hornet 4 Drive      3.0   1.0  \n",
       "Hornet Sportabout   3.0   2.0  "
      ]
     },
     "execution_count": 22,
     "metadata": {},
     "output_type": "execute_result"
    }
   ],
   "source": [
    "mtcars_pd.head()"
   ]
  },
  {
   "cell_type": "code",
   "execution_count": 23,
   "metadata": {},
   "outputs": [
    {
     "name": "stdout",
     "output_type": "stream",
     "text": [
      "                   mpg cyl disp  hp drat    wt  qsec vs am gear carb\n",
      "Mazda RX4         21.0   6  160 110 3.90 2.620 16.46  0  1    4    4\n",
      "Mazda RX4 Wag     21.0   6  160 110 3.90 2.875 17.02  0  1    4    4\n",
      "Datsun 710        22.8   4  108  93 3.85 2.320 18.61  1  1    4    1\n",
      "Hornet 4 Drive    21.4   6  258 110 3.08 3.215 19.44  1  0    3    1\n",
      "Hornet Sportabout 18.7   8  360 175 3.15 3.440 17.02  0  0    3    2\n",
      "Valiant           18.1   6  225 105 2.76 3.460 20.22  1  0    3    1\n"
     ]
    }
   ],
   "source": [
    "%%R\n",
    "# Standard R\n",
    "head(mtcars_r) # Default returns 1st 6 rows"
   ]
  },
  {
   "cell_type": "code",
   "execution_count": 24,
   "metadata": {},
   "outputs": [
    {
     "name": "stdout",
     "output_type": "stream",
     "text": [
      "                   mpg cyl disp  hp drat    wt  qsec vs am gear carb\n",
      "Mazda RX4         21.0   6  160 110 3.90 2.620 16.46  0  1    4    4\n",
      "Mazda RX4 Wag     21.0   6  160 110 3.90 2.875 17.02  0  1    4    4\n",
      "Datsun 710        22.8   4  108  93 3.85 2.320 18.61  1  1    4    1\n",
      "Hornet 4 Drive    21.4   6  258 110 3.08 3.215 19.44  1  0    3    1\n",
      "Hornet Sportabout 18.7   8  360 175 3.15 3.440 17.02  0  0    3    2\n",
      "Valiant           18.1   6  225 105 2.76 3.460 20.22  1  0    3    1\n"
     ]
    }
   ],
   "source": [
    "%%R\n",
    "# Piping\n",
    "mtcars_r |> head() # or mtcars_r %>% head()"
   ]
  },
  {
   "cell_type": "markdown",
   "metadata": {},
   "source": [
    "### .iloc (Slicing)"
   ]
  },
  {
   "cell_type": "code",
   "execution_count": 25,
   "metadata": {},
   "outputs": [
    {
     "data": {
      "text/html": [
       "<div>\n",
       "<style scoped>\n",
       "    .dataframe tbody tr th:only-of-type {\n",
       "        vertical-align: middle;\n",
       "    }\n",
       "\n",
       "    .dataframe tbody tr th {\n",
       "        vertical-align: top;\n",
       "    }\n",
       "\n",
       "    .dataframe thead th {\n",
       "        text-align: right;\n",
       "    }\n",
       "</style>\n",
       "<table border=\"1\" class=\"dataframe\">\n",
       "  <thead>\n",
       "    <tr style=\"text-align: right;\">\n",
       "      <th></th>\n",
       "      <th>mpg</th>\n",
       "      <th>cyl</th>\n",
       "      <th>disp</th>\n",
       "      <th>hp</th>\n",
       "      <th>drat</th>\n",
       "      <th>wt</th>\n",
       "      <th>qsec</th>\n",
       "      <th>vs</th>\n",
       "      <th>am</th>\n",
       "      <th>gear</th>\n",
       "      <th>carb</th>\n",
       "    </tr>\n",
       "  </thead>\n",
       "  <tbody>\n",
       "    <tr>\n",
       "      <th>Mazda RX4</th>\n",
       "      <td>21.0</td>\n",
       "      <td>6.0</td>\n",
       "      <td>160.0</td>\n",
       "      <td>110.0</td>\n",
       "      <td>3.90</td>\n",
       "      <td>2.620</td>\n",
       "      <td>16.46</td>\n",
       "      <td>0.0</td>\n",
       "      <td>1.0</td>\n",
       "      <td>4.0</td>\n",
       "      <td>4.0</td>\n",
       "    </tr>\n",
       "    <tr>\n",
       "      <th>Mazda RX4 Wag</th>\n",
       "      <td>21.0</td>\n",
       "      <td>6.0</td>\n",
       "      <td>160.0</td>\n",
       "      <td>110.0</td>\n",
       "      <td>3.90</td>\n",
       "      <td>2.875</td>\n",
       "      <td>17.02</td>\n",
       "      <td>0.0</td>\n",
       "      <td>1.0</td>\n",
       "      <td>4.0</td>\n",
       "      <td>4.0</td>\n",
       "    </tr>\n",
       "    <tr>\n",
       "      <th>Datsun 710</th>\n",
       "      <td>22.8</td>\n",
       "      <td>4.0</td>\n",
       "      <td>108.0</td>\n",
       "      <td>93.0</td>\n",
       "      <td>3.85</td>\n",
       "      <td>2.320</td>\n",
       "      <td>18.61</td>\n",
       "      <td>1.0</td>\n",
       "      <td>1.0</td>\n",
       "      <td>4.0</td>\n",
       "      <td>1.0</td>\n",
       "    </tr>\n",
       "    <tr>\n",
       "      <th>Hornet 4 Drive</th>\n",
       "      <td>21.4</td>\n",
       "      <td>6.0</td>\n",
       "      <td>258.0</td>\n",
       "      <td>110.0</td>\n",
       "      <td>3.08</td>\n",
       "      <td>3.215</td>\n",
       "      <td>19.44</td>\n",
       "      <td>1.0</td>\n",
       "      <td>0.0</td>\n",
       "      <td>3.0</td>\n",
       "      <td>1.0</td>\n",
       "    </tr>\n",
       "    <tr>\n",
       "      <th>Hornet Sportabout</th>\n",
       "      <td>18.7</td>\n",
       "      <td>8.0</td>\n",
       "      <td>360.0</td>\n",
       "      <td>175.0</td>\n",
       "      <td>3.15</td>\n",
       "      <td>3.440</td>\n",
       "      <td>17.02</td>\n",
       "      <td>0.0</td>\n",
       "      <td>0.0</td>\n",
       "      <td>3.0</td>\n",
       "      <td>2.0</td>\n",
       "    </tr>\n",
       "    <tr>\n",
       "      <th>Valiant</th>\n",
       "      <td>18.1</td>\n",
       "      <td>6.0</td>\n",
       "      <td>225.0</td>\n",
       "      <td>105.0</td>\n",
       "      <td>2.76</td>\n",
       "      <td>3.460</td>\n",
       "      <td>20.22</td>\n",
       "      <td>1.0</td>\n",
       "      <td>0.0</td>\n",
       "      <td>3.0</td>\n",
       "      <td>1.0</td>\n",
       "    </tr>\n",
       "    <tr>\n",
       "      <th>Duster 360</th>\n",
       "      <td>14.3</td>\n",
       "      <td>8.0</td>\n",
       "      <td>360.0</td>\n",
       "      <td>245.0</td>\n",
       "      <td>3.21</td>\n",
       "      <td>3.570</td>\n",
       "      <td>15.84</td>\n",
       "      <td>0.0</td>\n",
       "      <td>0.0</td>\n",
       "      <td>3.0</td>\n",
       "      <td>4.0</td>\n",
       "    </tr>\n",
       "    <tr>\n",
       "      <th>Merc 240D</th>\n",
       "      <td>24.4</td>\n",
       "      <td>4.0</td>\n",
       "      <td>146.7</td>\n",
       "      <td>62.0</td>\n",
       "      <td>3.69</td>\n",
       "      <td>3.190</td>\n",
       "      <td>20.00</td>\n",
       "      <td>1.0</td>\n",
       "      <td>0.0</td>\n",
       "      <td>4.0</td>\n",
       "      <td>2.0</td>\n",
       "    </tr>\n",
       "    <tr>\n",
       "      <th>Merc 230</th>\n",
       "      <td>22.8</td>\n",
       "      <td>4.0</td>\n",
       "      <td>140.8</td>\n",
       "      <td>95.0</td>\n",
       "      <td>3.92</td>\n",
       "      <td>3.150</td>\n",
       "      <td>22.90</td>\n",
       "      <td>1.0</td>\n",
       "      <td>0.0</td>\n",
       "      <td>4.0</td>\n",
       "      <td>2.0</td>\n",
       "    </tr>\n",
       "  </tbody>\n",
       "</table>\n",
       "</div>"
      ],
      "text/plain": [
       "                    mpg  cyl   disp     hp  drat     wt   qsec   vs   am  \\\n",
       "Mazda RX4          21.0  6.0  160.0  110.0  3.90  2.620  16.46  0.0  1.0   \n",
       "Mazda RX4 Wag      21.0  6.0  160.0  110.0  3.90  2.875  17.02  0.0  1.0   \n",
       "Datsun 710         22.8  4.0  108.0   93.0  3.85  2.320  18.61  1.0  1.0   \n",
       "Hornet 4 Drive     21.4  6.0  258.0  110.0  3.08  3.215  19.44  1.0  0.0   \n",
       "Hornet Sportabout  18.7  8.0  360.0  175.0  3.15  3.440  17.02  0.0  0.0   \n",
       "Valiant            18.1  6.0  225.0  105.0  2.76  3.460  20.22  1.0  0.0   \n",
       "Duster 360         14.3  8.0  360.0  245.0  3.21  3.570  15.84  0.0  0.0   \n",
       "Merc 240D          24.4  4.0  146.7   62.0  3.69  3.190  20.00  1.0  0.0   \n",
       "Merc 230           22.8  4.0  140.8   95.0  3.92  3.150  22.90  1.0  0.0   \n",
       "\n",
       "                   gear  carb  \n",
       "Mazda RX4           4.0   4.0  \n",
       "Mazda RX4 Wag       4.0   4.0  \n",
       "Datsun 710          4.0   1.0  \n",
       "Hornet 4 Drive      3.0   1.0  \n",
       "Hornet Sportabout   3.0   2.0  \n",
       "Valiant             3.0   1.0  \n",
       "Duster 360          3.0   4.0  \n",
       "Merc 240D           4.0   2.0  \n",
       "Merc 230            4.0   2.0  "
      ]
     },
     "execution_count": 25,
     "metadata": {},
     "output_type": "execute_result"
    }
   ],
   "source": [
    "mtcars_pd.iloc[:9] # 1st 9 rows"
   ]
  },
  {
   "cell_type": "code",
   "execution_count": 26,
   "metadata": {},
   "outputs": [
    {
     "name": "stdout",
     "output_type": "stream",
     "text": [
      "                   mpg cyl  disp  hp drat    wt  qsec vs am gear carb\n",
      "Mazda RX4         21.0   6 160.0 110 3.90 2.620 16.46  0  1    4    4\n",
      "Mazda RX4 Wag     21.0   6 160.0 110 3.90 2.875 17.02  0  1    4    4\n",
      "Datsun 710        22.8   4 108.0  93 3.85 2.320 18.61  1  1    4    1\n",
      "Hornet 4 Drive    21.4   6 258.0 110 3.08 3.215 19.44  1  0    3    1\n",
      "Hornet Sportabout 18.7   8 360.0 175 3.15 3.440 17.02  0  0    3    2\n",
      "Valiant           18.1   6 225.0 105 2.76 3.460 20.22  1  0    3    1\n",
      "Duster 360        14.3   8 360.0 245 3.21 3.570 15.84  0  0    3    4\n",
      "Merc 240D         24.4   4 146.7  62 3.69 3.190 20.00  1  0    4    2\n",
      "Merc 230          22.8   4 140.8  95 3.92 3.150 22.90  1  0    4    2\n"
     ]
    }
   ],
   "source": [
    "%%R\n",
    "# Standard R\n",
    "slice(mtcars_r, 1:9)"
   ]
  },
  {
   "cell_type": "code",
   "execution_count": 27,
   "metadata": {},
   "outputs": [
    {
     "name": "stdout",
     "output_type": "stream",
     "text": [
      "                   mpg cyl  disp  hp drat    wt  qsec vs am gear carb\n",
      "Mazda RX4         21.0   6 160.0 110 3.90 2.620 16.46  0  1    4    4\n",
      "Mazda RX4 Wag     21.0   6 160.0 110 3.90 2.875 17.02  0  1    4    4\n",
      "Datsun 710        22.8   4 108.0  93 3.85 2.320 18.61  1  1    4    1\n",
      "Hornet 4 Drive    21.4   6 258.0 110 3.08 3.215 19.44  1  0    3    1\n",
      "Hornet Sportabout 18.7   8 360.0 175 3.15 3.440 17.02  0  0    3    2\n",
      "Valiant           18.1   6 225.0 105 2.76 3.460 20.22  1  0    3    1\n",
      "Duster 360        14.3   8 360.0 245 3.21 3.570 15.84  0  0    3    4\n",
      "Merc 240D         24.4   4 146.7  62 3.69 3.190 20.00  1  0    4    2\n",
      "Merc 230          22.8   4 140.8  95 3.92 3.150 22.90  1  0    4    2\n"
     ]
    }
   ],
   "source": [
    "%%R\n",
    "# Dplyr\n",
    "mtcars_r |> slice(1:9)"
   ]
  },
  {
   "cell_type": "markdown",
   "metadata": {},
   "source": [
    "#### First value of a column"
   ]
  },
  {
   "cell_type": "code",
   "execution_count": 28,
   "metadata": {},
   "outputs": [
    {
     "data": {
      "text/plain": [
       "6.0"
      ]
     },
     "execution_count": 28,
     "metadata": {},
     "output_type": "execute_result"
    }
   ],
   "source": [
    "mtcars_pd['cyl'].iloc[0]"
   ]
  },
  {
   "cell_type": "code",
   "execution_count": 29,
   "metadata": {},
   "outputs": [
    {
     "name": "stdout",
     "output_type": "stream",
     "text": [
      "  first_value\n",
      "1           6\n"
     ]
    }
   ],
   "source": [
    "%%R\n",
    "# Dplyr\n",
    "mtcars_r |> summarize(first_value = first(mtcars_r$cyl))"
   ]
  },
  {
   "cell_type": "markdown",
   "metadata": {},
   "source": [
    "#### Last value of a column"
   ]
  },
  {
   "cell_type": "code",
   "execution_count": 30,
   "metadata": {},
   "outputs": [
    {
     "data": {
      "text/plain": [
       "4.0"
      ]
     },
     "execution_count": 30,
     "metadata": {},
     "output_type": "execute_result"
    }
   ],
   "source": [
    "mtcars_pd['cyl'].iloc[-1]"
   ]
  },
  {
   "cell_type": "code",
   "execution_count": 31,
   "metadata": {},
   "outputs": [
    {
     "name": "stdout",
     "output_type": "stream",
     "text": [
      "  last_value\n",
      "1          4\n"
     ]
    }
   ],
   "source": [
    "%%R\n",
    "# Dplyr\n",
    "mtcars_r |> summarize(last_value = last(mtcars_r$cyl))"
   ]
  },
  {
   "cell_type": "markdown",
   "metadata": {},
   "source": [
    "#### nth value of a column"
   ]
  },
  {
   "cell_type": "code",
   "execution_count": 32,
   "metadata": {},
   "outputs": [
    {
     "data": {
      "text/plain": [
       "6.0"
      ]
     },
     "execution_count": 32,
     "metadata": {},
     "output_type": "execute_result"
    }
   ],
   "source": [
    "n = 10\n",
    "mtcars_pd['cyl'].iloc[n]"
   ]
  },
  {
   "cell_type": "code",
   "execution_count": 33,
   "metadata": {},
   "outputs": [
    {
     "name": "stdout",
     "output_type": "stream",
     "text": [
      "  n_value\n",
      "1       6\n"
     ]
    }
   ],
   "source": [
    "%%R\n",
    "# Dplyr\n",
    "n <- 10\n",
    "mtcars_r |> summarize(n_value = nth(mtcars_r$cyl, n))"
   ]
  },
  {
   "cell_type": "markdown",
   "metadata": {},
   "source": [
    "### .query()"
   ]
  },
  {
   "cell_type": "code",
   "execution_count": 34,
   "metadata": {},
   "outputs": [
    {
     "data": {
      "text/html": [
       "<div>\n",
       "<style scoped>\n",
       "    .dataframe tbody tr th:only-of-type {\n",
       "        vertical-align: middle;\n",
       "    }\n",
       "\n",
       "    .dataframe tbody tr th {\n",
       "        vertical-align: top;\n",
       "    }\n",
       "\n",
       "    .dataframe thead th {\n",
       "        text-align: right;\n",
       "    }\n",
       "</style>\n",
       "<table border=\"1\" class=\"dataframe\">\n",
       "  <thead>\n",
       "    <tr style=\"text-align: right;\">\n",
       "      <th></th>\n",
       "      <th>mpg</th>\n",
       "      <th>cyl</th>\n",
       "      <th>disp</th>\n",
       "      <th>hp</th>\n",
       "      <th>drat</th>\n",
       "      <th>wt</th>\n",
       "      <th>qsec</th>\n",
       "      <th>vs</th>\n",
       "      <th>am</th>\n",
       "      <th>gear</th>\n",
       "      <th>carb</th>\n",
       "    </tr>\n",
       "  </thead>\n",
       "  <tbody>\n",
       "    <tr>\n",
       "      <th>Hornet 4 Drive</th>\n",
       "      <td>21.4</td>\n",
       "      <td>6.0</td>\n",
       "      <td>258.0</td>\n",
       "      <td>110.0</td>\n",
       "      <td>3.08</td>\n",
       "      <td>3.215</td>\n",
       "      <td>19.44</td>\n",
       "      <td>1.0</td>\n",
       "      <td>0.0</td>\n",
       "      <td>3.0</td>\n",
       "      <td>1.0</td>\n",
       "    </tr>\n",
       "  </tbody>\n",
       "</table>\n",
       "</div>"
      ],
      "text/plain": [
       "                 mpg  cyl   disp     hp  drat     wt   qsec   vs   am  gear  \\\n",
       "Hornet 4 Drive  21.4  6.0  258.0  110.0  3.08  3.215  19.44  1.0  0.0   3.0   \n",
       "\n",
       "                carb  \n",
       "Hornet 4 Drive   1.0  "
      ]
     },
     "execution_count": 34,
     "metadata": {},
     "output_type": "execute_result"
    }
   ],
   "source": [
    "mtcars_pd.query('mpg > 20 & disp > 200')"
   ]
  },
  {
   "cell_type": "markdown",
   "metadata": {},
   "source": [
    "#### Logical and boolean operators to use with R filter()\n",
    "See ?base::Logic and ?Comparison for help."
   ]
  },
  {
   "cell_type": "markdown",
   "metadata": {},
   "source": [
    "|equals/not equals|lesser/greater|equal & lesser/equal & greater|is null/not null|is in/not|or/and|exclusive or|\n",
    "|:-:|:-:|:-:|:-:|:-:|:-:|:-:|\n",
    "|==|<|<=|isna()|%in%|\\||xor()|\n",
    "|!=|>|>=|!is.na()|!|&|"
   ]
  },
  {
   "cell_type": "code",
   "execution_count": 35,
   "metadata": {},
   "outputs": [
    {
     "name": "stdout",
     "output_type": "stream",
     "text": [
      "                mpg cyl disp  hp drat    wt  qsec vs am gear carb\n",
      "Hornet 4 Drive 21.4   6  258 110 3.08 3.215 19.44  1  0    3    1\n"
     ]
    }
   ],
   "source": [
    "%%R\n",
    "# Standard R\n",
    "filter(mtcars_r, mpg > 20, disp > 200)"
   ]
  },
  {
   "cell_type": "code",
   "execution_count": 36,
   "metadata": {},
   "outputs": [
    {
     "name": "stdout",
     "output_type": "stream",
     "text": [
      "                mpg cyl disp  hp drat    wt  qsec vs am gear carb\n",
      "Hornet 4 Drive 21.4   6  258 110 3.08 3.215 19.44  1  0    3    1\n"
     ]
    }
   ],
   "source": [
    "%%R\n",
    "# Dplyr\n",
    "mtcars_r |> filter(mpg > 20, disp > 200)"
   ]
  },
  {
   "cell_type": "markdown",
   "metadata": {},
   "source": [
    "#### Comparing columns"
   ]
  },
  {
   "cell_type": "code",
   "execution_count": 37,
   "metadata": {},
   "outputs": [
    {
     "data": {
      "text/html": [
       "<div>\n",
       "<style scoped>\n",
       "    .dataframe tbody tr th:only-of-type {\n",
       "        vertical-align: middle;\n",
       "    }\n",
       "\n",
       "    .dataframe tbody tr th {\n",
       "        vertical-align: top;\n",
       "    }\n",
       "\n",
       "    .dataframe thead th {\n",
       "        text-align: right;\n",
       "    }\n",
       "</style>\n",
       "<table border=\"1\" class=\"dataframe\">\n",
       "  <thead>\n",
       "    <tr style=\"text-align: right;\">\n",
       "      <th></th>\n",
       "      <th>a</th>\n",
       "      <th>b</th>\n",
       "    </tr>\n",
       "  </thead>\n",
       "  <tbody>\n",
       "    <tr>\n",
       "      <th>1</th>\n",
       "      <td>0.400157</td>\n",
       "      <td>1.454274</td>\n",
       "    </tr>\n",
       "    <tr>\n",
       "      <th>5</th>\n",
       "      <td>-0.977278</td>\n",
       "      <td>0.333674</td>\n",
       "    </tr>\n",
       "    <tr>\n",
       "      <th>6</th>\n",
       "      <td>0.950088</td>\n",
       "      <td>1.494079</td>\n",
       "    </tr>\n",
       "    <tr>\n",
       "      <th>8</th>\n",
       "      <td>-0.103219</td>\n",
       "      <td>0.313068</td>\n",
       "    </tr>\n",
       "  </tbody>\n",
       "</table>\n",
       "</div>"
      ],
      "text/plain": [
       "          a         b\n",
       "1  0.400157  1.454274\n",
       "5 -0.977278  0.333674\n",
       "6  0.950088  1.494079\n",
       "8 -0.103219  0.313068"
      ]
     },
     "execution_count": 37,
     "metadata": {},
     "output_type": "execute_result"
    }
   ],
   "source": [
    "# Comparing columns\n",
    "np.random.seed(0)\n",
    "df_pd = pd.DataFrame({'a': np.random.randn(10), 'b': np.random.randn(10)})\n",
    "\n",
    "# df_pd.query('a <= b') # option 1\n",
    "# df_pd[df_pd['a'] <= df_pd['b']] #option 2\n",
    "df_pd.loc[df_pd['a'] <= df_pd['b']] # option 3"
   ]
  },
  {
   "cell_type": "code",
   "execution_count": 38,
   "metadata": {},
   "outputs": [
    {
     "name": "stdout",
     "output_type": "stream",
     "text": [
      "             a          b\n",
      "6 -1.539950042 -0.4115108\n",
      "7 -0.928567035  0.2522234\n",
      "9 -0.005767173  0.4356833\n"
     ]
    }
   ],
   "source": [
    "%%R\n",
    "set.seed(0)\n",
    "df_r <- data.frame(a=rnorm(10), b=rnorm(10))\n",
    "# subset(df_r, a<= b) # option 1\n",
    "df_r[df_r$a <= df_r$b, ] # note the comma # topion 2"
   ]
  },
  {
   "cell_type": "markdown",
   "metadata": {},
   "source": [
    "### Masking"
   ]
  },
  {
   "cell_type": "code",
   "execution_count": 39,
   "metadata": {},
   "outputs": [
    {
     "data": {
      "text/html": [
       "<div>\n",
       "<style scoped>\n",
       "    .dataframe tbody tr th:only-of-type {\n",
       "        vertical-align: middle;\n",
       "    }\n",
       "\n",
       "    .dataframe tbody tr th {\n",
       "        vertical-align: top;\n",
       "    }\n",
       "\n",
       "    .dataframe thead th {\n",
       "        text-align: right;\n",
       "    }\n",
       "</style>\n",
       "<table border=\"1\" class=\"dataframe\">\n",
       "  <thead>\n",
       "    <tr style=\"text-align: right;\">\n",
       "      <th></th>\n",
       "      <th>mpg</th>\n",
       "      <th>cyl</th>\n",
       "      <th>disp</th>\n",
       "      <th>hp</th>\n",
       "      <th>drat</th>\n",
       "      <th>wt</th>\n",
       "      <th>qsec</th>\n",
       "      <th>vs</th>\n",
       "      <th>am</th>\n",
       "      <th>gear</th>\n",
       "      <th>carb</th>\n",
       "    </tr>\n",
       "  </thead>\n",
       "  <tbody>\n",
       "    <tr>\n",
       "      <th>Hornet 4 Drive</th>\n",
       "      <td>21.4</td>\n",
       "      <td>6.0</td>\n",
       "      <td>258.0</td>\n",
       "      <td>110.0</td>\n",
       "      <td>3.08</td>\n",
       "      <td>3.215</td>\n",
       "      <td>19.44</td>\n",
       "      <td>1.0</td>\n",
       "      <td>0.0</td>\n",
       "      <td>3.0</td>\n",
       "      <td>1.0</td>\n",
       "    </tr>\n",
       "  </tbody>\n",
       "</table>\n",
       "</div>"
      ],
      "text/plain": [
       "                 mpg  cyl   disp     hp  drat     wt   qsec   vs   am  gear  \\\n",
       "Hornet 4 Drive  21.4  6.0  258.0  110.0  3.08  3.215  19.44  1.0  0.0   3.0   \n",
       "\n",
       "                carb  \n",
       "Hornet 4 Drive   1.0  "
      ]
     },
     "execution_count": 39,
     "metadata": {},
     "output_type": "execute_result"
    }
   ],
   "source": [
    "mtcars_pd[(mtcars_pd.mpg > 20) & (mtcars_pd.disp > 200)]"
   ]
  },
  {
   "cell_type": "code",
   "execution_count": 40,
   "metadata": {},
   "outputs": [
    {
     "name": "stdout",
     "output_type": "stream",
     "text": [
      "                mpg cyl disp  hp drat    wt  qsec vs am gear carb\n",
      "Hornet 4 Drive 21.4   6  258 110 3.08 3.215 19.44  1  0    3    1\n"
     ]
    }
   ],
   "source": [
    "%%R\n",
    "mtcars_r[mtcars_r$mpg > 20 & mtcars_r$disp > 200, ] # the comma is neccesary"
   ]
  },
  {
   "cell_type": "markdown",
   "metadata": {},
   "source": [
    "#### Selecting data by columns"
   ]
  },
  {
   "cell_type": "code",
   "execution_count": 41,
   "metadata": {},
   "outputs": [
    {
     "data": {
      "text/html": [
       "<div>\n",
       "<style scoped>\n",
       "    .dataframe tbody tr th:only-of-type {\n",
       "        vertical-align: middle;\n",
       "    }\n",
       "\n",
       "    .dataframe tbody tr th {\n",
       "        vertical-align: top;\n",
       "    }\n",
       "\n",
       "    .dataframe thead th {\n",
       "        text-align: right;\n",
       "    }\n",
       "</style>\n",
       "<table border=\"1\" class=\"dataframe\">\n",
       "  <thead>\n",
       "    <tr style=\"text-align: right;\">\n",
       "      <th></th>\n",
       "      <th>mpg</th>\n",
       "      <th>disp</th>\n",
       "    </tr>\n",
       "  </thead>\n",
       "  <tbody>\n",
       "    <tr>\n",
       "      <th>Mazda RX4</th>\n",
       "      <td>21.0</td>\n",
       "      <td>160.0</td>\n",
       "    </tr>\n",
       "    <tr>\n",
       "      <th>Mazda RX4 Wag</th>\n",
       "      <td>21.0</td>\n",
       "      <td>160.0</td>\n",
       "    </tr>\n",
       "    <tr>\n",
       "      <th>Datsun 710</th>\n",
       "      <td>22.8</td>\n",
       "      <td>108.0</td>\n",
       "    </tr>\n",
       "    <tr>\n",
       "      <th>Hornet 4 Drive</th>\n",
       "      <td>21.4</td>\n",
       "      <td>258.0</td>\n",
       "    </tr>\n",
       "    <tr>\n",
       "      <th>Hornet Sportabout</th>\n",
       "      <td>18.7</td>\n",
       "      <td>360.0</td>\n",
       "    </tr>\n",
       "  </tbody>\n",
       "</table>\n",
       "</div>"
      ],
      "text/plain": [
       "                    mpg   disp\n",
       "Mazda RX4          21.0  160.0\n",
       "Mazda RX4 Wag      21.0  160.0\n",
       "Datsun 710         22.8  108.0\n",
       "Hornet 4 Drive     21.4  258.0\n",
       "Hornet Sportabout  18.7  360.0"
      ]
     },
     "execution_count": 41,
     "metadata": {},
     "output_type": "execute_result"
    }
   ],
   "source": [
    "mtcars_pd[['mpg', 'disp']].head()"
   ]
  },
  {
   "cell_type": "markdown",
   "metadata": {},
   "source": [
    "#### Helper functions to use with R select(0 and across()\n",
    "e.g. mtcars |> select(mpg:cyl)"
   ]
  },
  {
   "cell_type": "markdown",
   "metadata": {},
   "source": [
    "||||\n",
    "|:-:|:-:|:-:|\n",
    "|contains(match)|num_range(prefix,range)| : (e.g., mpg:cyl)|\n",
    "|ends_with(match)|all_of(x) / any_of(x,...,vars)| ! (e.g., !gear)|\n",
    "|starts_with(match)|matches(match)|everything()|"
   ]
  },
  {
   "cell_type": "code",
   "execution_count": 42,
   "metadata": {},
   "outputs": [
    {
     "name": "stdout",
     "output_type": "stream",
     "text": [
      "                   mpg disp\n",
      "Mazda RX4         21.0  160\n",
      "Mazda RX4 Wag     21.0  160\n",
      "Datsun 710        22.8  108\n",
      "Hornet 4 Drive    21.4  258\n",
      "Hornet Sportabout 18.7  360\n"
     ]
    }
   ],
   "source": [
    "%%R\n",
    "# Standard R\n",
    "head(select(mtcars_r, mpg, disp), 5)"
   ]
  },
  {
   "cell_type": "code",
   "execution_count": 43,
   "metadata": {},
   "outputs": [
    {
     "name": "stdout",
     "output_type": "stream",
     "text": [
      "                   mpg disp\n",
      "Mazda RX4         21.0  160\n",
      "Mazda RX4 Wag     21.0  160\n",
      "Datsun 710        22.8  108\n",
      "Hornet 4 Drive    21.4  258\n",
      "Hornet Sportabout 18.7  360\n"
     ]
    }
   ],
   "source": [
    "%%R\n",
    "# Dplyr\n",
    "mtcars_r |> select(mpg, disp) |> head(5)"
   ]
  },
  {
   "cell_type": "markdown",
   "metadata": {},
   "source": [
    "### .loc"
   ]
  },
  {
   "cell_type": "code",
   "execution_count": 44,
   "metadata": {},
   "outputs": [
    {
     "data": {
      "text/html": [
       "<div>\n",
       "<style scoped>\n",
       "    .dataframe tbody tr th:only-of-type {\n",
       "        vertical-align: middle;\n",
       "    }\n",
       "\n",
       "    .dataframe tbody tr th {\n",
       "        vertical-align: top;\n",
       "    }\n",
       "\n",
       "    .dataframe thead th {\n",
       "        text-align: right;\n",
       "    }\n",
       "</style>\n",
       "<table border=\"1\" class=\"dataframe\">\n",
       "  <thead>\n",
       "    <tr style=\"text-align: right;\">\n",
       "      <th></th>\n",
       "      <th>mpg</th>\n",
       "      <th>cyl</th>\n",
       "      <th>disp</th>\n",
       "    </tr>\n",
       "  </thead>\n",
       "  <tbody>\n",
       "    <tr>\n",
       "      <th>Mazda RX4</th>\n",
       "      <td>21.0</td>\n",
       "      <td>6.0</td>\n",
       "      <td>160.0</td>\n",
       "    </tr>\n",
       "    <tr>\n",
       "      <th>Mazda RX4 Wag</th>\n",
       "      <td>21.0</td>\n",
       "      <td>6.0</td>\n",
       "      <td>160.0</td>\n",
       "    </tr>\n",
       "    <tr>\n",
       "      <th>Datsun 710</th>\n",
       "      <td>22.8</td>\n",
       "      <td>4.0</td>\n",
       "      <td>108.0</td>\n",
       "    </tr>\n",
       "    <tr>\n",
       "      <th>Hornet 4 Drive</th>\n",
       "      <td>21.4</td>\n",
       "      <td>6.0</td>\n",
       "      <td>258.0</td>\n",
       "    </tr>\n",
       "    <tr>\n",
       "      <th>Hornet Sportabout</th>\n",
       "      <td>18.7</td>\n",
       "      <td>8.0</td>\n",
       "      <td>360.0</td>\n",
       "    </tr>\n",
       "  </tbody>\n",
       "</table>\n",
       "</div>"
      ],
      "text/plain": [
       "                    mpg  cyl   disp\n",
       "Mazda RX4          21.0  6.0  160.0\n",
       "Mazda RX4 Wag      21.0  6.0  160.0\n",
       "Datsun 710         22.8  4.0  108.0\n",
       "Hornet 4 Drive     21.4  6.0  258.0\n",
       "Hornet Sportabout  18.7  8.0  360.0"
      ]
     },
     "execution_count": 44,
     "metadata": {},
     "output_type": "execute_result"
    }
   ],
   "source": [
    "mtcars_pd.loc[:, 'mpg':'disp'].head()"
   ]
  },
  {
   "cell_type": "code",
   "execution_count": 45,
   "metadata": {},
   "outputs": [
    {
     "name": "stdout",
     "output_type": "stream",
     "text": [
      "                   mpg cyl disp\n",
      "Mazda RX4         21.0   6  160\n",
      "Mazda RX4 Wag     21.0   6  160\n",
      "Datsun 710        22.8   4  108\n",
      "Hornet 4 Drive    21.4   6  258\n",
      "Hornet Sportabout 18.7   8  360\n"
     ]
    }
   ],
   "source": [
    "%%R\n",
    "# Standard R\n",
    "head(select(mtcars_r, mpg:disp), 5)"
   ]
  },
  {
   "cell_type": "code",
   "execution_count": 46,
   "metadata": {},
   "outputs": [
    {
     "name": "stdout",
     "output_type": "stream",
     "text": [
      "                   mpg cyl disp\n",
      "Mazda RX4         21.0   6  160\n",
      "Mazda RX4 Wag     21.0   6  160\n",
      "Datsun 710        22.8   4  108\n",
      "Hornet 4 Drive    21.4   6  258\n",
      "Hornet Sportabout 18.7   8  360\n"
     ]
    }
   ],
   "source": [
    "%%R\n",
    "# Dplyr\n",
    "mtcars_r |> select(mpg:disp) |> head(5)\n",
    "# mtcars_r |> select('mpg':'disp') |> head(5)# alternative"
   ]
  },
  {
   "cell_type": "markdown",
   "metadata": {},
   "source": [
    "### .drop()"
   ]
  },
  {
   "cell_type": "code",
   "execution_count": 47,
   "metadata": {},
   "outputs": [
    {
     "data": {
      "text/html": [
       "<div>\n",
       "<style scoped>\n",
       "    .dataframe tbody tr th:only-of-type {\n",
       "        vertical-align: middle;\n",
       "    }\n",
       "\n",
       "    .dataframe tbody tr th {\n",
       "        vertical-align: top;\n",
       "    }\n",
       "\n",
       "    .dataframe thead th {\n",
       "        text-align: right;\n",
       "    }\n",
       "</style>\n",
       "<table border=\"1\" class=\"dataframe\">\n",
       "  <thead>\n",
       "    <tr style=\"text-align: right;\">\n",
       "      <th></th>\n",
       "      <th>cyl</th>\n",
       "      <th>disp</th>\n",
       "      <th>hp</th>\n",
       "      <th>drat</th>\n",
       "      <th>wt</th>\n",
       "      <th>qsec</th>\n",
       "      <th>vs</th>\n",
       "      <th>am</th>\n",
       "      <th>gear</th>\n",
       "      <th>carb</th>\n",
       "    </tr>\n",
       "  </thead>\n",
       "  <tbody>\n",
       "    <tr>\n",
       "      <th>Mazda RX4</th>\n",
       "      <td>6.0</td>\n",
       "      <td>160.0</td>\n",
       "      <td>110.0</td>\n",
       "      <td>3.90</td>\n",
       "      <td>2.620</td>\n",
       "      <td>16.46</td>\n",
       "      <td>0.0</td>\n",
       "      <td>1.0</td>\n",
       "      <td>4.0</td>\n",
       "      <td>4.0</td>\n",
       "    </tr>\n",
       "    <tr>\n",
       "      <th>Mazda RX4 Wag</th>\n",
       "      <td>6.0</td>\n",
       "      <td>160.0</td>\n",
       "      <td>110.0</td>\n",
       "      <td>3.90</td>\n",
       "      <td>2.875</td>\n",
       "      <td>17.02</td>\n",
       "      <td>0.0</td>\n",
       "      <td>1.0</td>\n",
       "      <td>4.0</td>\n",
       "      <td>4.0</td>\n",
       "    </tr>\n",
       "    <tr>\n",
       "      <th>Datsun 710</th>\n",
       "      <td>4.0</td>\n",
       "      <td>108.0</td>\n",
       "      <td>93.0</td>\n",
       "      <td>3.85</td>\n",
       "      <td>2.320</td>\n",
       "      <td>18.61</td>\n",
       "      <td>1.0</td>\n",
       "      <td>1.0</td>\n",
       "      <td>4.0</td>\n",
       "      <td>1.0</td>\n",
       "    </tr>\n",
       "    <tr>\n",
       "      <th>Hornet 4 Drive</th>\n",
       "      <td>6.0</td>\n",
       "      <td>258.0</td>\n",
       "      <td>110.0</td>\n",
       "      <td>3.08</td>\n",
       "      <td>3.215</td>\n",
       "      <td>19.44</td>\n",
       "      <td>1.0</td>\n",
       "      <td>0.0</td>\n",
       "      <td>3.0</td>\n",
       "      <td>1.0</td>\n",
       "    </tr>\n",
       "    <tr>\n",
       "      <th>Hornet Sportabout</th>\n",
       "      <td>8.0</td>\n",
       "      <td>360.0</td>\n",
       "      <td>175.0</td>\n",
       "      <td>3.15</td>\n",
       "      <td>3.440</td>\n",
       "      <td>17.02</td>\n",
       "      <td>0.0</td>\n",
       "      <td>0.0</td>\n",
       "      <td>3.0</td>\n",
       "      <td>2.0</td>\n",
       "    </tr>\n",
       "  </tbody>\n",
       "</table>\n",
       "</div>"
      ],
      "text/plain": [
       "                   cyl   disp     hp  drat     wt   qsec   vs   am  gear  carb\n",
       "Mazda RX4          6.0  160.0  110.0  3.90  2.620  16.46  0.0  1.0   4.0   4.0\n",
       "Mazda RX4 Wag      6.0  160.0  110.0  3.90  2.875  17.02  0.0  1.0   4.0   4.0\n",
       "Datsun 710         4.0  108.0   93.0  3.85  2.320  18.61  1.0  1.0   4.0   1.0\n",
       "Hornet 4 Drive     6.0  258.0  110.0  3.08  3.215  19.44  1.0  0.0   3.0   1.0\n",
       "Hornet Sportabout  8.0  360.0  175.0  3.15  3.440  17.02  0.0  0.0   3.0   2.0"
      ]
     },
     "execution_count": 47,
     "metadata": {},
     "output_type": "execute_result"
    }
   ],
   "source": [
    "mtcars_pd.drop(['mpg'], axis=1).head()"
   ]
  },
  {
   "cell_type": "code",
   "execution_count": 48,
   "metadata": {},
   "outputs": [
    {
     "name": "stdout",
     "output_type": "stream",
     "text": [
      "                  cyl disp  hp drat    wt  qsec vs am gear carb\n",
      "Mazda RX4           6  160 110 3.90 2.620 16.46  0  1    4    4\n",
      "Mazda RX4 Wag       6  160 110 3.90 2.875 17.02  0  1    4    4\n",
      "Datsun 710          4  108  93 3.85 2.320 18.61  1  1    4    1\n",
      "Hornet 4 Drive      6  258 110 3.08 3.215 19.44  1  0    3    1\n",
      "Hornet Sportabout   8  360 175 3.15 3.440 17.02  0  0    3    2\n",
      "Valiant             6  225 105 2.76 3.460 20.22  1  0    3    1\n"
     ]
    }
   ],
   "source": [
    "%%R\n",
    "# Standard R\n",
    "head(select(mtcars_r, -(mpg), 5))"
   ]
  },
  {
   "cell_type": "code",
   "execution_count": 49,
   "metadata": {},
   "outputs": [
    {
     "name": "stdout",
     "output_type": "stream",
     "text": [
      "                  cyl disp  hp drat    wt  qsec vs am gear carb\n",
      "Mazda RX4           6  160 110 3.90 2.620 16.46  0  1    4    4\n",
      "Mazda RX4 Wag       6  160 110 3.90 2.875 17.02  0  1    4    4\n",
      "Datsun 710          4  108  93 3.85 2.320 18.61  1  1    4    1\n",
      "Hornet 4 Drive      6  258 110 3.08 3.215 19.44  1  0    3    1\n",
      "Hornet Sportabout   8  360 175 3.15 3.440 17.02  0  0    3    2\n"
     ]
    }
   ],
   "source": [
    "%%R\n",
    "# Dplyr\n",
    "mtcars_r |> select(-(mpg)) |> head(5)"
   ]
  },
  {
   "cell_type": "markdown",
   "metadata": {},
   "source": [
    "### .drop_duplicates()"
   ]
  },
  {
   "cell_type": "code",
   "execution_count": 50,
   "metadata": {},
   "outputs": [
    {
     "data": {
      "text/html": [
       "<div>\n",
       "<style scoped>\n",
       "    .dataframe tbody tr th:only-of-type {\n",
       "        vertical-align: middle;\n",
       "    }\n",
       "\n",
       "    .dataframe tbody tr th {\n",
       "        vertical-align: top;\n",
       "    }\n",
       "\n",
       "    .dataframe thead th {\n",
       "        text-align: right;\n",
       "    }\n",
       "</style>\n",
       "<table border=\"1\" class=\"dataframe\">\n",
       "  <thead>\n",
       "    <tr style=\"text-align: right;\">\n",
       "      <th></th>\n",
       "      <th>cyl</th>\n",
       "    </tr>\n",
       "  </thead>\n",
       "  <tbody>\n",
       "    <tr>\n",
       "      <th>Mazda RX4</th>\n",
       "      <td>6.0</td>\n",
       "    </tr>\n",
       "    <tr>\n",
       "      <th>Datsun 710</th>\n",
       "      <td>4.0</td>\n",
       "    </tr>\n",
       "    <tr>\n",
       "      <th>Hornet Sportabout</th>\n",
       "      <td>8.0</td>\n",
       "    </tr>\n",
       "  </tbody>\n",
       "</table>\n",
       "</div>"
      ],
      "text/plain": [
       "                   cyl\n",
       "Mazda RX4          6.0\n",
       "Datsun 710         4.0\n",
       "Hornet Sportabout  8.0"
      ]
     },
     "execution_count": 50,
     "metadata": {},
     "output_type": "execute_result"
    }
   ],
   "source": [
    "mtcars_pd[['cyl']].drop_duplicates()"
   ]
  },
  {
   "cell_type": "code",
   "execution_count": 51,
   "metadata": {},
   "outputs": [
    {
     "name": "stdout",
     "output_type": "stream",
     "text": [
      "                  cyl\n",
      "Mazda RX4           6\n",
      "Datsun 710          4\n",
      "Hornet Sportabout   8\n"
     ]
    }
   ],
   "source": [
    "%%R\n",
    "# Standard R\n",
    "distinct(select(mtcars_r, cyl))"
   ]
  },
  {
   "cell_type": "code",
   "execution_count": 52,
   "metadata": {},
   "outputs": [
    {
     "name": "stdout",
     "output_type": "stream",
     "text": [
      "                  cyl\n",
      "Mazda RX4           6\n",
      "Datsun 710          4\n",
      "Hornet Sportabout   8\n"
     ]
    }
   ],
   "source": [
    "%%R\n",
    "# Dplyr\n",
    "mtcars_r |> select(cyl) |> distinct()"
   ]
  },
  {
   "cell_type": "code",
   "execution_count": 53,
   "metadata": {},
   "outputs": [
    {
     "data": {
      "text/html": [
       "<div>\n",
       "<style scoped>\n",
       "    .dataframe tbody tr th:only-of-type {\n",
       "        vertical-align: middle;\n",
       "    }\n",
       "\n",
       "    .dataframe tbody tr th {\n",
       "        vertical-align: top;\n",
       "    }\n",
       "\n",
       "    .dataframe thead th {\n",
       "        text-align: right;\n",
       "    }\n",
       "</style>\n",
       "<table border=\"1\" class=\"dataframe\">\n",
       "  <thead>\n",
       "    <tr style=\"text-align: right;\">\n",
       "      <th></th>\n",
       "      <th>cyl</th>\n",
       "      <th>gear</th>\n",
       "    </tr>\n",
       "  </thead>\n",
       "  <tbody>\n",
       "    <tr>\n",
       "      <th>Mazda RX4</th>\n",
       "      <td>6.0</td>\n",
       "      <td>4.0</td>\n",
       "    </tr>\n",
       "    <tr>\n",
       "      <th>Datsun 710</th>\n",
       "      <td>4.0</td>\n",
       "      <td>4.0</td>\n",
       "    </tr>\n",
       "    <tr>\n",
       "      <th>Hornet 4 Drive</th>\n",
       "      <td>6.0</td>\n",
       "      <td>3.0</td>\n",
       "    </tr>\n",
       "    <tr>\n",
       "      <th>Hornet Sportabout</th>\n",
       "      <td>8.0</td>\n",
       "      <td>3.0</td>\n",
       "    </tr>\n",
       "    <tr>\n",
       "      <th>Toyota Corona</th>\n",
       "      <td>4.0</td>\n",
       "      <td>3.0</td>\n",
       "    </tr>\n",
       "    <tr>\n",
       "      <th>Porsche 914-2</th>\n",
       "      <td>4.0</td>\n",
       "      <td>5.0</td>\n",
       "    </tr>\n",
       "    <tr>\n",
       "      <th>Ford Pantera L</th>\n",
       "      <td>8.0</td>\n",
       "      <td>5.0</td>\n",
       "    </tr>\n",
       "    <tr>\n",
       "      <th>Ferrari Dino</th>\n",
       "      <td>6.0</td>\n",
       "      <td>5.0</td>\n",
       "    </tr>\n",
       "  </tbody>\n",
       "</table>\n",
       "</div>"
      ],
      "text/plain": [
       "                   cyl  gear\n",
       "Mazda RX4          6.0   4.0\n",
       "Datsun 710         4.0   4.0\n",
       "Hornet 4 Drive     6.0   3.0\n",
       "Hornet Sportabout  8.0   3.0\n",
       "Toyota Corona      4.0   3.0\n",
       "Porsche 914-2      4.0   5.0\n",
       "Ford Pantera L     8.0   5.0\n",
       "Ferrari Dino       6.0   5.0"
      ]
     },
     "execution_count": 53,
     "metadata": {},
     "output_type": "execute_result"
    }
   ],
   "source": [
    "mtcars_pd[['cyl', 'gear']].drop_duplicates()"
   ]
  },
  {
   "cell_type": "code",
   "execution_count": 54,
   "metadata": {},
   "outputs": [
    {
     "name": "stdout",
     "output_type": "stream",
     "text": [
      "                  cyl gear\n",
      "Mazda RX4           6    4\n",
      "Datsun 710          4    4\n",
      "Hornet 4 Drive      6    3\n",
      "Hornet Sportabout   8    3\n",
      "Toyota Corona       4    3\n",
      "Porsche 914-2       4    5\n",
      "Ford Pantera L      8    5\n",
      "Ferrari Dino        6    5\n"
     ]
    }
   ],
   "source": [
    "%%R\n",
    "# Standard R\n",
    "distinct(select(mtcars_r, cyl, gear))"
   ]
  },
  {
   "cell_type": "code",
   "execution_count": 55,
   "metadata": {},
   "outputs": [
    {
     "name": "stdout",
     "output_type": "stream",
     "text": [
      "                  cyl gear\n",
      "Mazda RX4           6    4\n",
      "Datsun 710          4    4\n",
      "Hornet 4 Drive      6    3\n",
      "Hornet Sportabout   8    3\n",
      "Toyota Corona       4    3\n",
      "Porsche 914-2       4    5\n",
      "Ford Pantera L      8    5\n",
      "Ferrari Dino        6    5\n"
     ]
    }
   ],
   "source": [
    "%%R\n",
    "# Dplyr\n",
    "mtcars_r |> distinct(cyl, gear)"
   ]
  },
  {
   "cell_type": "markdown",
   "metadata": {},
   "source": [
    "### .sample()"
   ]
  },
  {
   "cell_type": "code",
   "execution_count": 56,
   "metadata": {},
   "outputs": [
    {
     "data": {
      "text/html": [
       "<div>\n",
       "<style scoped>\n",
       "    .dataframe tbody tr th:only-of-type {\n",
       "        vertical-align: middle;\n",
       "    }\n",
       "\n",
       "    .dataframe tbody tr th {\n",
       "        vertical-align: top;\n",
       "    }\n",
       "\n",
       "    .dataframe thead th {\n",
       "        text-align: right;\n",
       "    }\n",
       "</style>\n",
       "<table border=\"1\" class=\"dataframe\">\n",
       "  <thead>\n",
       "    <tr style=\"text-align: right;\">\n",
       "      <th></th>\n",
       "      <th>mpg</th>\n",
       "      <th>cyl</th>\n",
       "      <th>disp</th>\n",
       "      <th>hp</th>\n",
       "      <th>drat</th>\n",
       "      <th>wt</th>\n",
       "      <th>qsec</th>\n",
       "      <th>vs</th>\n",
       "      <th>am</th>\n",
       "      <th>gear</th>\n",
       "      <th>carb</th>\n",
       "    </tr>\n",
       "  </thead>\n",
       "  <tbody>\n",
       "    <tr>\n",
       "      <th>Porsche 914-2</th>\n",
       "      <td>26.0</td>\n",
       "      <td>4.0</td>\n",
       "      <td>120.3</td>\n",
       "      <td>91.0</td>\n",
       "      <td>4.43</td>\n",
       "      <td>2.14</td>\n",
       "      <td>16.7</td>\n",
       "      <td>0.0</td>\n",
       "      <td>1.0</td>\n",
       "      <td>5.0</td>\n",
       "      <td>2.0</td>\n",
       "    </tr>\n",
       "  </tbody>\n",
       "</table>\n",
       "</div>"
      ],
      "text/plain": [
       "                mpg  cyl   disp    hp  drat    wt  qsec   vs   am  gear  carb\n",
       "Porsche 914-2  26.0  4.0  120.3  91.0  4.43  2.14  16.7  0.0  1.0   5.0   2.0"
      ]
     },
     "execution_count": 56,
     "metadata": {},
     "output_type": "execute_result"
    }
   ],
   "source": [
    "mtcars_pd.sample(n=1)"
   ]
  },
  {
   "cell_type": "code",
   "execution_count": 57,
   "metadata": {},
   "outputs": [
    {
     "name": "stdout",
     "output_type": "stream",
     "text": [
      "          mpg cyl  disp  hp drat   wt qsec vs am gear carb\n",
      "Merc 280 19.2   6 167.6 123 3.92 3.44 18.3  1  0    4    4\n"
     ]
    }
   ],
   "source": [
    "%%R\n",
    "# Standard R\n",
    "sample_n(mtcars_r,1)"
   ]
  },
  {
   "cell_type": "code",
   "execution_count": 58,
   "metadata": {},
   "outputs": [
    {
     "name": "stdout",
     "output_type": "stream",
     "text": [
      "          mpg cyl  disp  hp drat   wt qsec vs am gear carb\n",
      "Merc 280 19.2   6 167.6 123 3.92 3.44 18.3  1  0    4    4\n"
     ]
    }
   ],
   "source": [
    "%%R\n",
    "# Dplyr\n",
    "mtcars_r |> slice_sample(n=1)"
   ]
  },
  {
   "cell_type": "code",
   "execution_count": 59,
   "metadata": {},
   "outputs": [
    {
     "data": {
      "text/html": [
       "<div>\n",
       "<style scoped>\n",
       "    .dataframe tbody tr th:only-of-type {\n",
       "        vertical-align: middle;\n",
       "    }\n",
       "\n",
       "    .dataframe tbody tr th {\n",
       "        vertical-align: top;\n",
       "    }\n",
       "\n",
       "    .dataframe thead th {\n",
       "        text-align: right;\n",
       "    }\n",
       "</style>\n",
       "<table border=\"1\" class=\"dataframe\">\n",
       "  <thead>\n",
       "    <tr style=\"text-align: right;\">\n",
       "      <th></th>\n",
       "      <th>mpg</th>\n",
       "      <th>cyl</th>\n",
       "      <th>disp</th>\n",
       "      <th>hp</th>\n",
       "      <th>drat</th>\n",
       "      <th>wt</th>\n",
       "      <th>qsec</th>\n",
       "      <th>vs</th>\n",
       "      <th>am</th>\n",
       "      <th>gear</th>\n",
       "      <th>carb</th>\n",
       "    </tr>\n",
       "  </thead>\n",
       "  <tbody>\n",
       "    <tr>\n",
       "      <th>Datsun 710</th>\n",
       "      <td>22.8</td>\n",
       "      <td>4.0</td>\n",
       "      <td>108.0</td>\n",
       "      <td>93.0</td>\n",
       "      <td>3.85</td>\n",
       "      <td>2.320</td>\n",
       "      <td>18.61</td>\n",
       "      <td>1.0</td>\n",
       "      <td>1.0</td>\n",
       "      <td>4.0</td>\n",
       "      <td>1.0</td>\n",
       "    </tr>\n",
       "    <tr>\n",
       "      <th>Chrysler Imperial</th>\n",
       "      <td>14.7</td>\n",
       "      <td>8.0</td>\n",
       "      <td>440.0</td>\n",
       "      <td>230.0</td>\n",
       "      <td>3.23</td>\n",
       "      <td>5.345</td>\n",
       "      <td>17.42</td>\n",
       "      <td>0.0</td>\n",
       "      <td>0.0</td>\n",
       "      <td>3.0</td>\n",
       "      <td>4.0</td>\n",
       "    </tr>\n",
       "    <tr>\n",
       "      <th>Camaro Z28</th>\n",
       "      <td>13.3</td>\n",
       "      <td>8.0</td>\n",
       "      <td>350.0</td>\n",
       "      <td>245.0</td>\n",
       "      <td>3.73</td>\n",
       "      <td>3.840</td>\n",
       "      <td>15.41</td>\n",
       "      <td>0.0</td>\n",
       "      <td>0.0</td>\n",
       "      <td>3.0</td>\n",
       "      <td>4.0</td>\n",
       "    </tr>\n",
       "  </tbody>\n",
       "</table>\n",
       "</div>"
      ],
      "text/plain": [
       "                    mpg  cyl   disp     hp  drat     wt   qsec   vs   am  \\\n",
       "Datsun 710         22.8  4.0  108.0   93.0  3.85  2.320  18.61  1.0  1.0   \n",
       "Chrysler Imperial  14.7  8.0  440.0  230.0  3.23  5.345  17.42  0.0  0.0   \n",
       "Camaro Z28         13.3  8.0  350.0  245.0  3.73  3.840  15.41  0.0  0.0   \n",
       "\n",
       "                   gear  carb  \n",
       "Datsun 710          4.0   1.0  \n",
       "Chrysler Imperial   3.0   4.0  \n",
       "Camaro Z28          3.0   4.0  "
      ]
     },
     "execution_count": 59,
     "metadata": {},
     "output_type": "execute_result"
    }
   ],
   "source": [
    "mtcars_pd.sample(frac=0.1)"
   ]
  },
  {
   "cell_type": "code",
   "execution_count": 60,
   "metadata": {},
   "outputs": [
    {
     "name": "stdout",
     "output_type": "stream",
     "text": [
      "                  mpg cyl  disp  hp drat    wt  qsec vs am gear carb\n",
      "Merc 450SLC      15.2   8 275.8 180 3.07 3.780 18.00  0  0    3    3\n",
      "Pontiac Firebird 19.2   8 400.0 175 3.08 3.845 17.05  0  0    3    2\n",
      "Hornet 4 Drive   21.4   6 258.0 110 3.08 3.215 19.44  1  0    3    1\n"
     ]
    }
   ],
   "source": [
    "%%R\n",
    "# Standard R\n",
    "set.seed(0)\n",
    "sample_frac(mtcars_r, 0.1)"
   ]
  },
  {
   "cell_type": "code",
   "execution_count": 61,
   "metadata": {},
   "outputs": [
    {
     "name": "stdout",
     "output_type": "stream",
     "text": [
      "                  mpg cyl  disp  hp drat    wt  qsec vs am gear carb\n",
      "Merc 450SLC      15.2   8 275.8 180 3.07 3.780 18.00  0  0    3    3\n",
      "Pontiac Firebird 19.2   8 400.0 175 3.08 3.845 17.05  0  0    3    2\n",
      "Hornet 4 Drive   21.4   6 258.0 110 3.08 3.215 19.44  1  0    3    1\n"
     ]
    }
   ],
   "source": [
    "%%R\n",
    "# Dplyr\n",
    "set.seed(0)\n",
    "mtcars_r |> slice_sample(prop=0.1)"
   ]
  },
  {
   "cell_type": "markdown",
   "metadata": {},
   "source": [
    "## Sorting"
   ]
  },
  {
   "cell_type": "markdown",
   "metadata": {},
   "source": [
    "### .sort_values()"
   ]
  },
  {
   "cell_type": "code",
   "execution_count": 62,
   "metadata": {},
   "outputs": [
    {
     "data": {
      "text/html": [
       "<div>\n",
       "<style scoped>\n",
       "    .dataframe tbody tr th:only-of-type {\n",
       "        vertical-align: middle;\n",
       "    }\n",
       "\n",
       "    .dataframe tbody tr th {\n",
       "        vertical-align: top;\n",
       "    }\n",
       "\n",
       "    .dataframe thead th {\n",
       "        text-align: right;\n",
       "    }\n",
       "</style>\n",
       "<table border=\"1\" class=\"dataframe\">\n",
       "  <thead>\n",
       "    <tr style=\"text-align: right;\">\n",
       "      <th></th>\n",
       "      <th>mpg</th>\n",
       "      <th>cyl</th>\n",
       "      <th>disp</th>\n",
       "      <th>hp</th>\n",
       "      <th>drat</th>\n",
       "      <th>wt</th>\n",
       "      <th>qsec</th>\n",
       "      <th>vs</th>\n",
       "      <th>am</th>\n",
       "      <th>gear</th>\n",
       "      <th>carb</th>\n",
       "    </tr>\n",
       "  </thead>\n",
       "  <tbody>\n",
       "    <tr>\n",
       "      <th>Toyota Corolla</th>\n",
       "      <td>33.9</td>\n",
       "      <td>4.0</td>\n",
       "      <td>71.1</td>\n",
       "      <td>65.0</td>\n",
       "      <td>4.22</td>\n",
       "      <td>1.835</td>\n",
       "      <td>19.90</td>\n",
       "      <td>1.0</td>\n",
       "      <td>1.0</td>\n",
       "      <td>4.0</td>\n",
       "      <td>1.0</td>\n",
       "    </tr>\n",
       "    <tr>\n",
       "      <th>Honda Civic</th>\n",
       "      <td>30.4</td>\n",
       "      <td>4.0</td>\n",
       "      <td>75.7</td>\n",
       "      <td>52.0</td>\n",
       "      <td>4.93</td>\n",
       "      <td>1.615</td>\n",
       "      <td>18.52</td>\n",
       "      <td>1.0</td>\n",
       "      <td>1.0</td>\n",
       "      <td>4.0</td>\n",
       "      <td>2.0</td>\n",
       "    </tr>\n",
       "    <tr>\n",
       "      <th>Fiat 128</th>\n",
       "      <td>32.4</td>\n",
       "      <td>4.0</td>\n",
       "      <td>78.7</td>\n",
       "      <td>66.0</td>\n",
       "      <td>4.08</td>\n",
       "      <td>2.200</td>\n",
       "      <td>19.47</td>\n",
       "      <td>1.0</td>\n",
       "      <td>1.0</td>\n",
       "      <td>4.0</td>\n",
       "      <td>1.0</td>\n",
       "    </tr>\n",
       "    <tr>\n",
       "      <th>Fiat X1-9</th>\n",
       "      <td>27.3</td>\n",
       "      <td>4.0</td>\n",
       "      <td>79.0</td>\n",
       "      <td>66.0</td>\n",
       "      <td>4.08</td>\n",
       "      <td>1.935</td>\n",
       "      <td>18.90</td>\n",
       "      <td>1.0</td>\n",
       "      <td>1.0</td>\n",
       "      <td>4.0</td>\n",
       "      <td>1.0</td>\n",
       "    </tr>\n",
       "    <tr>\n",
       "      <th>Lotus Europa</th>\n",
       "      <td>30.4</td>\n",
       "      <td>4.0</td>\n",
       "      <td>95.1</td>\n",
       "      <td>113.0</td>\n",
       "      <td>3.77</td>\n",
       "      <td>1.513</td>\n",
       "      <td>16.90</td>\n",
       "      <td>1.0</td>\n",
       "      <td>1.0</td>\n",
       "      <td>5.0</td>\n",
       "      <td>2.0</td>\n",
       "    </tr>\n",
       "  </tbody>\n",
       "</table>\n",
       "</div>"
      ],
      "text/plain": [
       "                 mpg  cyl  disp     hp  drat     wt   qsec   vs   am  gear  \\\n",
       "Toyota Corolla  33.9  4.0  71.1   65.0  4.22  1.835  19.90  1.0  1.0   4.0   \n",
       "Honda Civic     30.4  4.0  75.7   52.0  4.93  1.615  18.52  1.0  1.0   4.0   \n",
       "Fiat 128        32.4  4.0  78.7   66.0  4.08  2.200  19.47  1.0  1.0   4.0   \n",
       "Fiat X1-9       27.3  4.0  79.0   66.0  4.08  1.935  18.90  1.0  1.0   4.0   \n",
       "Lotus Europa    30.4  4.0  95.1  113.0  3.77  1.513  16.90  1.0  1.0   5.0   \n",
       "\n",
       "                carb  \n",
       "Toyota Corolla   1.0  \n",
       "Honda Civic      2.0  \n",
       "Fiat 128         1.0  \n",
       "Fiat X1-9        1.0  \n",
       "Lotus Europa     2.0  "
      ]
     },
     "execution_count": 62,
     "metadata": {},
     "output_type": "execute_result"
    }
   ],
   "source": [
    "mtcars_pd.sort_values(['disp', 'mpg']).head()"
   ]
  },
  {
   "cell_type": "code",
   "execution_count": 63,
   "metadata": {},
   "outputs": [
    {
     "name": "stdout",
     "output_type": "stream",
     "text": [
      "                mpg cyl disp  hp drat    wt  qsec vs am gear carb\n",
      "Toyota Corolla 33.9   4 71.1  65 4.22 1.835 19.90  1  1    4    1\n",
      "Honda Civic    30.4   4 75.7  52 4.93 1.615 18.52  1  1    4    2\n",
      "Fiat 128       32.4   4 78.7  66 4.08 2.200 19.47  1  1    4    1\n",
      "Fiat X1-9      27.3   4 79.0  66 4.08 1.935 18.90  1  1    4    1\n",
      "Lotus Europa   30.4   4 95.1 113 3.77 1.513 16.90  1  1    5    2\n"
     ]
    }
   ],
   "source": [
    "%%R\n",
    "# Standard R\n",
    "head(arrange(mtcars_r, disp, mpg), 5)"
   ]
  },
  {
   "cell_type": "code",
   "execution_count": 64,
   "metadata": {},
   "outputs": [
    {
     "name": "stdout",
     "output_type": "stream",
     "text": [
      "                mpg cyl disp  hp drat    wt  qsec vs am gear carb\n",
      "Toyota Corolla 33.9   4 71.1  65 4.22 1.835 19.90  1  1    4    1\n",
      "Honda Civic    30.4   4 75.7  52 4.93 1.615 18.52  1  1    4    2\n",
      "Fiat 128       32.4   4 78.7  66 4.08 2.200 19.47  1  1    4    1\n",
      "Fiat X1-9      27.3   4 79.0  66 4.08 1.935 18.90  1  1    4    1\n",
      "Lotus Europa   30.4   4 95.1 113 3.77 1.513 16.90  1  1    5    2\n"
     ]
    }
   ],
   "source": [
    "%%R\n",
    "# Dplyr\n",
    "mtcars_r |> arrange(disp, mpg) |> head(5)"
   ]
  },
  {
   "cell_type": "code",
   "execution_count": 65,
   "metadata": {},
   "outputs": [
    {
     "data": {
      "text/html": [
       "<div>\n",
       "<style scoped>\n",
       "    .dataframe tbody tr th:only-of-type {\n",
       "        vertical-align: middle;\n",
       "    }\n",
       "\n",
       "    .dataframe tbody tr th {\n",
       "        vertical-align: top;\n",
       "    }\n",
       "\n",
       "    .dataframe thead th {\n",
       "        text-align: right;\n",
       "    }\n",
       "</style>\n",
       "<table border=\"1\" class=\"dataframe\">\n",
       "  <thead>\n",
       "    <tr style=\"text-align: right;\">\n",
       "      <th></th>\n",
       "      <th>mpg</th>\n",
       "      <th>cyl</th>\n",
       "      <th>disp</th>\n",
       "      <th>hp</th>\n",
       "      <th>drat</th>\n",
       "      <th>wt</th>\n",
       "      <th>qsec</th>\n",
       "      <th>vs</th>\n",
       "      <th>am</th>\n",
       "      <th>gear</th>\n",
       "      <th>carb</th>\n",
       "    </tr>\n",
       "  </thead>\n",
       "  <tbody>\n",
       "    <tr>\n",
       "      <th>Cadillac Fleetwood</th>\n",
       "      <td>10.4</td>\n",
       "      <td>8.0</td>\n",
       "      <td>472.0</td>\n",
       "      <td>205.0</td>\n",
       "      <td>2.93</td>\n",
       "      <td>5.250</td>\n",
       "      <td>17.98</td>\n",
       "      <td>0.0</td>\n",
       "      <td>0.0</td>\n",
       "      <td>3.0</td>\n",
       "      <td>4.0</td>\n",
       "    </tr>\n",
       "    <tr>\n",
       "      <th>Lincoln Continental</th>\n",
       "      <td>10.4</td>\n",
       "      <td>8.0</td>\n",
       "      <td>460.0</td>\n",
       "      <td>215.0</td>\n",
       "      <td>3.00</td>\n",
       "      <td>5.424</td>\n",
       "      <td>17.82</td>\n",
       "      <td>0.0</td>\n",
       "      <td>0.0</td>\n",
       "      <td>3.0</td>\n",
       "      <td>4.0</td>\n",
       "    </tr>\n",
       "    <tr>\n",
       "      <th>Chrysler Imperial</th>\n",
       "      <td>14.7</td>\n",
       "      <td>8.0</td>\n",
       "      <td>440.0</td>\n",
       "      <td>230.0</td>\n",
       "      <td>3.23</td>\n",
       "      <td>5.345</td>\n",
       "      <td>17.42</td>\n",
       "      <td>0.0</td>\n",
       "      <td>0.0</td>\n",
       "      <td>3.0</td>\n",
       "      <td>4.0</td>\n",
       "    </tr>\n",
       "    <tr>\n",
       "      <th>Pontiac Firebird</th>\n",
       "      <td>19.2</td>\n",
       "      <td>8.0</td>\n",
       "      <td>400.0</td>\n",
       "      <td>175.0</td>\n",
       "      <td>3.08</td>\n",
       "      <td>3.845</td>\n",
       "      <td>17.05</td>\n",
       "      <td>0.0</td>\n",
       "      <td>0.0</td>\n",
       "      <td>3.0</td>\n",
       "      <td>2.0</td>\n",
       "    </tr>\n",
       "    <tr>\n",
       "      <th>Hornet Sportabout</th>\n",
       "      <td>18.7</td>\n",
       "      <td>8.0</td>\n",
       "      <td>360.0</td>\n",
       "      <td>175.0</td>\n",
       "      <td>3.15</td>\n",
       "      <td>3.440</td>\n",
       "      <td>17.02</td>\n",
       "      <td>0.0</td>\n",
       "      <td>0.0</td>\n",
       "      <td>3.0</td>\n",
       "      <td>2.0</td>\n",
       "    </tr>\n",
       "  </tbody>\n",
       "</table>\n",
       "</div>"
      ],
      "text/plain": [
       "                      mpg  cyl   disp     hp  drat     wt   qsec   vs   am  \\\n",
       "Cadillac Fleetwood   10.4  8.0  472.0  205.0  2.93  5.250  17.98  0.0  0.0   \n",
       "Lincoln Continental  10.4  8.0  460.0  215.0  3.00  5.424  17.82  0.0  0.0   \n",
       "Chrysler Imperial    14.7  8.0  440.0  230.0  3.23  5.345  17.42  0.0  0.0   \n",
       "Pontiac Firebird     19.2  8.0  400.0  175.0  3.08  3.845  17.05  0.0  0.0   \n",
       "Hornet Sportabout    18.7  8.0  360.0  175.0  3.15  3.440  17.02  0.0  0.0   \n",
       "\n",
       "                     gear  carb  \n",
       "Cadillac Fleetwood    3.0   4.0  \n",
       "Lincoln Continental   3.0   4.0  \n",
       "Chrysler Imperial     3.0   4.0  \n",
       "Pontiac Firebird      3.0   2.0  \n",
       "Hornet Sportabout     3.0   2.0  "
      ]
     },
     "execution_count": 65,
     "metadata": {},
     "output_type": "execute_result"
    }
   ],
   "source": [
    "mtcars_pd.sort_values('disp', ascending=False).head()"
   ]
  },
  {
   "cell_type": "code",
   "execution_count": 66,
   "metadata": {},
   "outputs": [
    {
     "name": "stdout",
     "output_type": "stream",
     "text": [
      "                     mpg cyl disp  hp drat    wt  qsec vs am gear carb\n",
      "Cadillac Fleetwood  10.4   8  472 205 2.93 5.250 17.98  0  0    3    4\n",
      "Lincoln Continental 10.4   8  460 215 3.00 5.424 17.82  0  0    3    4\n",
      "Chrysler Imperial   14.7   8  440 230 3.23 5.345 17.42  0  0    3    4\n",
      "Pontiac Firebird    19.2   8  400 175 3.08 3.845 17.05  0  0    3    2\n",
      "Hornet Sportabout   18.7   8  360 175 3.15 3.440 17.02  0  0    3    2\n"
     ]
    }
   ],
   "source": [
    "%%R\n",
    "# Standard R\n",
    "head(arrange(mtcars_r, desc(disp)), 5)"
   ]
  },
  {
   "cell_type": "code",
   "execution_count": 67,
   "metadata": {},
   "outputs": [
    {
     "name": "stdout",
     "output_type": "stream",
     "text": [
      "                     mpg cyl disp  hp drat    wt  qsec vs am gear carb\n",
      "Cadillac Fleetwood  10.4   8  472 205 2.93 5.250 17.98  0  0    3    4\n",
      "Lincoln Continental 10.4   8  460 215 3.00 5.424 17.82  0  0    3    4\n",
      "Chrysler Imperial   14.7   8  440 230 3.23 5.345 17.42  0  0    3    4\n",
      "Pontiac Firebird    19.2   8  400 175 3.08 3.845 17.05  0  0    3    2\n",
      "Hornet Sportabout   18.7   8  360 175 3.15 3.440 17.02  0  0    3    2\n"
     ]
    }
   ],
   "source": [
    "%%R\n",
    "# Dplyr\n",
    "mtcars_r |> arrange(desc(disp)) |> head(5)"
   ]
  },
  {
   "cell_type": "markdown",
   "metadata": {},
   "source": [
    "## Transforming"
   ]
  },
  {
   "cell_type": "markdown",
   "metadata": {},
   "source": [
    "### .rename()"
   ]
  },
  {
   "cell_type": "code",
   "execution_count": 68,
   "metadata": {},
   "outputs": [
    {
     "data": {
      "text/html": [
       "<div>\n",
       "<style scoped>\n",
       "    .dataframe tbody tr th:only-of-type {\n",
       "        vertical-align: middle;\n",
       "    }\n",
       "\n",
       "    .dataframe tbody tr th {\n",
       "        vertical-align: top;\n",
       "    }\n",
       "\n",
       "    .dataframe thead th {\n",
       "        text-align: right;\n",
       "    }\n",
       "</style>\n",
       "<table border=\"1\" class=\"dataframe\">\n",
       "  <thead>\n",
       "    <tr style=\"text-align: right;\">\n",
       "      <th></th>\n",
       "      <th>miles_per_gallong</th>\n",
       "      <th>cyl</th>\n",
       "      <th>disp</th>\n",
       "      <th>hp</th>\n",
       "      <th>drat</th>\n",
       "      <th>wt</th>\n",
       "      <th>qsec</th>\n",
       "      <th>vs</th>\n",
       "      <th>am</th>\n",
       "      <th>gear</th>\n",
       "      <th>carb</th>\n",
       "    </tr>\n",
       "  </thead>\n",
       "  <tbody>\n",
       "    <tr>\n",
       "      <th>Mazda RX4</th>\n",
       "      <td>21.0</td>\n",
       "      <td>6.0</td>\n",
       "      <td>160.0</td>\n",
       "      <td>110.0</td>\n",
       "      <td>3.90</td>\n",
       "      <td>2.620</td>\n",
       "      <td>16.46</td>\n",
       "      <td>0.0</td>\n",
       "      <td>1.0</td>\n",
       "      <td>4.0</td>\n",
       "      <td>4.0</td>\n",
       "    </tr>\n",
       "    <tr>\n",
       "      <th>Mazda RX4 Wag</th>\n",
       "      <td>21.0</td>\n",
       "      <td>6.0</td>\n",
       "      <td>160.0</td>\n",
       "      <td>110.0</td>\n",
       "      <td>3.90</td>\n",
       "      <td>2.875</td>\n",
       "      <td>17.02</td>\n",
       "      <td>0.0</td>\n",
       "      <td>1.0</td>\n",
       "      <td>4.0</td>\n",
       "      <td>4.0</td>\n",
       "    </tr>\n",
       "    <tr>\n",
       "      <th>Datsun 710</th>\n",
       "      <td>22.8</td>\n",
       "      <td>4.0</td>\n",
       "      <td>108.0</td>\n",
       "      <td>93.0</td>\n",
       "      <td>3.85</td>\n",
       "      <td>2.320</td>\n",
       "      <td>18.61</td>\n",
       "      <td>1.0</td>\n",
       "      <td>1.0</td>\n",
       "      <td>4.0</td>\n",
       "      <td>1.0</td>\n",
       "    </tr>\n",
       "    <tr>\n",
       "      <th>Hornet 4 Drive</th>\n",
       "      <td>21.4</td>\n",
       "      <td>6.0</td>\n",
       "      <td>258.0</td>\n",
       "      <td>110.0</td>\n",
       "      <td>3.08</td>\n",
       "      <td>3.215</td>\n",
       "      <td>19.44</td>\n",
       "      <td>1.0</td>\n",
       "      <td>0.0</td>\n",
       "      <td>3.0</td>\n",
       "      <td>1.0</td>\n",
       "    </tr>\n",
       "    <tr>\n",
       "      <th>Hornet Sportabout</th>\n",
       "      <td>18.7</td>\n",
       "      <td>8.0</td>\n",
       "      <td>360.0</td>\n",
       "      <td>175.0</td>\n",
       "      <td>3.15</td>\n",
       "      <td>3.440</td>\n",
       "      <td>17.02</td>\n",
       "      <td>0.0</td>\n",
       "      <td>0.0</td>\n",
       "      <td>3.0</td>\n",
       "      <td>2.0</td>\n",
       "    </tr>\n",
       "  </tbody>\n",
       "</table>\n",
       "</div>"
      ],
      "text/plain": [
       "                   miles_per_gallong  cyl   disp     hp  drat     wt   qsec  \\\n",
       "Mazda RX4                       21.0  6.0  160.0  110.0  3.90  2.620  16.46   \n",
       "Mazda RX4 Wag                   21.0  6.0  160.0  110.0  3.90  2.875  17.02   \n",
       "Datsun 710                      22.8  4.0  108.0   93.0  3.85  2.320  18.61   \n",
       "Hornet 4 Drive                  21.4  6.0  258.0  110.0  3.08  3.215  19.44   \n",
       "Hornet Sportabout               18.7  8.0  360.0  175.0  3.15  3.440  17.02   \n",
       "\n",
       "                    vs   am  gear  carb  \n",
       "Mazda RX4          0.0  1.0   4.0   4.0  \n",
       "Mazda RX4 Wag      0.0  1.0   4.0   4.0  \n",
       "Datsun 710         1.0  1.0   4.0   1.0  \n",
       "Hornet 4 Drive     1.0  0.0   3.0   1.0  \n",
       "Hornet Sportabout  0.0  0.0   3.0   2.0  "
      ]
     },
     "execution_count": 68,
     "metadata": {},
     "output_type": "execute_result"
    }
   ],
   "source": [
    "mtcars_pd.rename(columns={'mpg': 'miles_per_gallong'}).head()"
   ]
  },
  {
   "cell_type": "code",
   "execution_count": 69,
   "metadata": {},
   "outputs": [
    {
     "name": "stdout",
     "output_type": "stream",
     "text": [
      "                  miles_per_gallon cyl disp  hp drat    wt  qsec vs am gear\n",
      "Mazda RX4                     21.0   6  160 110 3.90 2.620 16.46  0  1    4\n",
      "Mazda RX4 Wag                 21.0   6  160 110 3.90 2.875 17.02  0  1    4\n",
      "Datsun 710                    22.8   4  108  93 3.85 2.320 18.61  1  1    4\n",
      "Hornet 4 Drive                21.4   6  258 110 3.08 3.215 19.44  1  0    3\n",
      "Hornet Sportabout             18.7   8  360 175 3.15 3.440 17.02  0  0    3\n",
      "                  carb\n",
      "Mazda RX4            4\n",
      "Mazda RX4 Wag        4\n",
      "Datsun 710           1\n",
      "Hornet 4 Drive       1\n",
      "Hornet Sportabout    2\n"
     ]
    }
   ],
   "source": [
    "%%R\n",
    "# Standard R\n",
    "head(rename(mtcars_r, miles_per_gallon=mpg),5) # new_col_name= old_col_name"
   ]
  },
  {
   "cell_type": "code",
   "execution_count": 70,
   "metadata": {},
   "outputs": [
    {
     "name": "stdout",
     "output_type": "stream",
     "text": [
      "                  miles_per_gallon2 cyl disp  hp drat    wt  qsec vs am gear\n",
      "Mazda RX4                      21.0   6  160 110 3.90 2.620 16.46  0  1    4\n",
      "Mazda RX4 Wag                  21.0   6  160 110 3.90 2.875 17.02  0  1    4\n",
      "Datsun 710                     22.8   4  108  93 3.85 2.320 18.61  1  1    4\n",
      "Hornet 4 Drive                 21.4   6  258 110 3.08 3.215 19.44  1  0    3\n",
      "Hornet Sportabout              18.7   8  360 175 3.15 3.440 17.02  0  0    3\n",
      "                  carb\n",
      "Mazda RX4            4\n",
      "Mazda RX4 Wag        4\n",
      "Datsun 710           1\n",
      "Hornet 4 Drive       1\n",
      "Hornet Sportabout    2\n"
     ]
    }
   ],
   "source": [
    "%%R\n",
    "# Dplyr\n",
    "mtcars_r |> rename(miles_per_gallon2=mpg) |> head(5) # new_col_name= old_col_name"
   ]
  },
  {
   "cell_type": "code",
   "execution_count": 71,
   "metadata": {},
   "outputs": [
    {
     "data": {
      "text/plain": [
       "Mazda RX4            21.0\n",
       "Mazda RX4 Wag        21.0\n",
       "Datsun 710           22.8\n",
       "Hornet 4 Drive       21.4\n",
       "Hornet Sportabout    18.7\n",
       "Name: miles_per_gallon, dtype: float64"
      ]
     },
     "execution_count": 71,
     "metadata": {},
     "output_type": "execute_result"
    }
   ],
   "source": [
    "mtcars_pd.rename(columns={'mpg':'miles_per_gallon'})['miles_per_gallon'].head()"
   ]
  },
  {
   "cell_type": "code",
   "execution_count": 72,
   "metadata": {},
   "outputs": [
    {
     "name": "stdout",
     "output_type": "stream",
     "text": [
      "                  miles_per_gallon\n",
      "Mazda RX4                     21.0\n",
      "Mazda RX4 Wag                 21.0\n",
      "Datsun 710                    22.8\n",
      "Hornet 4 Drive                21.4\n",
      "Hornet Sportabout             18.7\n"
     ]
    }
   ],
   "source": [
    "%%R\n",
    "# Standard R\n",
    "head(select(mtcars_r, miles_per_gallon=mpg),5)"
   ]
  },
  {
   "cell_type": "markdown",
   "metadata": {},
   "source": [
    "### .assign()"
   ]
  },
  {
   "cell_type": "code",
   "execution_count": 73,
   "metadata": {},
   "outputs": [
    {
     "data": {
      "text/html": [
       "<div>\n",
       "<style scoped>\n",
       "    .dataframe tbody tr th:only-of-type {\n",
       "        vertical-align: middle;\n",
       "    }\n",
       "\n",
       "    .dataframe tbody tr th {\n",
       "        vertical-align: top;\n",
       "    }\n",
       "\n",
       "    .dataframe thead th {\n",
       "        text-align: right;\n",
       "    }\n",
       "</style>\n",
       "<table border=\"1\" class=\"dataframe\">\n",
       "  <thead>\n",
       "    <tr style=\"text-align: right;\">\n",
       "      <th></th>\n",
       "      <th>mpg</th>\n",
       "      <th>cyl</th>\n",
       "      <th>disp</th>\n",
       "      <th>hp</th>\n",
       "      <th>drat</th>\n",
       "      <th>wt</th>\n",
       "      <th>qsec</th>\n",
       "      <th>vs</th>\n",
       "      <th>am</th>\n",
       "      <th>gear</th>\n",
       "      <th>carb</th>\n",
       "      <th>disp_per_cyl</th>\n",
       "    </tr>\n",
       "  </thead>\n",
       "  <tbody>\n",
       "    <tr>\n",
       "      <th>Mazda RX4</th>\n",
       "      <td>21.0</td>\n",
       "      <td>6.0</td>\n",
       "      <td>160.0</td>\n",
       "      <td>110.0</td>\n",
       "      <td>3.90</td>\n",
       "      <td>2.620</td>\n",
       "      <td>16.46</td>\n",
       "      <td>0.0</td>\n",
       "      <td>1.0</td>\n",
       "      <td>4.0</td>\n",
       "      <td>4.0</td>\n",
       "      <td>26.666667</td>\n",
       "    </tr>\n",
       "    <tr>\n",
       "      <th>Mazda RX4 Wag</th>\n",
       "      <td>21.0</td>\n",
       "      <td>6.0</td>\n",
       "      <td>160.0</td>\n",
       "      <td>110.0</td>\n",
       "      <td>3.90</td>\n",
       "      <td>2.875</td>\n",
       "      <td>17.02</td>\n",
       "      <td>0.0</td>\n",
       "      <td>1.0</td>\n",
       "      <td>4.0</td>\n",
       "      <td>4.0</td>\n",
       "      <td>26.666667</td>\n",
       "    </tr>\n",
       "    <tr>\n",
       "      <th>Datsun 710</th>\n",
       "      <td>22.8</td>\n",
       "      <td>4.0</td>\n",
       "      <td>108.0</td>\n",
       "      <td>93.0</td>\n",
       "      <td>3.85</td>\n",
       "      <td>2.320</td>\n",
       "      <td>18.61</td>\n",
       "      <td>1.0</td>\n",
       "      <td>1.0</td>\n",
       "      <td>4.0</td>\n",
       "      <td>1.0</td>\n",
       "      <td>27.000000</td>\n",
       "    </tr>\n",
       "    <tr>\n",
       "      <th>Hornet 4 Drive</th>\n",
       "      <td>21.4</td>\n",
       "      <td>6.0</td>\n",
       "      <td>258.0</td>\n",
       "      <td>110.0</td>\n",
       "      <td>3.08</td>\n",
       "      <td>3.215</td>\n",
       "      <td>19.44</td>\n",
       "      <td>1.0</td>\n",
       "      <td>0.0</td>\n",
       "      <td>3.0</td>\n",
       "      <td>1.0</td>\n",
       "      <td>43.000000</td>\n",
       "    </tr>\n",
       "    <tr>\n",
       "      <th>Hornet Sportabout</th>\n",
       "      <td>18.7</td>\n",
       "      <td>8.0</td>\n",
       "      <td>360.0</td>\n",
       "      <td>175.0</td>\n",
       "      <td>3.15</td>\n",
       "      <td>3.440</td>\n",
       "      <td>17.02</td>\n",
       "      <td>0.0</td>\n",
       "      <td>0.0</td>\n",
       "      <td>3.0</td>\n",
       "      <td>2.0</td>\n",
       "      <td>45.000000</td>\n",
       "    </tr>\n",
       "  </tbody>\n",
       "</table>\n",
       "</div>"
      ],
      "text/plain": [
       "                    mpg  cyl   disp     hp  drat     wt   qsec   vs   am  \\\n",
       "Mazda RX4          21.0  6.0  160.0  110.0  3.90  2.620  16.46  0.0  1.0   \n",
       "Mazda RX4 Wag      21.0  6.0  160.0  110.0  3.90  2.875  17.02  0.0  1.0   \n",
       "Datsun 710         22.8  4.0  108.0   93.0  3.85  2.320  18.61  1.0  1.0   \n",
       "Hornet 4 Drive     21.4  6.0  258.0  110.0  3.08  3.215  19.44  1.0  0.0   \n",
       "Hornet Sportabout  18.7  8.0  360.0  175.0  3.15  3.440  17.02  0.0  0.0   \n",
       "\n",
       "                   gear  carb  disp_per_cyl  \n",
       "Mazda RX4           4.0   4.0     26.666667  \n",
       "Mazda RX4 Wag       4.0   4.0     26.666667  \n",
       "Datsun 710          4.0   1.0     27.000000  \n",
       "Hornet 4 Drive      3.0   1.0     43.000000  \n",
       "Hornet Sportabout   3.0   2.0     45.000000  "
      ]
     },
     "execution_count": 73,
     "metadata": {},
     "output_type": "execute_result"
    }
   ],
   "source": [
    "mtcars_pd.assign(disp_per_cyl=mtcars_pd['disp']/mtcars_pd['cyl']).head()\n",
    "# mtcars_pd['disp_per_cyl'] = mtcars_pd['disp']/mtcars_pd['cyl'] # alternative"
   ]
  },
  {
   "cell_type": "code",
   "execution_count": 74,
   "metadata": {},
   "outputs": [
    {
     "name": "stdout",
     "output_type": "stream",
     "text": [
      "                   mpg cyl disp  hp drat    wt  qsec vs am gear carb\n",
      "Mazda RX4         21.0   6  160 110 3.90 2.620 16.46  0  1    4    4\n",
      "Mazda RX4 Wag     21.0   6  160 110 3.90 2.875 17.02  0  1    4    4\n",
      "Datsun 710        22.8   4  108  93 3.85 2.320 18.61  1  1    4    1\n",
      "Hornet 4 Drive    21.4   6  258 110 3.08 3.215 19.44  1  0    3    1\n",
      "Hornet Sportabout 18.7   8  360 175 3.15 3.440 17.02  0  0    3    2\n",
      "                  disp_per_cyl\n",
      "Mazda RX4             26.66667\n",
      "Mazda RX4 Wag         26.66667\n",
      "Datsun 710            27.00000\n",
      "Hornet 4 Drive        43.00000\n",
      "Hornet Sportabout     45.00000\n"
     ]
    }
   ],
   "source": [
    "%%R\n",
    "# Standard R\n",
    "head(mutate(mtcars_r, disp_per_cyl=disp/cyl), 5)"
   ]
  },
  {
   "cell_type": "code",
   "execution_count": 75,
   "metadata": {},
   "outputs": [
    {
     "name": "stdout",
     "output_type": "stream",
     "text": [
      "                   mpg cyl disp  hp drat    wt  qsec vs am gear carb\n",
      "Mazda RX4         21.0   6  160 110 3.90 2.620 16.46  0  1    4    4\n",
      "Mazda RX4 Wag     21.0   6  160 110 3.90 2.875 17.02  0  1    4    4\n",
      "Datsun 710        22.8   4  108  93 3.85 2.320 18.61  1  1    4    1\n",
      "Hornet 4 Drive    21.4   6  258 110 3.08 3.215 19.44  1  0    3    1\n",
      "Hornet Sportabout 18.7   8  360 175 3.15 3.440 17.02  0  0    3    2\n",
      "                  disp_per_cyl\n",
      "Mazda RX4             26.66667\n",
      "Mazda RX4 Wag         26.66667\n",
      "Datsun 710            27.00000\n",
      "Hornet 4 Drive        43.00000\n",
      "Hornet Sportabout     45.00000\n"
     ]
    }
   ],
   "source": [
    "%%R\n",
    "# Dplyr\n",
    "mtcars_r |> mutate(disp_per_cyl=disp/cyl) |> head(5)"
   ]
  },
  {
   "cell_type": "markdown",
   "metadata": {},
   "source": [
    "## Grouping and Summarizing"
   ]
  },
  {
   "cell_type": "markdown",
   "metadata": {},
   "source": [
    "### .describe()"
   ]
  },
  {
   "cell_type": "code",
   "execution_count": 76,
   "metadata": {},
   "outputs": [
    {
     "data": {
      "text/html": [
       "<div>\n",
       "<style scoped>\n",
       "    .dataframe tbody tr th:only-of-type {\n",
       "        vertical-align: middle;\n",
       "    }\n",
       "\n",
       "    .dataframe tbody tr th {\n",
       "        vertical-align: top;\n",
       "    }\n",
       "\n",
       "    .dataframe thead th {\n",
       "        text-align: right;\n",
       "    }\n",
       "</style>\n",
       "<table border=\"1\" class=\"dataframe\">\n",
       "  <thead>\n",
       "    <tr style=\"text-align: right;\">\n",
       "      <th></th>\n",
       "      <th>mpg</th>\n",
       "      <th>cyl</th>\n",
       "      <th>disp</th>\n",
       "      <th>hp</th>\n",
       "      <th>drat</th>\n",
       "      <th>wt</th>\n",
       "      <th>qsec</th>\n",
       "      <th>vs</th>\n",
       "      <th>am</th>\n",
       "      <th>gear</th>\n",
       "      <th>carb</th>\n",
       "    </tr>\n",
       "  </thead>\n",
       "  <tbody>\n",
       "    <tr>\n",
       "      <th>count</th>\n",
       "      <td>32.000000</td>\n",
       "      <td>32.000000</td>\n",
       "      <td>32.000000</td>\n",
       "      <td>32.000000</td>\n",
       "      <td>32.000000</td>\n",
       "      <td>32.000000</td>\n",
       "      <td>32.000000</td>\n",
       "      <td>32.000000</td>\n",
       "      <td>32.000000</td>\n",
       "      <td>32.000000</td>\n",
       "      <td>32.0000</td>\n",
       "    </tr>\n",
       "    <tr>\n",
       "      <th>mean</th>\n",
       "      <td>20.090625</td>\n",
       "      <td>6.187500</td>\n",
       "      <td>230.721875</td>\n",
       "      <td>146.687500</td>\n",
       "      <td>3.596563</td>\n",
       "      <td>3.217250</td>\n",
       "      <td>17.848750</td>\n",
       "      <td>0.437500</td>\n",
       "      <td>0.406250</td>\n",
       "      <td>3.687500</td>\n",
       "      <td>2.8125</td>\n",
       "    </tr>\n",
       "    <tr>\n",
       "      <th>std</th>\n",
       "      <td>6.026948</td>\n",
       "      <td>1.785922</td>\n",
       "      <td>123.938694</td>\n",
       "      <td>68.562868</td>\n",
       "      <td>0.534679</td>\n",
       "      <td>0.978457</td>\n",
       "      <td>1.786943</td>\n",
       "      <td>0.504016</td>\n",
       "      <td>0.498991</td>\n",
       "      <td>0.737804</td>\n",
       "      <td>1.6152</td>\n",
       "    </tr>\n",
       "    <tr>\n",
       "      <th>min</th>\n",
       "      <td>10.400000</td>\n",
       "      <td>4.000000</td>\n",
       "      <td>71.100000</td>\n",
       "      <td>52.000000</td>\n",
       "      <td>2.760000</td>\n",
       "      <td>1.513000</td>\n",
       "      <td>14.500000</td>\n",
       "      <td>0.000000</td>\n",
       "      <td>0.000000</td>\n",
       "      <td>3.000000</td>\n",
       "      <td>1.0000</td>\n",
       "    </tr>\n",
       "    <tr>\n",
       "      <th>25%</th>\n",
       "      <td>15.425000</td>\n",
       "      <td>4.000000</td>\n",
       "      <td>120.825000</td>\n",
       "      <td>96.500000</td>\n",
       "      <td>3.080000</td>\n",
       "      <td>2.581250</td>\n",
       "      <td>16.892500</td>\n",
       "      <td>0.000000</td>\n",
       "      <td>0.000000</td>\n",
       "      <td>3.000000</td>\n",
       "      <td>2.0000</td>\n",
       "    </tr>\n",
       "    <tr>\n",
       "      <th>50%</th>\n",
       "      <td>19.200000</td>\n",
       "      <td>6.000000</td>\n",
       "      <td>196.300000</td>\n",
       "      <td>123.000000</td>\n",
       "      <td>3.695000</td>\n",
       "      <td>3.325000</td>\n",
       "      <td>17.710000</td>\n",
       "      <td>0.000000</td>\n",
       "      <td>0.000000</td>\n",
       "      <td>4.000000</td>\n",
       "      <td>2.0000</td>\n",
       "    </tr>\n",
       "    <tr>\n",
       "      <th>75%</th>\n",
       "      <td>22.800000</td>\n",
       "      <td>8.000000</td>\n",
       "      <td>326.000000</td>\n",
       "      <td>180.000000</td>\n",
       "      <td>3.920000</td>\n",
       "      <td>3.610000</td>\n",
       "      <td>18.900000</td>\n",
       "      <td>1.000000</td>\n",
       "      <td>1.000000</td>\n",
       "      <td>4.000000</td>\n",
       "      <td>4.0000</td>\n",
       "    </tr>\n",
       "    <tr>\n",
       "      <th>max</th>\n",
       "      <td>33.900000</td>\n",
       "      <td>8.000000</td>\n",
       "      <td>472.000000</td>\n",
       "      <td>335.000000</td>\n",
       "      <td>4.930000</td>\n",
       "      <td>5.424000</td>\n",
       "      <td>22.900000</td>\n",
       "      <td>1.000000</td>\n",
       "      <td>1.000000</td>\n",
       "      <td>5.000000</td>\n",
       "      <td>8.0000</td>\n",
       "    </tr>\n",
       "  </tbody>\n",
       "</table>\n",
       "</div>"
      ],
      "text/plain": [
       "             mpg        cyl        disp          hp       drat         wt  \\\n",
       "count  32.000000  32.000000   32.000000   32.000000  32.000000  32.000000   \n",
       "mean   20.090625   6.187500  230.721875  146.687500   3.596563   3.217250   \n",
       "std     6.026948   1.785922  123.938694   68.562868   0.534679   0.978457   \n",
       "min    10.400000   4.000000   71.100000   52.000000   2.760000   1.513000   \n",
       "25%    15.425000   4.000000  120.825000   96.500000   3.080000   2.581250   \n",
       "50%    19.200000   6.000000  196.300000  123.000000   3.695000   3.325000   \n",
       "75%    22.800000   8.000000  326.000000  180.000000   3.920000   3.610000   \n",
       "max    33.900000   8.000000  472.000000  335.000000   4.930000   5.424000   \n",
       "\n",
       "            qsec         vs         am       gear     carb  \n",
       "count  32.000000  32.000000  32.000000  32.000000  32.0000  \n",
       "mean   17.848750   0.437500   0.406250   3.687500   2.8125  \n",
       "std     1.786943   0.504016   0.498991   0.737804   1.6152  \n",
       "min    14.500000   0.000000   0.000000   3.000000   1.0000  \n",
       "25%    16.892500   0.000000   0.000000   3.000000   2.0000  \n",
       "50%    17.710000   0.000000   0.000000   4.000000   2.0000  \n",
       "75%    18.900000   1.000000   1.000000   4.000000   4.0000  \n",
       "max    22.900000   1.000000   1.000000   5.000000   8.0000  "
      ]
     },
     "execution_count": 76,
     "metadata": {},
     "output_type": "execute_result"
    }
   ],
   "source": [
    "mtcars_pd.describe()"
   ]
  },
  {
   "cell_type": "code",
   "execution_count": 77,
   "metadata": {},
   "outputs": [
    {
     "name": "stdout",
     "output_type": "stream",
     "text": [
      "      mpg             cyl             disp             hp       \n",
      " Min.   :10.40   Min.   :4.000   Min.   : 71.1   Min.   : 52.0  \n",
      " 1st Qu.:15.43   1st Qu.:4.000   1st Qu.:120.8   1st Qu.: 96.5  \n",
      " Median :19.20   Median :6.000   Median :196.3   Median :123.0  \n",
      " Mean   :20.09   Mean   :6.188   Mean   :230.7   Mean   :146.7  \n",
      " 3rd Qu.:22.80   3rd Qu.:8.000   3rd Qu.:326.0   3rd Qu.:180.0  \n",
      " Max.   :33.90   Max.   :8.000   Max.   :472.0   Max.   :335.0  \n",
      "      drat             wt             qsec             vs        \n",
      " Min.   :2.760   Min.   :1.513   Min.   :14.50   Min.   :0.0000  \n",
      " 1st Qu.:3.080   1st Qu.:2.581   1st Qu.:16.89   1st Qu.:0.0000  \n",
      " Median :3.695   Median :3.325   Median :17.71   Median :0.0000  \n",
      " Mean   :3.597   Mean   :3.217   Mean   :17.85   Mean   :0.4375  \n",
      " 3rd Qu.:3.920   3rd Qu.:3.610   3rd Qu.:18.90   3rd Qu.:1.0000  \n",
      " Max.   :4.930   Max.   :5.424   Max.   :22.90   Max.   :1.0000  \n",
      "       am              gear            carb      \n",
      " Min.   :0.0000   Min.   :3.000   Min.   :1.000  \n",
      " 1st Qu.:0.0000   1st Qu.:3.000   1st Qu.:2.000  \n",
      " Median :0.0000   Median :4.000   Median :2.000  \n",
      " Mean   :0.4062   Mean   :3.688   Mean   :2.812  \n",
      " 3rd Qu.:1.0000   3rd Qu.:4.000   3rd Qu.:4.000  \n",
      " Max.   :1.0000   Max.   :5.000   Max.   :8.000  \n"
     ]
    }
   ],
   "source": [
    "%%R\n",
    "# Standard R\n",
    "summary(mtcars_r)"
   ]
  },
  {
   "cell_type": "code",
   "execution_count": 78,
   "metadata": {},
   "outputs": [
    {
     "name": "stdout",
     "output_type": "stream",
     "text": [
      "      mpg             cyl             disp             hp       \n",
      " Min.   :10.40   Min.   :4.000   Min.   : 71.1   Min.   : 52.0  \n",
      " 1st Qu.:15.43   1st Qu.:4.000   1st Qu.:120.8   1st Qu.: 96.5  \n",
      " Median :19.20   Median :6.000   Median :196.3   Median :123.0  \n",
      " Mean   :20.09   Mean   :6.188   Mean   :230.7   Mean   :146.7  \n",
      " 3rd Qu.:22.80   3rd Qu.:8.000   3rd Qu.:326.0   3rd Qu.:180.0  \n",
      " Max.   :33.90   Max.   :8.000   Max.   :472.0   Max.   :335.0  \n",
      "      drat             wt             qsec             vs        \n",
      " Min.   :2.760   Min.   :1.513   Min.   :14.50   Min.   :0.0000  \n",
      " 1st Qu.:3.080   1st Qu.:2.581   1st Qu.:16.89   1st Qu.:0.0000  \n",
      " Median :3.695   Median :3.325   Median :17.71   Median :0.0000  \n",
      " Mean   :3.597   Mean   :3.217   Mean   :17.85   Mean   :0.4375  \n",
      " 3rd Qu.:3.920   3rd Qu.:3.610   3rd Qu.:18.90   3rd Qu.:1.0000  \n",
      " Max.   :4.930   Max.   :5.424   Max.   :22.90   Max.   :1.0000  \n",
      "       am              gear            carb      \n",
      " Min.   :0.0000   Min.   :3.000   Min.   :1.000  \n",
      " 1st Qu.:0.0000   1st Qu.:3.000   1st Qu.:2.000  \n",
      " Median :0.0000   Median :4.000   Median :2.000  \n",
      " Mean   :0.4062   Mean   :3.688   Mean   :2.812  \n",
      " 3rd Qu.:1.0000   3rd Qu.:4.000   3rd Qu.:4.000  \n",
      " Max.   :1.0000   Max.   :5.000   Max.   :8.000  \n"
     ]
    }
   ],
   "source": [
    "%%R\n",
    "# Dplyr\n",
    "mtcars_r |> summary()"
   ]
  },
  {
   "cell_type": "code",
   "execution_count": 79,
   "metadata": {},
   "outputs": [
    {
     "data": {
      "text/plain": [
       "mpg      20.090625\n",
       "cyl       6.187500\n",
       "disp    230.721875\n",
       "hp      146.687500\n",
       "drat      3.596563\n",
       "wt        3.217250\n",
       "qsec     17.848750\n",
       "vs        0.437500\n",
       "am        0.406250\n",
       "gear      3.687500\n",
       "carb      2.812500\n",
       "dtype: float64"
      ]
     },
     "execution_count": 79,
     "metadata": {},
     "output_type": "execute_result"
    }
   ],
   "source": [
    "mtcars_pd.mean(axis=0) # column wise mean operation"
   ]
  },
  {
   "cell_type": "code",
   "execution_count": 80,
   "metadata": {},
   "outputs": [
    {
     "name": "stdout",
     "output_type": "stream",
     "text": [
      "       mpg    cyl     disp       hp     drat      wt     qsec     vs      am\n",
      "1 20.09062 6.1875 230.7219 146.6875 3.596563 3.21725 17.84875 0.4375 0.40625\n",
      "    gear   carb\n",
      "1 3.6875 2.8125\n"
     ]
    }
   ],
   "source": [
    "%%R\n",
    "# Dplyr\n",
    "mtcars_r |> summarize(across(everything(), mean))"
   ]
  },
  {
   "cell_type": "code",
   "execution_count": 81,
   "metadata": {},
   "outputs": [
    {
     "data": {
      "text/plain": [
       "Mazda RX4            29.907273\n",
       "Mazda RX4 Wag        29.981364\n",
       "Datsun 710           23.598182\n",
       "Hornet 4 Drive       38.739545\n",
       "Hornet Sportabout    53.664545\n",
       "dtype: float64"
      ]
     },
     "execution_count": 81,
     "metadata": {},
     "output_type": "execute_result"
    }
   ],
   "source": [
    "mtcars_pd.mean(axis=1).head() # row-wise mean operation"
   ]
  },
  {
   "cell_type": "code",
   "execution_count": 82,
   "metadata": {},
   "outputs": [
    {
     "name": "stdout",
     "output_type": "stream",
     "text": [
      "# A tibble: 5 x 1\n",
      "# Rowwise: \n",
      "  total\n",
      "  <dbl>\n",
      "1  29.9\n",
      "2  30.0\n",
      "3  23.6\n",
      "4  38.7\n",
      "5  53.7\n"
     ]
    }
   ],
   "source": [
    "%%R\n",
    "# Dplyr\n",
    "# mutate() creates new variable(column)\n",
    "# .keep='none' will not return columns used to create new variable\n",
    "mtcars_r |> rowwise() |> mutate(total=mean(c_across(everything())), .keep='none') |>head(5)"
   ]
  },
  {
   "cell_type": "code",
   "execution_count": 83,
   "metadata": {},
   "outputs": [
    {
     "name": "stdout",
     "output_type": "stream",
     "text": [
      "# A tibble: 5 x 12\n",
      "# Rowwise: \n",
      "    mpg   cyl  disp    hp  drat    wt  qsec    vs    am  gear  carb total\n",
      "  <dbl> <dbl> <dbl> <dbl> <dbl> <dbl> <dbl> <dbl> <dbl> <dbl> <dbl> <dbl>\n",
      "1  21       6   160   110  3.9   2.62  16.5     0     1     4     4  29.9\n",
      "2  21       6   160   110  3.9   2.88  17.0     0     1     4     4  30.0\n",
      "3  22.8     4   108    93  3.85  2.32  18.6     1     1     4     1  23.6\n",
      "4  21.4     6   258   110  3.08  3.22  19.4     1     0     3     1  38.7\n",
      "5  18.7     8   360   175  3.15  3.44  17.0     0     0     3     2  53.7\n"
     ]
    }
   ],
   "source": [
    "%%R\n",
    "# Dplyr\n",
    "# mutate() creates new variable(column)\n",
    "mtcars_r |> rowwise() |> mutate(total=mean(c_across(everything()))) |> head(5)"
   ]
  },
  {
   "cell_type": "markdown",
   "metadata": {},
   "source": [
    "### .groupby()"
   ]
  },
  {
   "cell_type": "code",
   "execution_count": 84,
   "metadata": {},
   "outputs": [
    {
     "data": {
      "text/plain": [
       "<pandas.core.groupby.generic.DataFrameGroupBy object at 0x0000016A4FA04E90>"
      ]
     },
     "execution_count": 84,
     "metadata": {},
     "output_type": "execute_result"
    }
   ],
   "source": [
    "mtcars_pd.groupby('cyl')"
   ]
  },
  {
   "cell_type": "code",
   "execution_count": 85,
   "metadata": {},
   "outputs": [],
   "source": [
    "%%R\n",
    "gdf <- group_by(mtcars, cyl)"
   ]
  },
  {
   "cell_type": "markdown",
   "metadata": {},
   "source": [
    "### .groupby() + . agg()"
   ]
  },
  {
   "cell_type": "code",
   "execution_count": 86,
   "metadata": {},
   "outputs": [
    {
     "data": {
      "text/html": [
       "<div>\n",
       "<style scoped>\n",
       "    .dataframe tbody tr th:only-of-type {\n",
       "        vertical-align: middle;\n",
       "    }\n",
       "\n",
       "    .dataframe tbody tr th {\n",
       "        vertical-align: top;\n",
       "    }\n",
       "\n",
       "    .dataframe thead th {\n",
       "        text-align: right;\n",
       "    }\n",
       "</style>\n",
       "<table border=\"1\" class=\"dataframe\">\n",
       "  <thead>\n",
       "    <tr style=\"text-align: right;\">\n",
       "      <th></th>\n",
       "      <th>mpg</th>\n",
       "    </tr>\n",
       "    <tr>\n",
       "      <th>cyl</th>\n",
       "      <th></th>\n",
       "    </tr>\n",
       "  </thead>\n",
       "  <tbody>\n",
       "    <tr>\n",
       "      <th>4.0</th>\n",
       "      <td>26.663636</td>\n",
       "    </tr>\n",
       "    <tr>\n",
       "      <th>6.0</th>\n",
       "      <td>19.742857</td>\n",
       "    </tr>\n",
       "    <tr>\n",
       "      <th>8.0</th>\n",
       "      <td>15.100000</td>\n",
       "    </tr>\n",
       "  </tbody>\n",
       "</table>\n",
       "</div>"
      ],
      "text/plain": [
       "           mpg\n",
       "cyl           \n",
       "4.0  26.663636\n",
       "6.0  19.742857\n",
       "8.0  15.100000"
      ]
     },
     "execution_count": 86,
     "metadata": {},
     "output_type": "execute_result"
    }
   ],
   "source": [
    "mtcars_pd.groupby('cyl').agg({'mpg':'mean'})"
   ]
  },
  {
   "cell_type": "code",
   "execution_count": 90,
   "metadata": {},
   "outputs": [
    {
     "name": "stdout",
     "output_type": "stream",
     "text": [
      "# A tibble: 3 x 2\n",
      "    cyl   avg\n",
      "  <dbl> <dbl>\n",
      "1     4  26.7\n",
      "2     6  19.7\n",
      "3     8  15.1\n"
     ]
    }
   ],
   "source": [
    "%%R\n",
    "# Standard R\n",
    "gdf <- group_by(mtcars_r, cyl)\n",
    "summarise(gdf, avg=mean(mpg, na.rm=TRUE))"
   ]
  },
  {
   "cell_type": "code",
   "execution_count": 91,
   "metadata": {},
   "outputs": [
    {
     "name": "stdout",
     "output_type": "stream",
     "text": [
      "# A tibble: 3 x 2\n",
      "    cyl   avg\n",
      "  <dbl> <dbl>\n",
      "1     4  26.7\n",
      "2     6  19.7\n",
      "3     8  15.1\n"
     ]
    }
   ],
   "source": [
    "%%R\n",
    "# Dplyr\n",
    "mtcars_r |> group_by(cyl) |> summarize(avg=mean(mpg))"
   ]
  },
  {
   "cell_type": "code",
   "execution_count": 93,
   "metadata": {},
   "outputs": [
    {
     "data": {
      "text/html": [
       "<div>\n",
       "<style scoped>\n",
       "    .dataframe tbody tr th:only-of-type {\n",
       "        vertical-align: middle;\n",
       "    }\n",
       "\n",
       "    .dataframe tbody tr th {\n",
       "        vertical-align: top;\n",
       "    }\n",
       "\n",
       "    .dataframe thead th {\n",
       "        text-align: right;\n",
       "    }\n",
       "</style>\n",
       "<table border=\"1\" class=\"dataframe\">\n",
       "  <thead>\n",
       "    <tr style=\"text-align: right;\">\n",
       "      <th></th>\n",
       "      <th></th>\n",
       "      <th>disp</th>\n",
       "      <th>hp</th>\n",
       "    </tr>\n",
       "    <tr>\n",
       "      <th>cyl</th>\n",
       "      <th>gear</th>\n",
       "      <th></th>\n",
       "      <th></th>\n",
       "    </tr>\n",
       "  </thead>\n",
       "  <tbody>\n",
       "    <tr>\n",
       "      <th rowspan=\"3\" valign=\"top\">4.0</th>\n",
       "      <th>3.0</th>\n",
       "      <td>120.100000</td>\n",
       "      <td>97.000000</td>\n",
       "    </tr>\n",
       "    <tr>\n",
       "      <th>4.0</th>\n",
       "      <td>102.625000</td>\n",
       "      <td>76.000000</td>\n",
       "    </tr>\n",
       "    <tr>\n",
       "      <th>5.0</th>\n",
       "      <td>107.700000</td>\n",
       "      <td>102.000000</td>\n",
       "    </tr>\n",
       "    <tr>\n",
       "      <th rowspan=\"3\" valign=\"top\">6.0</th>\n",
       "      <th>3.0</th>\n",
       "      <td>241.500000</td>\n",
       "      <td>107.500000</td>\n",
       "    </tr>\n",
       "    <tr>\n",
       "      <th>4.0</th>\n",
       "      <td>163.800000</td>\n",
       "      <td>116.500000</td>\n",
       "    </tr>\n",
       "    <tr>\n",
       "      <th>5.0</th>\n",
       "      <td>145.000000</td>\n",
       "      <td>175.000000</td>\n",
       "    </tr>\n",
       "    <tr>\n",
       "      <th rowspan=\"2\" valign=\"top\">8.0</th>\n",
       "      <th>3.0</th>\n",
       "      <td>357.616667</td>\n",
       "      <td>194.166667</td>\n",
       "    </tr>\n",
       "    <tr>\n",
       "      <th>5.0</th>\n",
       "      <td>326.000000</td>\n",
       "      <td>299.500000</td>\n",
       "    </tr>\n",
       "  </tbody>\n",
       "</table>\n",
       "</div>"
      ],
      "text/plain": [
       "                disp          hp\n",
       "cyl gear                        \n",
       "4.0 3.0   120.100000   97.000000\n",
       "    4.0   102.625000   76.000000\n",
       "    5.0   107.700000  102.000000\n",
       "6.0 3.0   241.500000  107.500000\n",
       "    4.0   163.800000  116.500000\n",
       "    5.0   145.000000  175.000000\n",
       "8.0 3.0   357.616667  194.166667\n",
       "    5.0   326.000000  299.500000"
      ]
     },
     "execution_count": 93,
     "metadata": {},
     "output_type": "execute_result"
    }
   ],
   "source": [
    "mtcars_pd.groupby(['cyl', 'gear']).agg({'disp':'mean', 'hp':'mean'})"
   ]
  },
  {
   "cell_type": "code",
   "execution_count": 94,
   "metadata": {},
   "outputs": [
    {
     "name": "stdout",
     "output_type": "stream",
     "text": [
      "  Group.1 Group.2     disp       hp\n",
      "1       4       3 120.1000  97.0000\n",
      "2       6       3 241.5000 107.5000\n",
      "3       8       3 357.6167 194.1667\n",
      "4       4       4 102.6250  76.0000\n",
      "5       6       4 163.8000 116.5000\n",
      "6       4       5 107.7000 102.0000\n",
      "7       6       5 145.0000 175.0000\n",
      "8       8       5 326.0000 299.5000\n"
     ]
    }
   ],
   "source": [
    "%%R\n",
    "# Standard R\n",
    "aggregate(x=mtcars_r[, c('disp','hp')], by=list(mtcars_r$cyl, mtcars_r$gear), FUN=mean)"
   ]
  },
  {
   "cell_type": "markdown",
   "metadata": {},
   "source": [
    "## Slicing"
   ]
  },
  {
   "cell_type": "markdown",
   "metadata": {},
   "source": [
    "### Slicing using column names"
   ]
  },
  {
   "cell_type": "code",
   "execution_count": 95,
   "metadata": {},
   "outputs": [
    {
     "data": {
      "text/html": [
       "<div>\n",
       "<style scoped>\n",
       "    .dataframe tbody tr th:only-of-type {\n",
       "        vertical-align: middle;\n",
       "    }\n",
       "\n",
       "    .dataframe tbody tr th {\n",
       "        vertical-align: top;\n",
       "    }\n",
       "\n",
       "    .dataframe thead th {\n",
       "        text-align: right;\n",
       "    }\n",
       "</style>\n",
       "<table border=\"1\" class=\"dataframe\">\n",
       "  <thead>\n",
       "    <tr style=\"text-align: right;\">\n",
       "      <th></th>\n",
       "      <th>mpg</th>\n",
       "      <th>cyl</th>\n",
       "    </tr>\n",
       "  </thead>\n",
       "  <tbody>\n",
       "    <tr>\n",
       "      <th>Mazda RX4</th>\n",
       "      <td>21.0</td>\n",
       "      <td>6.0</td>\n",
       "    </tr>\n",
       "    <tr>\n",
       "      <th>Mazda RX4 Wag</th>\n",
       "      <td>21.0</td>\n",
       "      <td>6.0</td>\n",
       "    </tr>\n",
       "    <tr>\n",
       "      <th>Datsun 710</th>\n",
       "      <td>22.8</td>\n",
       "      <td>4.0</td>\n",
       "    </tr>\n",
       "    <tr>\n",
       "      <th>Hornet 4 Drive</th>\n",
       "      <td>21.4</td>\n",
       "      <td>6.0</td>\n",
       "    </tr>\n",
       "    <tr>\n",
       "      <th>Hornet Sportabout</th>\n",
       "      <td>18.7</td>\n",
       "      <td>8.0</td>\n",
       "    </tr>\n",
       "  </tbody>\n",
       "</table>\n",
       "</div>"
      ],
      "text/plain": [
       "                    mpg  cyl\n",
       "Mazda RX4          21.0  6.0\n",
       "Mazda RX4 Wag      21.0  6.0\n",
       "Datsun 710         22.8  4.0\n",
       "Hornet 4 Drive     21.4  6.0\n",
       "Hornet Sportabout  18.7  8.0"
      ]
     },
     "execution_count": 95,
     "metadata": {},
     "output_type": "execute_result"
    }
   ],
   "source": [
    "mtcars_pd[['mpg', 'cyl']].head()"
   ]
  },
  {
   "cell_type": "code",
   "execution_count": 96,
   "metadata": {},
   "outputs": [
    {
     "name": "stdout",
     "output_type": "stream",
     "text": [
      "                   mpg cyl\n",
      "Mazda RX4         21.0   6\n",
      "Mazda RX4 Wag     21.0   6\n",
      "Datsun 710        22.8   4\n",
      "Hornet 4 Drive    21.4   6\n",
      "Hornet Sportabout 18.7   8\n"
     ]
    }
   ],
   "source": [
    "%%R\n",
    "# Standard R\n",
    "head(mtcars_r[, c('mpg','cyl')], 5)"
   ]
  },
  {
   "cell_type": "markdown",
   "metadata": {},
   "source": [
    "### Slicing using integer location"
   ]
  },
  {
   "cell_type": "code",
   "execution_count": 97,
   "metadata": {},
   "outputs": [
    {
     "data": {
      "text/html": [
       "<div>\n",
       "<style scoped>\n",
       "    .dataframe tbody tr th:only-of-type {\n",
       "        vertical-align: middle;\n",
       "    }\n",
       "\n",
       "    .dataframe tbody tr th {\n",
       "        vertical-align: top;\n",
       "    }\n",
       "\n",
       "    .dataframe thead th {\n",
       "        text-align: right;\n",
       "    }\n",
       "</style>\n",
       "<table border=\"1\" class=\"dataframe\">\n",
       "  <thead>\n",
       "    <tr style=\"text-align: right;\">\n",
       "      <th></th>\n",
       "      <th>mpg</th>\n",
       "      <th>cyl</th>\n",
       "    </tr>\n",
       "  </thead>\n",
       "  <tbody>\n",
       "    <tr>\n",
       "      <th>Mazda RX4</th>\n",
       "      <td>21.0</td>\n",
       "      <td>6.0</td>\n",
       "    </tr>\n",
       "    <tr>\n",
       "      <th>Mazda RX4 Wag</th>\n",
       "      <td>21.0</td>\n",
       "      <td>6.0</td>\n",
       "    </tr>\n",
       "    <tr>\n",
       "      <th>Datsun 710</th>\n",
       "      <td>22.8</td>\n",
       "      <td>4.0</td>\n",
       "    </tr>\n",
       "    <tr>\n",
       "      <th>Hornet 4 Drive</th>\n",
       "      <td>21.4</td>\n",
       "      <td>6.0</td>\n",
       "    </tr>\n",
       "    <tr>\n",
       "      <th>Hornet Sportabout</th>\n",
       "      <td>18.7</td>\n",
       "      <td>8.0</td>\n",
       "    </tr>\n",
       "  </tbody>\n",
       "</table>\n",
       "</div>"
      ],
      "text/plain": [
       "                    mpg  cyl\n",
       "Mazda RX4          21.0  6.0\n",
       "Mazda RX4 Wag      21.0  6.0\n",
       "Datsun 710         22.8  4.0\n",
       "Hornet 4 Drive     21.4  6.0\n",
       "Hornet Sportabout  18.7  8.0"
      ]
     },
     "execution_count": 97,
     "metadata": {},
     "output_type": "execute_result"
    }
   ],
   "source": [
    "mtcars_pd.iloc[:,0:2].head()"
   ]
  },
  {
   "cell_type": "code",
   "execution_count": 98,
   "metadata": {},
   "outputs": [
    {
     "name": "stdout",
     "output_type": "stream",
     "text": [
      "                   mpg cyl\n",
      "Mazda RX4         21.0   6\n",
      "Mazda RX4 Wag     21.0   6\n",
      "Datsun 710        22.8   4\n",
      "Hornet 4 Drive    21.4   6\n",
      "Hornet Sportabout 18.7   8\n"
     ]
    }
   ],
   "source": [
    "%%R\n",
    "# Standard R\n",
    "head(mtcars_r[, c(1:2)], 5)"
   ]
  },
  {
   "cell_type": "markdown",
   "metadata": {},
   "source": [
    "### .isin() R: match / %in%"
   ]
  },
  {
   "cell_type": "code",
   "execution_count": 99,
   "metadata": {},
   "outputs": [
    {
     "data": {
      "text/plain": [
       "0    False\n",
       "1    False\n",
       "2     True\n",
       "3    False\n",
       "4     True\n",
       "dtype: bool"
      ]
     },
     "execution_count": 99,
     "metadata": {},
     "output_type": "execute_result"
    }
   ],
   "source": [
    "s = pd.Series(range(0,5)) # 0,1,2,3,4\n",
    "s.isin([2,4])"
   ]
  },
  {
   "cell_type": "code",
   "execution_count": 100,
   "metadata": {},
   "outputs": [
    {
     "name": "stdout",
     "output_type": "stream",
     "text": [
      "[1] FALSE FALSE  TRUE FALSE  TRUE\n"
     ]
    }
   ],
   "source": [
    "%%R\n",
    "s <- 0:4\n",
    "s %in% c(2,4)"
   ]
  },
  {
   "cell_type": "markdown",
   "metadata": {},
   "source": [
    "### .pivot_table() R: tapply"
   ]
  },
  {
   "cell_type": "code",
   "execution_count": 118,
   "metadata": {},
   "outputs": [
    {
     "data": {
      "text/html": [
       "<div>\n",
       "<style scoped>\n",
       "    .dataframe tbody tr th:only-of-type {\n",
       "        vertical-align: middle;\n",
       "    }\n",
       "\n",
       "    .dataframe tbody tr th {\n",
       "        vertical-align: top;\n",
       "    }\n",
       "\n",
       "    .dataframe thead th {\n",
       "        text-align: right;\n",
       "    }\n",
       "</style>\n",
       "<table border=\"1\" class=\"dataframe\">\n",
       "  <thead>\n",
       "    <tr style=\"text-align: right;\">\n",
       "      <th>team</th>\n",
       "      <th>team 1</th>\n",
       "      <th>team 2</th>\n",
       "      <th>team 3</th>\n",
       "      <th>team 4</th>\n",
       "      <th>team 5</th>\n",
       "    </tr>\n",
       "  </thead>\n",
       "  <tbody>\n",
       "    <tr>\n",
       "      <th>batting avg</th>\n",
       "      <td>0.395724</td>\n",
       "      <td>0.359832</td>\n",
       "      <td>0.378355</td>\n",
       "      <td>0.392733</td>\n",
       "      <td>0.374002</td>\n",
       "    </tr>\n",
       "  </tbody>\n",
       "</table>\n",
       "</div>"
      ],
      "text/plain": [
       "team           team 1    team 2    team 3    team 4    team 5\n",
       "batting avg  0.395724  0.359832  0.378355  0.392733  0.374002"
      ]
     },
     "execution_count": 118,
     "metadata": {},
     "output_type": "execute_result"
    }
   ],
   "source": [
    "import random\n",
    "import string\n",
    "import numpy as np\n",
    "\n",
    "baseball_pd = pd.DataFrame(\n",
    "    {\n",
    "        'team': [f'team {x+1:d}' for x in range(5)] * 5,\n",
    "        'player': random.sample(list(string.ascii_lowercase), 25),\n",
    "        'batting avg': np.random.uniform(0.2, 0.4, 25),\n",
    "    }\n",
    ")\n",
    "\n",
    "baseball_pd.pivot_table(values='batting avg', columns='team', aggfunc='max')"
   ]
  },
  {
   "cell_type": "code",
   "execution_count": 119,
   "metadata": {},
   "outputs": [
    {
     "name": "stdout",
     "output_type": "stream",
     "text": [
      "   Team A    Team B    Team C    Team D    Team E \n",
      "0.3654747 0.3641893 0.3578712 0.3464627 0.3722419 \n"
     ]
    }
   ],
   "source": [
    "%%R\n",
    "baseball_r <- data.frame(team = gl(5,5,labels = paste('Team', LETTERS[1:5])), player = sample(letters, 25), batting.average = runif(25,.2,.4))\n",
    "\n",
    "tapply(baseball_r$batting.average, baseball_r$team, max)"
   ]
  },
  {
   "cell_type": "markdown",
   "metadata": {},
   "source": [
    "### .eval() R: with"
   ]
  },
  {
   "cell_type": "code",
   "execution_count": 120,
   "metadata": {},
   "outputs": [
    {
     "data": {
      "text/plain": [
       "Mazda RX4            26.666667\n",
       "Mazda RX4 Wag        26.666667\n",
       "Datsun 710           27.000000\n",
       "Hornet 4 Drive       43.000000\n",
       "Hornet Sportabout    45.000000\n",
       "dtype: float64"
      ]
     },
     "execution_count": 120,
     "metadata": {},
     "output_type": "execute_result"
    }
   ],
   "source": [
    "mtcars_pd.eval('disp / cyl').head()"
   ]
  },
  {
   "cell_type": "code",
   "execution_count": 121,
   "metadata": {},
   "outputs": [
    {
     "name": "stdout",
     "output_type": "stream",
     "text": [
      "[1] 26.66667 26.66667 27.00000 43.00000 45.00000\n"
     ]
    }
   ],
   "source": [
    "%%R\n",
    "# head(with(mtcars_r, disp/cyl),5) # option 1\n",
    "head(mtcars_r$disp / mtcars$cyl, 5) # option 2"
   ]
  },
  {
   "cell_type": "markdown",
   "metadata": {},
   "source": [
    "## Vectorized Functions\n",
    "R: To use in conjunction with mutate()"
   ]
  },
  {
   "cell_type": "markdown",
   "metadata": {},
   "source": [
    "### .shift()"
   ]
  },
  {
   "cell_type": "code",
   "execution_count": 122,
   "metadata": {},
   "outputs": [
    {
     "data": {
      "text/plain": [
       "Mazda RX4            NaN\n",
       "Mazda RX4 Wag        4.0\n",
       "Datsun 710           4.0\n",
       "Hornet 4 Drive       1.0\n",
       "Hornet Sportabout    1.0\n",
       "Name: carb, dtype: float64"
      ]
     },
     "execution_count": 122,
     "metadata": {},
     "output_type": "execute_result"
    }
   ],
   "source": [
    "mtcars_pd['carb'].shift(1).head()"
   ]
  },
  {
   "cell_type": "code",
   "execution_count": 123,
   "metadata": {},
   "outputs": [
    {
     "name": "stdout",
     "output_type": "stream",
     "text": [
      "                  carb carb_lag\n",
      "Mazda RX4            4       NA\n",
      "Mazda RX4 Wag        4        4\n",
      "Datsun 710           1        4\n",
      "Hornet 4 Drive       1        1\n",
      "Hornet Sportabout    2        1\n"
     ]
    }
   ],
   "source": [
    "%%R\n",
    "# Dplyr Creates new column and offset elements by 1\n",
    "mtcars_r |> select(carb) |> mutate(carb_lag=lag(mtcars_r$carb,1 )) |> head(5)"
   ]
  },
  {
   "cell_type": "code",
   "execution_count": 124,
   "metadata": {},
   "outputs": [
    {
     "name": "stdout",
     "output_type": "stream",
     "text": [
      "                  carb carb_lead\n",
      "Mazda RX4            4         4\n",
      "Mazda RX4 Wag        4         1\n",
      "Datsun 710           1         1\n",
      "Hornet 4 Drive       1         2\n",
      "Hornet Sportabout    2         1\n"
     ]
    }
   ],
   "source": [
    "%%R\n",
    "# Dplyr Creates new column and offset elements by -1\n",
    "mtcars_r |> select(carb) |> mutate(carb_lead=lead(mtcars_r$carb,1 )) |> head(5)"
   ]
  },
  {
   "cell_type": "markdown",
   "metadata": {},
   "source": [
    "### .cumprod()"
   ]
  },
  {
   "cell_type": "code",
   "execution_count": 125,
   "metadata": {},
   "outputs": [
    {
     "data": {
      "text/plain": [
       "Mazda RX4             4.0\n",
       "Mazda RX4 Wag        16.0\n",
       "Datsun 710           16.0\n",
       "Hornet 4 Drive       16.0\n",
       "Hornet Sportabout    32.0\n",
       "Name: carb, dtype: float64"
      ]
     },
     "execution_count": 125,
     "metadata": {},
     "output_type": "execute_result"
    }
   ],
   "source": [
    "mtcars_pd['carb'].cumprod().head()"
   ]
  },
  {
   "cell_type": "code",
   "execution_count": 127,
   "metadata": {},
   "outputs": [
    {
     "name": "stdout",
     "output_type": "stream",
     "text": [
      "                  carb carb_cumprod\n",
      "Mazda RX4            4            4\n",
      "Mazda RX4 Wag        4           16\n",
      "Datsun 710           1           16\n",
      "Hornet 4 Drive       1           16\n",
      "Hornet Sportabout    2           32\n"
     ]
    }
   ],
   "source": [
    "%%R\n",
    "# Dplyr\n",
    "mtcars_r |> select(carb) |> mutate(carb_cumprod=cumprod(mtcars_r$carb)) |> head(5)"
   ]
  },
  {
   "cell_type": "markdown",
   "metadata": {},
   "source": [
    "### .cumsum()"
   ]
  },
  {
   "cell_type": "code",
   "execution_count": 128,
   "metadata": {},
   "outputs": [
    {
     "data": {
      "text/plain": [
       "Mazda RX4             4.0\n",
       "Mazda RX4 Wag         8.0\n",
       "Datsun 710            9.0\n",
       "Hornet 4 Drive       10.0\n",
       "Hornet Sportabout    12.0\n",
       "Name: carb, dtype: float64"
      ]
     },
     "execution_count": 128,
     "metadata": {},
     "output_type": "execute_result"
    }
   ],
   "source": [
    "mtcars_pd['carb'].cumsum().head()"
   ]
  },
  {
   "cell_type": "code",
   "execution_count": 129,
   "metadata": {},
   "outputs": [
    {
     "name": "stdout",
     "output_type": "stream",
     "text": [
      "                  carb carb_cumsum\n",
      "Mazda RX4            4           4\n",
      "Mazda RX4 Wag        4           8\n",
      "Datsun 710           1           9\n",
      "Hornet 4 Drive       1          10\n",
      "Hornet Sportabout    2          12\n"
     ]
    }
   ],
   "source": [
    "%%R\n",
    "# Dplyr\n",
    "mtcars_r |> select(carb) |> mutate(carb_cumsum=cumsum(mtcars_r$carb)) |> head(5)"
   ]
  },
  {
   "cell_type": "markdown",
   "metadata": {},
   "source": [
    "### .cummin()"
   ]
  },
  {
   "cell_type": "code",
   "execution_count": 130,
   "metadata": {},
   "outputs": [
    {
     "data": {
      "text/plain": [
       "Mazda RX4            4.0\n",
       "Mazda RX4 Wag        4.0\n",
       "Datsun 710           1.0\n",
       "Hornet 4 Drive       1.0\n",
       "Hornet Sportabout    1.0\n",
       "Name: carb, dtype: float64"
      ]
     },
     "execution_count": 130,
     "metadata": {},
     "output_type": "execute_result"
    }
   ],
   "source": [
    "mtcars_pd['carb'].cummin().head()"
   ]
  },
  {
   "cell_type": "code",
   "execution_count": 131,
   "metadata": {},
   "outputs": [
    {
     "name": "stdout",
     "output_type": "stream",
     "text": [
      "                  carb carb_cummin\n",
      "Mazda RX4            4           4\n",
      "Mazda RX4 Wag        4           4\n",
      "Datsun 710           1           1\n",
      "Hornet 4 Drive       1           1\n",
      "Hornet Sportabout    2           1\n"
     ]
    }
   ],
   "source": [
    "%%R\n",
    "# Dplyr\n",
    "mtcars_r |> select(carb) |> mutate(carb_cummin=cummin(mtcars_r$carb)) |> head(5)"
   ]
  },
  {
   "cell_type": "markdown",
   "metadata": {},
   "source": [
    "### .cummax()"
   ]
  },
  {
   "cell_type": "code",
   "execution_count": 132,
   "metadata": {},
   "outputs": [
    {
     "data": {
      "text/plain": [
       "Mazda RX4            4.0\n",
       "Mazda RX4 Wag        4.0\n",
       "Datsun 710           4.0\n",
       "Hornet 4 Drive       4.0\n",
       "Hornet Sportabout    4.0\n",
       "Name: carb, dtype: float64"
      ]
     },
     "execution_count": 132,
     "metadata": {},
     "output_type": "execute_result"
    }
   ],
   "source": [
    "mtcars_pd['carb'].cummax().head()"
   ]
  },
  {
   "cell_type": "code",
   "execution_count": 133,
   "metadata": {},
   "outputs": [
    {
     "name": "stdout",
     "output_type": "stream",
     "text": [
      "                  carb carb_cummax\n",
      "Mazda RX4            4           4\n",
      "Mazda RX4 Wag        4           4\n",
      "Datsun 710           1           4\n",
      "Hornet 4 Drive       1           4\n",
      "Hornet Sportabout    2           4\n"
     ]
    }
   ],
   "source": [
    "%%R\n",
    "# Dplyr\n",
    "mtcars_r |> select(carb) |> mutate(carb_cummax=cummax(mtcars_r$carb)) |> head(5)"
   ]
  },
  {
   "cell_type": "markdown",
   "metadata": {},
   "source": [
    "### Mathematical operations\n",
    "* Arithmetic: |, -, *, /, ^, %/%, %%\n",
    "* logs: log(), log2(), log10()\n",
    "* logical: <, <=, >, >=, !=, =="
   ]
  },
  {
   "cell_type": "code",
   "execution_count": 134,
   "metadata": {},
   "outputs": [
    {
     "data": {
      "text/plain": [
       "Mazda RX4            3.044522\n",
       "Mazda RX4 Wag        3.044522\n",
       "Datsun 710           3.126761\n",
       "Hornet 4 Drive       3.063391\n",
       "Hornet Sportabout    2.928524\n",
       "Name: mpg, dtype: float64"
      ]
     },
     "execution_count": 134,
     "metadata": {},
     "output_type": "execute_result"
    }
   ],
   "source": [
    "mtcars_pd['mpg'].apply(np.log).head()"
   ]
  },
  {
   "cell_type": "code",
   "execution_count": 135,
   "metadata": {},
   "outputs": [
    {
     "name": "stdout",
     "output_type": "stream",
     "text": [
      "                   mpg log(mpg)\n",
      "Mazda RX4         21.0 3.044522\n",
      "Mazda RX4 Wag     21.0 3.044522\n",
      "Datsun 710        22.8 3.126761\n",
      "Hornet 4 Drive    21.4 3.063391\n",
      "Hornet Sportabout 18.7 2.928524\n",
      "Valiant           18.1 2.895912\n"
     ]
    }
   ],
   "source": [
    "%%R\n",
    "# Dplyr\n",
    "mtcars_r |> select(mpg) |> mutate(log(mpg)) |> head()"
   ]
  },
  {
   "cell_type": "markdown",
   "metadata": {},
   "source": [
    "### Multi-case"
   ]
  },
  {
   "cell_type": "code",
   "execution_count": 136,
   "metadata": {},
   "outputs": [
    {
     "data": {
      "text/html": [
       "<div>\n",
       "<style scoped>\n",
       "    .dataframe tbody tr th:only-of-type {\n",
       "        vertical-align: middle;\n",
       "    }\n",
       "\n",
       "    .dataframe tbody tr th {\n",
       "        vertical-align: top;\n",
       "    }\n",
       "\n",
       "    .dataframe thead th {\n",
       "        text-align: right;\n",
       "    }\n",
       "</style>\n",
       "<table border=\"1\" class=\"dataframe\">\n",
       "  <thead>\n",
       "    <tr style=\"text-align: right;\">\n",
       "      <th></th>\n",
       "      <th>mpg</th>\n",
       "      <th>cyl</th>\n",
       "      <th>disp</th>\n",
       "      <th>hp</th>\n",
       "      <th>drat</th>\n",
       "      <th>wt</th>\n",
       "      <th>qsec</th>\n",
       "      <th>vs</th>\n",
       "      <th>am</th>\n",
       "      <th>gear</th>\n",
       "      <th>carb</th>\n",
       "      <th>cyl_size</th>\n",
       "    </tr>\n",
       "  </thead>\n",
       "  <tbody>\n",
       "    <tr>\n",
       "      <th>Mazda RX4</th>\n",
       "      <td>21.0</td>\n",
       "      <td>6.0</td>\n",
       "      <td>160.0</td>\n",
       "      <td>110.0</td>\n",
       "      <td>3.90</td>\n",
       "      <td>2.620</td>\n",
       "      <td>16.46</td>\n",
       "      <td>0.0</td>\n",
       "      <td>1.0</td>\n",
       "      <td>4.0</td>\n",
       "      <td>4.0</td>\n",
       "      <td>medium</td>\n",
       "    </tr>\n",
       "    <tr>\n",
       "      <th>Mazda RX4 Wag</th>\n",
       "      <td>21.0</td>\n",
       "      <td>6.0</td>\n",
       "      <td>160.0</td>\n",
       "      <td>110.0</td>\n",
       "      <td>3.90</td>\n",
       "      <td>2.875</td>\n",
       "      <td>17.02</td>\n",
       "      <td>0.0</td>\n",
       "      <td>1.0</td>\n",
       "      <td>4.0</td>\n",
       "      <td>4.0</td>\n",
       "      <td>medium</td>\n",
       "    </tr>\n",
       "    <tr>\n",
       "      <th>Datsun 710</th>\n",
       "      <td>22.8</td>\n",
       "      <td>4.0</td>\n",
       "      <td>108.0</td>\n",
       "      <td>93.0</td>\n",
       "      <td>3.85</td>\n",
       "      <td>2.320</td>\n",
       "      <td>18.61</td>\n",
       "      <td>1.0</td>\n",
       "      <td>1.0</td>\n",
       "      <td>4.0</td>\n",
       "      <td>1.0</td>\n",
       "      <td>small</td>\n",
       "    </tr>\n",
       "    <tr>\n",
       "      <th>Hornet 4 Drive</th>\n",
       "      <td>21.4</td>\n",
       "      <td>6.0</td>\n",
       "      <td>258.0</td>\n",
       "      <td>110.0</td>\n",
       "      <td>3.08</td>\n",
       "      <td>3.215</td>\n",
       "      <td>19.44</td>\n",
       "      <td>1.0</td>\n",
       "      <td>0.0</td>\n",
       "      <td>3.0</td>\n",
       "      <td>1.0</td>\n",
       "      <td>medium</td>\n",
       "    </tr>\n",
       "    <tr>\n",
       "      <th>Hornet Sportabout</th>\n",
       "      <td>18.7</td>\n",
       "      <td>8.0</td>\n",
       "      <td>360.0</td>\n",
       "      <td>175.0</td>\n",
       "      <td>3.15</td>\n",
       "      <td>3.440</td>\n",
       "      <td>17.02</td>\n",
       "      <td>0.0</td>\n",
       "      <td>0.0</td>\n",
       "      <td>3.0</td>\n",
       "      <td>2.0</td>\n",
       "      <td>large</td>\n",
       "    </tr>\n",
       "  </tbody>\n",
       "</table>\n",
       "</div>"
      ],
      "text/plain": [
       "                    mpg  cyl   disp     hp  drat     wt   qsec   vs   am  \\\n",
       "Mazda RX4          21.0  6.0  160.0  110.0  3.90  2.620  16.46  0.0  1.0   \n",
       "Mazda RX4 Wag      21.0  6.0  160.0  110.0  3.90  2.875  17.02  0.0  1.0   \n",
       "Datsun 710         22.8  4.0  108.0   93.0  3.85  2.320  18.61  1.0  1.0   \n",
       "Hornet 4 Drive     21.4  6.0  258.0  110.0  3.08  3.215  19.44  1.0  0.0   \n",
       "Hornet Sportabout  18.7  8.0  360.0  175.0  3.15  3.440  17.02  0.0  0.0   \n",
       "\n",
       "                   gear  carb cyl_size  \n",
       "Mazda RX4           4.0   4.0   medium  \n",
       "Mazda RX4 Wag       4.0   4.0   medium  \n",
       "Datsun 710          4.0   1.0    small  \n",
       "Hornet 4 Drive      3.0   1.0   medium  \n",
       "Hornet Sportabout   3.0   2.0    large  "
      ]
     },
     "execution_count": 136,
     "metadata": {},
     "output_type": "execute_result"
    }
   ],
   "source": [
    "# np.select, np.where or lambda function\n",
    "condlist = [mtcars_pd['cyl']>6, mtcars_pd['cyl']>4, mtcars_pd['cyl']<=4]\n",
    "choicelist = ['large', 'medium', 'small']\n",
    "mtcars_pd['cyl_size'] = np.select(condlist, choicelist, mtcars_pd['cyl'])\n",
    "mtcars_pd.head()"
   ]
  },
  {
   "cell_type": "code",
   "execution_count": 140,
   "metadata": {},
   "outputs": [
    {
     "name": "stdout",
     "output_type": "stream",
     "text": [
      "                   mpg cyl disp  hp drat    wt  qsec vs am gear carb cyl_size\n",
      "Mazda RX4         21.0   6  160 110 3.90 2.620 16.46  0  1    4    4   medium\n",
      "Mazda RX4 Wag     21.0   6  160 110 3.90 2.875 17.02  0  1    4    4   medium\n",
      "Datsun 710        22.8   4  108  93 3.85 2.320 18.61  1  1    4    1    small\n",
      "Hornet 4 Drive    21.4   6  258 110 3.08 3.215 19.44  1  0    3    1   medium\n",
      "Hornet Sportabout 18.7   8  360 175 3.15 3.440 17.02  0  0    3    2    large\n"
     ]
    }
   ],
   "source": [
    "%%R\n",
    "# Dplyr\n",
    "mtcars_r |> mutate(cyl_size=case_when(\n",
    "    cyl>6 ~ 'large',\n",
    "    cyl>4 ~ 'medium',\n",
    "    cyl<=4 ~ 'small')) |> head(5)"
   ]
  },
  {
   "cell_type": "markdown",
   "metadata": {},
   "source": [
    "## Summary Functions\n",
    "R: To use in conjunction with summarize() or other masking verbs"
   ]
  },
  {
   "cell_type": "markdown",
   "metadata": {},
   "source": [
    "### .count()"
   ]
  },
  {
   "cell_type": "code",
   "execution_count": 141,
   "metadata": {},
   "outputs": [
    {
     "data": {
      "text/plain": [
       "mpg         32\n",
       "cyl         32\n",
       "disp        32\n",
       "hp          32\n",
       "drat        32\n",
       "wt          32\n",
       "qsec        32\n",
       "vs          32\n",
       "am          32\n",
       "gear        32\n",
       "carb        32\n",
       "cyl_size    32\n",
       "dtype: int64"
      ]
     },
     "execution_count": 141,
     "metadata": {},
     "output_type": "execute_result"
    }
   ],
   "source": [
    "mtcars_pd.count()"
   ]
  },
  {
   "cell_type": "code",
   "execution_count": 142,
   "metadata": {},
   "outputs": [
    {
     "name": "stdout",
     "output_type": "stream",
     "text": [
      "  count\n",
      "1    32\n"
     ]
    }
   ],
   "source": [
    "%%R\n",
    "# Dplyr\n",
    "mtcars_r |> summarize(count=n()) |> head()"
   ]
  },
  {
   "cell_type": "markdown",
   "metadata": {},
   "source": [
    "### .nunique()"
   ]
  },
  {
   "cell_type": "code",
   "execution_count": 143,
   "metadata": {},
   "outputs": [
    {
     "data": {
      "text/plain": [
       "3"
      ]
     },
     "execution_count": 143,
     "metadata": {},
     "output_type": "execute_result"
    }
   ],
   "source": [
    "mtcars_pd['cyl'].nunique()"
   ]
  },
  {
   "cell_type": "code",
   "execution_count": 144,
   "metadata": {},
   "outputs": [
    {
     "name": "stdout",
     "output_type": "stream",
     "text": [
      "  cyl_types\n",
      "1         3\n"
     ]
    }
   ],
   "source": [
    "%%R\n",
    "# Dplyr\n",
    "mtcars_r |> select(cyl) |> summarize(cyl_types = n_distinct(mtcars_r$cyl))"
   ]
  },
  {
   "cell_type": "markdown",
   "metadata": {},
   "source": [
    "### .mean()"
   ]
  },
  {
   "cell_type": "code",
   "execution_count": 145,
   "metadata": {},
   "outputs": [
    {
     "data": {
      "text/plain": [
       "6.1875"
      ]
     },
     "execution_count": 145,
     "metadata": {},
     "output_type": "execute_result"
    }
   ],
   "source": [
    "mtcars_pd['cyl'].mean()"
   ]
  },
  {
   "cell_type": "code",
   "execution_count": 146,
   "metadata": {},
   "outputs": [
    {
     "name": "stdout",
     "output_type": "stream",
     "text": [
      "  cyl_mean\n",
      "1   6.1875\n"
     ]
    }
   ],
   "source": [
    "%%R\n",
    "# Dplyr\n",
    "mtcars_r |> select(cyl) |> summarize(cyl_mean = mean(mtcars_r$cyl))"
   ]
  },
  {
   "cell_type": "markdown",
   "metadata": {},
   "source": [
    "### .median()"
   ]
  },
  {
   "cell_type": "code",
   "execution_count": 147,
   "metadata": {},
   "outputs": [
    {
     "data": {
      "text/plain": [
       "6.0"
      ]
     },
     "execution_count": 147,
     "metadata": {},
     "output_type": "execute_result"
    }
   ],
   "source": [
    "mtcars_pd['cyl'].median()"
   ]
  },
  {
   "cell_type": "code",
   "execution_count": 148,
   "metadata": {},
   "outputs": [
    {
     "name": "stdout",
     "output_type": "stream",
     "text": [
      "  cyl_median\n",
      "1          6\n"
     ]
    }
   ],
   "source": [
    "%%R\n",
    "# Dplyr\n",
    "mtcars_r |> select(cyl) |> summarize(cyl_median = median(mtcars_r$cyl))"
   ]
  },
  {
   "cell_type": "markdown",
   "metadata": {},
   "source": [
    "### .quantile()"
   ]
  },
  {
   "cell_type": "code",
   "execution_count": 149,
   "metadata": {},
   "outputs": [
    {
     "data": {
      "text/plain": [
       "0.2    120.14\n",
       "0.8    350.80\n",
       "Name: disp, dtype: float64"
      ]
     },
     "execution_count": 149,
     "metadata": {},
     "output_type": "execute_result"
    }
   ],
   "source": [
    "mtcars_pd['disp'].quantile([0.2,0.8])"
   ]
  },
  {
   "cell_type": "code",
   "execution_count": 150,
   "metadata": {},
   "outputs": [
    {
     "name": "stdout",
     "output_type": "stream",
     "text": [
      "  disp_quantile\n",
      "1        120.14\n",
      "2        350.80\n"
     ]
    }
   ],
   "source": [
    "%%R\n",
    "# Dplyr\n",
    "mtcars_r |> reframe(disp_quantile = quantile(disp, c(0.2,0.8)))"
   ]
  },
  {
   "cell_type": "markdown",
   "metadata": {},
   "source": [
    "### .min()"
   ]
  },
  {
   "cell_type": "code",
   "execution_count": 151,
   "metadata": {},
   "outputs": [
    {
     "data": {
      "text/plain": [
       "71.1"
      ]
     },
     "execution_count": 151,
     "metadata": {},
     "output_type": "execute_result"
    }
   ],
   "source": [
    "mtcars_pd['disp'].min()"
   ]
  },
  {
   "cell_type": "code",
   "execution_count": 152,
   "metadata": {},
   "outputs": [
    {
     "name": "stdout",
     "output_type": "stream",
     "text": [
      "  min(disp)\n",
      "1      71.1\n"
     ]
    }
   ],
   "source": [
    "%%R\n",
    "# Dplyr\n",
    "mtcars_r |> summarize(min(disp))"
   ]
  },
  {
   "cell_type": "markdown",
   "metadata": {},
   "source": [
    "### .max()"
   ]
  },
  {
   "cell_type": "code",
   "execution_count": 153,
   "metadata": {},
   "outputs": [
    {
     "data": {
      "text/plain": [
       "472.0"
      ]
     },
     "execution_count": 153,
     "metadata": {},
     "output_type": "execute_result"
    }
   ],
   "source": [
    "mtcars_pd['disp'].max()"
   ]
  },
  {
   "cell_type": "code",
   "execution_count": 154,
   "metadata": {},
   "outputs": [
    {
     "name": "stdout",
     "output_type": "stream",
     "text": [
      "  max(disp)\n",
      "1       472\n"
     ]
    }
   ],
   "source": [
    "%%R\n",
    "# Dplyr\n",
    "mtcars_r |> summarize(max(disp))"
   ]
  },
  {
   "cell_type": "markdown",
   "metadata": {},
   "source": [
    "### Interquartile Range (IQR)"
   ]
  },
  {
   "cell_type": "code",
   "execution_count": 157,
   "metadata": {},
   "outputs": [
    {
     "data": {
      "text/plain": [
       "205.175"
      ]
     },
     "execution_count": 157,
     "metadata": {},
     "output_type": "execute_result"
    }
   ],
   "source": [
    "IQR_pd = mtcars_pd['disp'].quantile(0.75) - mtcars_pd['disp'].quantile(0.25)\n",
    "IQR_pd"
   ]
  },
  {
   "cell_type": "code",
   "execution_count": 158,
   "metadata": {},
   "outputs": [
    {
     "name": "stdout",
     "output_type": "stream",
     "text": [
      "  IQR(disp)\n",
      "1   205.175\n"
     ]
    }
   ],
   "source": [
    "%%R\n",
    "# Dplyr\n",
    "mtcars_r |> summarize(IQR(disp))"
   ]
  },
  {
   "cell_type": "markdown",
   "metadata": {},
   "source": [
    "### .mad() (mean absolute deviation)"
   ]
  },
  {
   "cell_type": "code",
   "execution_count": 176,
   "metadata": {},
   "outputs": [
    {
     "data": {
      "text/plain": [
       "108.78574218749999"
      ]
     },
     "execution_count": 176,
     "metadata": {},
     "output_type": "execute_result"
    }
   ],
   "source": [
    "# mtcars_pd['disp'].mad() # Deprecated\n",
    "(mtcars_pd['disp'] - mtcars_pd['disp'].mean()).abs().mean()"
   ]
  },
  {
   "cell_type": "code",
   "execution_count": 177,
   "metadata": {},
   "outputs": [
    {
     "name": "stdout",
     "output_type": "stream",
     "text": [
      "  mad(disp, center = median(disp))\n",
      "1                         140.4764\n"
     ]
    }
   ],
   "source": [
    "%%R\n",
    "# Dplyr\n",
    "mtcars_r |> summarize(mad(disp)) # Note R defaults the center to the median not mean"
   ]
  },
  {
   "cell_type": "markdown",
   "metadata": {},
   "source": [
    "### .std() (Standard Deviation)"
   ]
  },
  {
   "cell_type": "code",
   "execution_count": 181,
   "metadata": {},
   "outputs": [
    {
     "data": {
      "text/plain": [
       "123.93869383138194"
      ]
     },
     "execution_count": 181,
     "metadata": {},
     "output_type": "execute_result"
    }
   ],
   "source": [
    "mtcars_pd['disp'].std()"
   ]
  },
  {
   "cell_type": "code",
   "execution_count": 182,
   "metadata": {},
   "outputs": [
    {
     "name": "stdout",
     "output_type": "stream",
     "text": [
      "  sd(disp)\n",
      "1 123.9387\n"
     ]
    }
   ],
   "source": [
    "%%R\n",
    "# Dplyr\n",
    "mtcars_r |> summarize(sd(disp))"
   ]
  },
  {
   "cell_type": "markdown",
   "metadata": {},
   "source": [
    "### .var (Variance)"
   ]
  },
  {
   "cell_type": "code",
   "execution_count": 183,
   "metadata": {},
   "outputs": [
    {
     "data": {
      "text/plain": [
       "15360.799828629031"
      ]
     },
     "execution_count": 183,
     "metadata": {},
     "output_type": "execute_result"
    }
   ],
   "source": [
    "mtcars_pd['disp'].var()"
   ]
  },
  {
   "cell_type": "code",
   "execution_count": 184,
   "metadata": {},
   "outputs": [
    {
     "name": "stdout",
     "output_type": "stream",
     "text": [
      "  var(disp)\n",
      "1   15360.8\n"
     ]
    }
   ],
   "source": [
    "%%R\n",
    "# Dplyr\n",
    "mtcars_r |> summarize(var(disp))"
   ]
  },
  {
   "cell_type": "markdown",
   "metadata": {},
   "source": [
    "## Columns to Row names and vice versa"
   ]
  },
  {
   "cell_type": "markdown",
   "metadata": {},
   "source": [
    "### .reset_index() (rowname/index to column)"
   ]
  },
  {
   "cell_type": "code",
   "execution_count": 185,
   "metadata": {},
   "outputs": [
    {
     "data": {
      "text/html": [
       "<div>\n",
       "<style scoped>\n",
       "    .dataframe tbody tr th:only-of-type {\n",
       "        vertical-align: middle;\n",
       "    }\n",
       "\n",
       "    .dataframe tbody tr th {\n",
       "        vertical-align: top;\n",
       "    }\n",
       "\n",
       "    .dataframe thead th {\n",
       "        text-align: right;\n",
       "    }\n",
       "</style>\n",
       "<table border=\"1\" class=\"dataframe\">\n",
       "  <thead>\n",
       "    <tr style=\"text-align: right;\">\n",
       "      <th></th>\n",
       "      <th>index</th>\n",
       "      <th>mpg</th>\n",
       "      <th>cyl</th>\n",
       "      <th>disp</th>\n",
       "      <th>hp</th>\n",
       "      <th>drat</th>\n",
       "      <th>wt</th>\n",
       "      <th>qsec</th>\n",
       "      <th>vs</th>\n",
       "      <th>am</th>\n",
       "      <th>gear</th>\n",
       "      <th>carb</th>\n",
       "      <th>cyl_size</th>\n",
       "    </tr>\n",
       "  </thead>\n",
       "  <tbody>\n",
       "    <tr>\n",
       "      <th>0</th>\n",
       "      <td>Mazda RX4</td>\n",
       "      <td>21.0</td>\n",
       "      <td>6.0</td>\n",
       "      <td>160.0</td>\n",
       "      <td>110.0</td>\n",
       "      <td>3.90</td>\n",
       "      <td>2.620</td>\n",
       "      <td>16.46</td>\n",
       "      <td>0.0</td>\n",
       "      <td>1.0</td>\n",
       "      <td>4.0</td>\n",
       "      <td>4.0</td>\n",
       "      <td>medium</td>\n",
       "    </tr>\n",
       "    <tr>\n",
       "      <th>1</th>\n",
       "      <td>Mazda RX4 Wag</td>\n",
       "      <td>21.0</td>\n",
       "      <td>6.0</td>\n",
       "      <td>160.0</td>\n",
       "      <td>110.0</td>\n",
       "      <td>3.90</td>\n",
       "      <td>2.875</td>\n",
       "      <td>17.02</td>\n",
       "      <td>0.0</td>\n",
       "      <td>1.0</td>\n",
       "      <td>4.0</td>\n",
       "      <td>4.0</td>\n",
       "      <td>medium</td>\n",
       "    </tr>\n",
       "    <tr>\n",
       "      <th>2</th>\n",
       "      <td>Datsun 710</td>\n",
       "      <td>22.8</td>\n",
       "      <td>4.0</td>\n",
       "      <td>108.0</td>\n",
       "      <td>93.0</td>\n",
       "      <td>3.85</td>\n",
       "      <td>2.320</td>\n",
       "      <td>18.61</td>\n",
       "      <td>1.0</td>\n",
       "      <td>1.0</td>\n",
       "      <td>4.0</td>\n",
       "      <td>1.0</td>\n",
       "      <td>small</td>\n",
       "    </tr>\n",
       "    <tr>\n",
       "      <th>3</th>\n",
       "      <td>Hornet 4 Drive</td>\n",
       "      <td>21.4</td>\n",
       "      <td>6.0</td>\n",
       "      <td>258.0</td>\n",
       "      <td>110.0</td>\n",
       "      <td>3.08</td>\n",
       "      <td>3.215</td>\n",
       "      <td>19.44</td>\n",
       "      <td>1.0</td>\n",
       "      <td>0.0</td>\n",
       "      <td>3.0</td>\n",
       "      <td>1.0</td>\n",
       "      <td>medium</td>\n",
       "    </tr>\n",
       "    <tr>\n",
       "      <th>4</th>\n",
       "      <td>Hornet Sportabout</td>\n",
       "      <td>18.7</td>\n",
       "      <td>8.0</td>\n",
       "      <td>360.0</td>\n",
       "      <td>175.0</td>\n",
       "      <td>3.15</td>\n",
       "      <td>3.440</td>\n",
       "      <td>17.02</td>\n",
       "      <td>0.0</td>\n",
       "      <td>0.0</td>\n",
       "      <td>3.0</td>\n",
       "      <td>2.0</td>\n",
       "      <td>large</td>\n",
       "    </tr>\n",
       "  </tbody>\n",
       "</table>\n",
       "</div>"
      ],
      "text/plain": [
       "               index   mpg  cyl   disp     hp  drat     wt   qsec   vs   am  \\\n",
       "0          Mazda RX4  21.0  6.0  160.0  110.0  3.90  2.620  16.46  0.0  1.0   \n",
       "1      Mazda RX4 Wag  21.0  6.0  160.0  110.0  3.90  2.875  17.02  0.0  1.0   \n",
       "2         Datsun 710  22.8  4.0  108.0   93.0  3.85  2.320  18.61  1.0  1.0   \n",
       "3     Hornet 4 Drive  21.4  6.0  258.0  110.0  3.08  3.215  19.44  1.0  0.0   \n",
       "4  Hornet Sportabout  18.7  8.0  360.0  175.0  3.15  3.440  17.02  0.0  0.0   \n",
       "\n",
       "   gear  carb cyl_size  \n",
       "0   4.0   4.0   medium  \n",
       "1   4.0   4.0   medium  \n",
       "2   4.0   1.0    small  \n",
       "3   3.0   1.0   medium  \n",
       "4   3.0   2.0    large  "
      ]
     },
     "execution_count": 185,
     "metadata": {},
     "output_type": "execute_result"
    }
   ],
   "source": [
    "mtcars_pd.reset_index().head()"
   ]
  },
  {
   "cell_type": "code",
   "execution_count": 187,
   "metadata": {},
   "outputs": [
    {
     "name": "stdout",
     "output_type": "stream",
     "text": [
      "              index  mpg cyl disp  hp drat    wt  qsec vs am gear carb\n",
      "1         Mazda RX4 21.0   6  160 110 3.90 2.620 16.46  0  1    4    4\n",
      "2     Mazda RX4 Wag 21.0   6  160 110 3.90 2.875 17.02  0  1    4    4\n",
      "3        Datsun 710 22.8   4  108  93 3.85 2.320 18.61  1  1    4    1\n",
      "4    Hornet 4 Drive 21.4   6  258 110 3.08 3.215 19.44  1  0    3    1\n",
      "5 Hornet Sportabout 18.7   8  360 175 3.15 3.440 17.02  0  0    3    2\n",
      "6           Valiant 18.1   6  225 105 2.76 3.460 20.22  1  0    3    1\n"
     ]
    }
   ],
   "source": [
    "%%R\n",
    "# Dplyr & tibble\n",
    "no_row_names_r <- mtcars_r |> tibble::rownames_to_column(var='index') |> head()\n",
    "no_row_names_r"
   ]
  },
  {
   "cell_type": "markdown",
   "metadata": {},
   "source": [
    "### .set_index() (column to index/rowname)"
   ]
  },
  {
   "cell_type": "code",
   "execution_count": 189,
   "metadata": {},
   "outputs": [
    {
     "data": {
      "text/html": [
       "<div>\n",
       "<style scoped>\n",
       "    .dataframe tbody tr th:only-of-type {\n",
       "        vertical-align: middle;\n",
       "    }\n",
       "\n",
       "    .dataframe tbody tr th {\n",
       "        vertical-align: top;\n",
       "    }\n",
       "\n",
       "    .dataframe thead th {\n",
       "        text-align: right;\n",
       "    }\n",
       "</style>\n",
       "<table border=\"1\" class=\"dataframe\">\n",
       "  <thead>\n",
       "    <tr style=\"text-align: right;\">\n",
       "      <th></th>\n",
       "      <th>mpg</th>\n",
       "      <th>cyl</th>\n",
       "      <th>disp</th>\n",
       "      <th>hp</th>\n",
       "      <th>drat</th>\n",
       "      <th>wt</th>\n",
       "      <th>qsec</th>\n",
       "      <th>vs</th>\n",
       "      <th>am</th>\n",
       "      <th>gear</th>\n",
       "      <th>carb</th>\n",
       "      <th>cyl_size</th>\n",
       "    </tr>\n",
       "    <tr>\n",
       "      <th>index</th>\n",
       "      <th></th>\n",
       "      <th></th>\n",
       "      <th></th>\n",
       "      <th></th>\n",
       "      <th></th>\n",
       "      <th></th>\n",
       "      <th></th>\n",
       "      <th></th>\n",
       "      <th></th>\n",
       "      <th></th>\n",
       "      <th></th>\n",
       "      <th></th>\n",
       "    </tr>\n",
       "  </thead>\n",
       "  <tbody>\n",
       "    <tr>\n",
       "      <th>Mazda RX4</th>\n",
       "      <td>21.0</td>\n",
       "      <td>6.0</td>\n",
       "      <td>160.0</td>\n",
       "      <td>110.0</td>\n",
       "      <td>3.90</td>\n",
       "      <td>2.620</td>\n",
       "      <td>16.46</td>\n",
       "      <td>0.0</td>\n",
       "      <td>1.0</td>\n",
       "      <td>4.0</td>\n",
       "      <td>4.0</td>\n",
       "      <td>medium</td>\n",
       "    </tr>\n",
       "    <tr>\n",
       "      <th>Mazda RX4 Wag</th>\n",
       "      <td>21.0</td>\n",
       "      <td>6.0</td>\n",
       "      <td>160.0</td>\n",
       "      <td>110.0</td>\n",
       "      <td>3.90</td>\n",
       "      <td>2.875</td>\n",
       "      <td>17.02</td>\n",
       "      <td>0.0</td>\n",
       "      <td>1.0</td>\n",
       "      <td>4.0</td>\n",
       "      <td>4.0</td>\n",
       "      <td>medium</td>\n",
       "    </tr>\n",
       "    <tr>\n",
       "      <th>Datsun 710</th>\n",
       "      <td>22.8</td>\n",
       "      <td>4.0</td>\n",
       "      <td>108.0</td>\n",
       "      <td>93.0</td>\n",
       "      <td>3.85</td>\n",
       "      <td>2.320</td>\n",
       "      <td>18.61</td>\n",
       "      <td>1.0</td>\n",
       "      <td>1.0</td>\n",
       "      <td>4.0</td>\n",
       "      <td>1.0</td>\n",
       "      <td>small</td>\n",
       "    </tr>\n",
       "    <tr>\n",
       "      <th>Hornet 4 Drive</th>\n",
       "      <td>21.4</td>\n",
       "      <td>6.0</td>\n",
       "      <td>258.0</td>\n",
       "      <td>110.0</td>\n",
       "      <td>3.08</td>\n",
       "      <td>3.215</td>\n",
       "      <td>19.44</td>\n",
       "      <td>1.0</td>\n",
       "      <td>0.0</td>\n",
       "      <td>3.0</td>\n",
       "      <td>1.0</td>\n",
       "      <td>medium</td>\n",
       "    </tr>\n",
       "    <tr>\n",
       "      <th>Hornet Sportabout</th>\n",
       "      <td>18.7</td>\n",
       "      <td>8.0</td>\n",
       "      <td>360.0</td>\n",
       "      <td>175.0</td>\n",
       "      <td>3.15</td>\n",
       "      <td>3.440</td>\n",
       "      <td>17.02</td>\n",
       "      <td>0.0</td>\n",
       "      <td>0.0</td>\n",
       "      <td>3.0</td>\n",
       "      <td>2.0</td>\n",
       "      <td>large</td>\n",
       "    </tr>\n",
       "  </tbody>\n",
       "</table>\n",
       "</div>"
      ],
      "text/plain": [
       "                    mpg  cyl   disp     hp  drat     wt   qsec   vs   am  \\\n",
       "index                                                                      \n",
       "Mazda RX4          21.0  6.0  160.0  110.0  3.90  2.620  16.46  0.0  1.0   \n",
       "Mazda RX4 Wag      21.0  6.0  160.0  110.0  3.90  2.875  17.02  0.0  1.0   \n",
       "Datsun 710         22.8  4.0  108.0   93.0  3.85  2.320  18.61  1.0  1.0   \n",
       "Hornet 4 Drive     21.4  6.0  258.0  110.0  3.08  3.215  19.44  1.0  0.0   \n",
       "Hornet Sportabout  18.7  8.0  360.0  175.0  3.15  3.440  17.02  0.0  0.0   \n",
       "\n",
       "                   gear  carb cyl_size  \n",
       "index                                   \n",
       "Mazda RX4           4.0   4.0   medium  \n",
       "Mazda RX4 Wag       4.0   4.0   medium  \n",
       "Datsun 710          4.0   1.0    small  \n",
       "Hornet 4 Drive      3.0   1.0   medium  \n",
       "Hornet Sportabout   3.0   2.0    large  "
      ]
     },
     "execution_count": 189,
     "metadata": {},
     "output_type": "execute_result"
    }
   ],
   "source": [
    "no_index_pd = mtcars_pd.reset_index()\n",
    "no_index_pd.set_index('index').head()"
   ]
  },
  {
   "cell_type": "code",
   "execution_count": 191,
   "metadata": {},
   "outputs": [
    {
     "name": "stdout",
     "output_type": "stream",
     "text": [
      "                   mpg cyl disp  hp drat    wt  qsec vs am gear carb\n",
      "Mazda RX4         21.0   6  160 110 3.90 2.620 16.46  0  1    4    4\n",
      "Mazda RX4 Wag     21.0   6  160 110 3.90 2.875 17.02  0  1    4    4\n",
      "Datsun 710        22.8   4  108  93 3.85 2.320 18.61  1  1    4    1\n",
      "Hornet 4 Drive    21.4   6  258 110 3.08 3.215 19.44  1  0    3    1\n",
      "Hornet Sportabout 18.7   8  360 175 3.15 3.440 17.02  0  0    3    2\n",
      "Valiant           18.1   6  225 105 2.76 3.460 20.22  1  0    3    1\n"
     ]
    }
   ],
   "source": [
    "%%R\n",
    "no_row_names_r |> tibble::column_to_rownames(var='index') |> head()"
   ]
  },
  {
   "cell_type": "markdown",
   "metadata": {},
   "source": [
    "## Combining Tables"
   ]
  },
  {
   "cell_type": "code",
   "execution_count": 203,
   "metadata": {},
   "outputs": [],
   "source": [
    "# Creating dataframes in both R and Python namespace\n",
    "x_pd = pd.DataFrame({'a':np.random.randn(5), 'b':np.random.randint(0,100,5)})\n",
    "y_pd = pd.DataFrame({'c':np.random.randn(5), 'd':np.random.randint(0,100,5)})\n",
    "\n",
    "with (ro.default_converter + pandas2ri.converter).context():\n",
    "    ro.globalenv['x_r'] = ro.conversion.get_conversion().py2rpy(x_pd)\n",
    "    ro.globalenv['y_r'] = ro.conversion.get_conversion().py2rpy(y_pd)"
   ]
  },
  {
   "cell_type": "markdown",
   "metadata": {},
   "source": [
    "### .concat()"
   ]
  },
  {
   "cell_type": "code",
   "execution_count": 204,
   "metadata": {},
   "outputs": [
    {
     "data": {
      "text/html": [
       "<div>\n",
       "<style scoped>\n",
       "    .dataframe tbody tr th:only-of-type {\n",
       "        vertical-align: middle;\n",
       "    }\n",
       "\n",
       "    .dataframe tbody tr th {\n",
       "        vertical-align: top;\n",
       "    }\n",
       "\n",
       "    .dataframe thead th {\n",
       "        text-align: right;\n",
       "    }\n",
       "</style>\n",
       "<table border=\"1\" class=\"dataframe\">\n",
       "  <thead>\n",
       "    <tr style=\"text-align: right;\">\n",
       "      <th></th>\n",
       "      <th>a</th>\n",
       "      <th>b</th>\n",
       "      <th>c</th>\n",
       "      <th>d</th>\n",
       "    </tr>\n",
       "  </thead>\n",
       "  <tbody>\n",
       "    <tr>\n",
       "      <th>0</th>\n",
       "      <td>1.787484</td>\n",
       "      <td>91.0</td>\n",
       "      <td>NaN</td>\n",
       "      <td>NaN</td>\n",
       "    </tr>\n",
       "    <tr>\n",
       "      <th>1</th>\n",
       "      <td>-0.569517</td>\n",
       "      <td>0.0</td>\n",
       "      <td>NaN</td>\n",
       "      <td>NaN</td>\n",
       "    </tr>\n",
       "    <tr>\n",
       "      <th>2</th>\n",
       "      <td>0.175387</td>\n",
       "      <td>14.0</td>\n",
       "      <td>NaN</td>\n",
       "      <td>NaN</td>\n",
       "    </tr>\n",
       "    <tr>\n",
       "      <th>3</th>\n",
       "      <td>-0.462506</td>\n",
       "      <td>99.0</td>\n",
       "      <td>NaN</td>\n",
       "      <td>NaN</td>\n",
       "    </tr>\n",
       "    <tr>\n",
       "      <th>4</th>\n",
       "      <td>-1.085801</td>\n",
       "      <td>53.0</td>\n",
       "      <td>NaN</td>\n",
       "      <td>NaN</td>\n",
       "    </tr>\n",
       "    <tr>\n",
       "      <th>0</th>\n",
       "      <td>NaN</td>\n",
       "      <td>NaN</td>\n",
       "      <td>0.639736</td>\n",
       "      <td>47.0</td>\n",
       "    </tr>\n",
       "    <tr>\n",
       "      <th>1</th>\n",
       "      <td>NaN</td>\n",
       "      <td>NaN</td>\n",
       "      <td>-0.211952</td>\n",
       "      <td>3.0</td>\n",
       "    </tr>\n",
       "    <tr>\n",
       "      <th>2</th>\n",
       "      <td>NaN</td>\n",
       "      <td>NaN</td>\n",
       "      <td>-0.080337</td>\n",
       "      <td>76.0</td>\n",
       "    </tr>\n",
       "    <tr>\n",
       "      <th>3</th>\n",
       "      <td>NaN</td>\n",
       "      <td>NaN</td>\n",
       "      <td>0.405398</td>\n",
       "      <td>52.0</td>\n",
       "    </tr>\n",
       "    <tr>\n",
       "      <th>4</th>\n",
       "      <td>NaN</td>\n",
       "      <td>NaN</td>\n",
       "      <td>0.118607</td>\n",
       "      <td>78.0</td>\n",
       "    </tr>\n",
       "  </tbody>\n",
       "</table>\n",
       "</div>"
      ],
      "text/plain": [
       "          a     b         c     d\n",
       "0  1.787484  91.0       NaN   NaN\n",
       "1 -0.569517   0.0       NaN   NaN\n",
       "2  0.175387  14.0       NaN   NaN\n",
       "3 -0.462506  99.0       NaN   NaN\n",
       "4 -1.085801  53.0       NaN   NaN\n",
       "0       NaN   NaN  0.639736  47.0\n",
       "1       NaN   NaN -0.211952   3.0\n",
       "2       NaN   NaN -0.080337  76.0\n",
       "3       NaN   NaN  0.405398  52.0\n",
       "4       NaN   NaN  0.118607  78.0"
      ]
     },
     "execution_count": 204,
     "metadata": {},
     "output_type": "execute_result"
    }
   ],
   "source": [
    "pd.concat([x_pd, y_pd], axis=0) # top to bottom stacking"
   ]
  },
  {
   "cell_type": "code",
   "execution_count": 205,
   "metadata": {},
   "outputs": [
    {
     "name": "stdout",
     "output_type": "stream",
     "text": [
      "                a  b           c  d\n",
      "0...1   1.7874840 91          NA NA\n",
      "1...2  -0.5695173  0          NA NA\n",
      "2...3   0.1753865 14          NA NA\n",
      "3...4  -0.4625055 99          NA NA\n",
      "4...5  -1.0858006 53          NA NA\n",
      "0...6          NA NA  0.63973599 47\n",
      "1...7          NA NA -0.21195226  3\n",
      "2...8          NA NA -0.08033726 76\n",
      "3...9          NA NA  0.40539778 52\n",
      "4...10         NA NA  0.11860659 78\n"
     ]
    }
   ],
   "source": [
    "%%R\n",
    "# Standard R\n",
    "bind_rows(x_r, y_r) # top to bottom stacking"
   ]
  },
  {
   "cell_type": "code",
   "execution_count": 206,
   "metadata": {},
   "outputs": [
    {
     "data": {
      "text/html": [
       "<div>\n",
       "<style scoped>\n",
       "    .dataframe tbody tr th:only-of-type {\n",
       "        vertical-align: middle;\n",
       "    }\n",
       "\n",
       "    .dataframe tbody tr th {\n",
       "        vertical-align: top;\n",
       "    }\n",
       "\n",
       "    .dataframe thead th {\n",
       "        text-align: right;\n",
       "    }\n",
       "</style>\n",
       "<table border=\"1\" class=\"dataframe\">\n",
       "  <thead>\n",
       "    <tr style=\"text-align: right;\">\n",
       "      <th></th>\n",
       "      <th>a</th>\n",
       "      <th>b</th>\n",
       "      <th>c</th>\n",
       "      <th>d</th>\n",
       "    </tr>\n",
       "  </thead>\n",
       "  <tbody>\n",
       "    <tr>\n",
       "      <th>0</th>\n",
       "      <td>1.787484</td>\n",
       "      <td>91</td>\n",
       "      <td>0.639736</td>\n",
       "      <td>47</td>\n",
       "    </tr>\n",
       "    <tr>\n",
       "      <th>1</th>\n",
       "      <td>-0.569517</td>\n",
       "      <td>0</td>\n",
       "      <td>-0.211952</td>\n",
       "      <td>3</td>\n",
       "    </tr>\n",
       "    <tr>\n",
       "      <th>2</th>\n",
       "      <td>0.175387</td>\n",
       "      <td>14</td>\n",
       "      <td>-0.080337</td>\n",
       "      <td>76</td>\n",
       "    </tr>\n",
       "    <tr>\n",
       "      <th>3</th>\n",
       "      <td>-0.462506</td>\n",
       "      <td>99</td>\n",
       "      <td>0.405398</td>\n",
       "      <td>52</td>\n",
       "    </tr>\n",
       "    <tr>\n",
       "      <th>4</th>\n",
       "      <td>-1.085801</td>\n",
       "      <td>53</td>\n",
       "      <td>0.118607</td>\n",
       "      <td>78</td>\n",
       "    </tr>\n",
       "  </tbody>\n",
       "</table>\n",
       "</div>"
      ],
      "text/plain": [
       "          a   b         c   d\n",
       "0  1.787484  91  0.639736  47\n",
       "1 -0.569517   0 -0.211952   3\n",
       "2  0.175387  14 -0.080337  76\n",
       "3 -0.462506  99  0.405398  52\n",
       "4 -1.085801  53  0.118607  78"
      ]
     },
     "execution_count": 206,
     "metadata": {},
     "output_type": "execute_result"
    }
   ],
   "source": [
    "pd.concat([x_pd, y_pd], axis=1) # side to side stacking"
   ]
  },
  {
   "cell_type": "code",
   "execution_count": 207,
   "metadata": {},
   "outputs": [
    {
     "name": "stdout",
     "output_type": "stream",
     "text": [
      "           a  b           c  d\n",
      "0  1.7874840 91  0.63973599 47\n",
      "1 -0.5695173  0 -0.21195226  3\n",
      "2  0.1753865 14 -0.08033726 76\n",
      "3 -0.4625055 99  0.40539778 52\n",
      "4 -1.0858006 53  0.11860659 78\n"
     ]
    }
   ],
   "source": [
    "%%R\n",
    "# Standard R\n",
    "bind_cols(x_r, y_r) # side to side stacking"
   ]
  },
  {
   "cell_type": "markdown",
   "metadata": {},
   "source": [
    "## Joining Tables"
   ]
  },
  {
   "cell_type": "code",
   "execution_count": 208,
   "metadata": {},
   "outputs": [
    {
     "data": {
      "text/html": [
       "<div>\n",
       "<style scoped>\n",
       "    .dataframe tbody tr th:only-of-type {\n",
       "        vertical-align: middle;\n",
       "    }\n",
       "\n",
       "    .dataframe tbody tr th {\n",
       "        vertical-align: top;\n",
       "    }\n",
       "\n",
       "    .dataframe thead th {\n",
       "        text-align: right;\n",
       "    }\n",
       "</style>\n",
       "<table border=\"1\" class=\"dataframe\">\n",
       "  <thead>\n",
       "    <tr style=\"text-align: right;\">\n",
       "      <th></th>\n",
       "      <th>c</th>\n",
       "      <th>d</th>\n",
       "    </tr>\n",
       "  </thead>\n",
       "  <tbody>\n",
       "    <tr>\n",
       "      <th>0</th>\n",
       "      <td>0.639736</td>\n",
       "      <td>47</td>\n",
       "    </tr>\n",
       "    <tr>\n",
       "      <th>1</th>\n",
       "      <td>-0.211952</td>\n",
       "      <td>3</td>\n",
       "    </tr>\n",
       "    <tr>\n",
       "      <th>2</th>\n",
       "      <td>-0.080337</td>\n",
       "      <td>76</td>\n",
       "    </tr>\n",
       "    <tr>\n",
       "      <th>3</th>\n",
       "      <td>0.405398</td>\n",
       "      <td>52</td>\n",
       "    </tr>\n",
       "  </tbody>\n",
       "</table>\n",
       "</div>"
      ],
      "text/plain": [
       "          c   d\n",
       "0  0.639736  47\n",
       "1 -0.211952   3\n",
       "2 -0.080337  76\n",
       "3  0.405398  52"
      ]
     },
     "execution_count": 208,
     "metadata": {},
     "output_type": "execute_result"
    }
   ],
   "source": [
    "y_pd = y_pd.iloc[:4] # removing the last line from y_pd\n",
    "y_pd"
   ]
  },
  {
   "cell_type": "code",
   "execution_count": 211,
   "metadata": {},
   "outputs": [],
   "source": [
    "%%R\n",
    "y_r <- y_r |> slice(0:4)\n",
    "# converting the index to column\n",
    "y_r <- y_r |> tibble::rownames_to_column(var='index_y')\n",
    "x_r <- x_r |> tibble::rownames_to_column(var='index_x')"
   ]
  },
  {
   "cell_type": "code",
   "execution_count": 212,
   "metadata": {},
   "outputs": [
    {
     "data": {
      "text/html": [
       "<div>\n",
       "<style scoped>\n",
       "    .dataframe tbody tr th:only-of-type {\n",
       "        vertical-align: middle;\n",
       "    }\n",
       "\n",
       "    .dataframe tbody tr th {\n",
       "        vertical-align: top;\n",
       "    }\n",
       "\n",
       "    .dataframe thead th {\n",
       "        text-align: right;\n",
       "    }\n",
       "</style>\n",
       "<table border=\"1\" class=\"dataframe\">\n",
       "  <thead>\n",
       "    <tr style=\"text-align: right;\">\n",
       "      <th></th>\n",
       "      <th>index_y</th>\n",
       "      <th>c</th>\n",
       "      <th>d</th>\n",
       "    </tr>\n",
       "  </thead>\n",
       "  <tbody>\n",
       "    <tr>\n",
       "      <th>1</th>\n",
       "      <td>0</td>\n",
       "      <td>0.639736</td>\n",
       "      <td>47</td>\n",
       "    </tr>\n",
       "    <tr>\n",
       "      <th>2</th>\n",
       "      <td>1</td>\n",
       "      <td>-0.211952</td>\n",
       "      <td>3</td>\n",
       "    </tr>\n",
       "    <tr>\n",
       "      <th>3</th>\n",
       "      <td>2</td>\n",
       "      <td>-0.080337</td>\n",
       "      <td>76</td>\n",
       "    </tr>\n",
       "    <tr>\n",
       "      <th>4</th>\n",
       "      <td>3</td>\n",
       "      <td>0.405398</td>\n",
       "      <td>52</td>\n",
       "    </tr>\n",
       "  </tbody>\n",
       "</table>\n",
       "</div>"
      ],
      "text/plain": [
       "  index_y         c   d\n",
       "1       0  0.639736  47\n",
       "2       1 -0.211952   3\n",
       "3       2 -0.080337  76\n",
       "4       3  0.405398  52"
      ]
     },
     "execution_count": 212,
     "metadata": {},
     "output_type": "execute_result"
    }
   ],
   "source": [
    "%R y_r"
   ]
  },
  {
   "cell_type": "code",
   "execution_count": 213,
   "metadata": {},
   "outputs": [
    {
     "data": {
      "text/html": [
       "<div>\n",
       "<style scoped>\n",
       "    .dataframe tbody tr th:only-of-type {\n",
       "        vertical-align: middle;\n",
       "    }\n",
       "\n",
       "    .dataframe tbody tr th {\n",
       "        vertical-align: top;\n",
       "    }\n",
       "\n",
       "    .dataframe thead th {\n",
       "        text-align: right;\n",
       "    }\n",
       "</style>\n",
       "<table border=\"1\" class=\"dataframe\">\n",
       "  <thead>\n",
       "    <tr style=\"text-align: right;\">\n",
       "      <th></th>\n",
       "      <th>index_x</th>\n",
       "      <th>a</th>\n",
       "      <th>b</th>\n",
       "    </tr>\n",
       "  </thead>\n",
       "  <tbody>\n",
       "    <tr>\n",
       "      <th>1</th>\n",
       "      <td>0</td>\n",
       "      <td>1.787484</td>\n",
       "      <td>91</td>\n",
       "    </tr>\n",
       "    <tr>\n",
       "      <th>2</th>\n",
       "      <td>1</td>\n",
       "      <td>-0.569517</td>\n",
       "      <td>0</td>\n",
       "    </tr>\n",
       "    <tr>\n",
       "      <th>3</th>\n",
       "      <td>2</td>\n",
       "      <td>0.175387</td>\n",
       "      <td>14</td>\n",
       "    </tr>\n",
       "    <tr>\n",
       "      <th>4</th>\n",
       "      <td>3</td>\n",
       "      <td>-0.462506</td>\n",
       "      <td>99</td>\n",
       "    </tr>\n",
       "    <tr>\n",
       "      <th>5</th>\n",
       "      <td>4</td>\n",
       "      <td>-1.085801</td>\n",
       "      <td>53</td>\n",
       "    </tr>\n",
       "  </tbody>\n",
       "</table>\n",
       "</div>"
      ],
      "text/plain": [
       "  index_x         a   b\n",
       "1       0  1.787484  91\n",
       "2       1 -0.569517   0\n",
       "3       2  0.175387  14\n",
       "4       3 -0.462506  99\n",
       "5       4 -1.085801  53"
      ]
     },
     "execution_count": 213,
     "metadata": {},
     "output_type": "execute_result"
    }
   ],
   "source": [
    "%R x_r"
   ]
  },
  {
   "cell_type": "markdown",
   "metadata": {},
   "source": [
    "### .merge()"
   ]
  },
  {
   "cell_type": "markdown",
   "metadata": {},
   "source": [
    "#### left join"
   ]
  },
  {
   "cell_type": "code",
   "execution_count": 214,
   "metadata": {},
   "outputs": [
    {
     "data": {
      "text/html": [
       "<div>\n",
       "<style scoped>\n",
       "    .dataframe tbody tr th:only-of-type {\n",
       "        vertical-align: middle;\n",
       "    }\n",
       "\n",
       "    .dataframe tbody tr th {\n",
       "        vertical-align: top;\n",
       "    }\n",
       "\n",
       "    .dataframe thead th {\n",
       "        text-align: right;\n",
       "    }\n",
       "</style>\n",
       "<table border=\"1\" class=\"dataframe\">\n",
       "  <thead>\n",
       "    <tr style=\"text-align: right;\">\n",
       "      <th></th>\n",
       "      <th>a</th>\n",
       "      <th>b</th>\n",
       "      <th>c</th>\n",
       "      <th>d</th>\n",
       "    </tr>\n",
       "  </thead>\n",
       "  <tbody>\n",
       "    <tr>\n",
       "      <th>0</th>\n",
       "      <td>1.787484</td>\n",
       "      <td>91</td>\n",
       "      <td>0.639736</td>\n",
       "      <td>47.0</td>\n",
       "    </tr>\n",
       "    <tr>\n",
       "      <th>1</th>\n",
       "      <td>-0.569517</td>\n",
       "      <td>0</td>\n",
       "      <td>-0.211952</td>\n",
       "      <td>3.0</td>\n",
       "    </tr>\n",
       "    <tr>\n",
       "      <th>2</th>\n",
       "      <td>0.175387</td>\n",
       "      <td>14</td>\n",
       "      <td>-0.080337</td>\n",
       "      <td>76.0</td>\n",
       "    </tr>\n",
       "    <tr>\n",
       "      <th>3</th>\n",
       "      <td>-0.462506</td>\n",
       "      <td>99</td>\n",
       "      <td>0.405398</td>\n",
       "      <td>52.0</td>\n",
       "    </tr>\n",
       "    <tr>\n",
       "      <th>4</th>\n",
       "      <td>-1.085801</td>\n",
       "      <td>53</td>\n",
       "      <td>NaN</td>\n",
       "      <td>NaN</td>\n",
       "    </tr>\n",
       "  </tbody>\n",
       "</table>\n",
       "</div>"
      ],
      "text/plain": [
       "          a   b         c     d\n",
       "0  1.787484  91  0.639736  47.0\n",
       "1 -0.569517   0 -0.211952   3.0\n",
       "2  0.175387  14 -0.080337  76.0\n",
       "3 -0.462506  99  0.405398  52.0\n",
       "4 -1.085801  53       NaN   NaN"
      ]
     },
     "execution_count": 214,
     "metadata": {},
     "output_type": "execute_result"
    }
   ],
   "source": [
    "# left join\n",
    "pd.merge(x_pd, y_pd, how='left', left_index=True, right_index=True) # how argument can be 'left', 'right', 'outer', 'inner', 'cross'"
   ]
  },
  {
   "cell_type": "code",
   "execution_count": 216,
   "metadata": {},
   "outputs": [
    {
     "name": "stdout",
     "output_type": "stream",
     "text": [
      "  index_x          a  b           c  d\n",
      "1       0  1.7874840 91  0.63973599 47\n",
      "2       1 -0.5695173  0 -0.21195226  3\n",
      "3       2  0.1753865 14 -0.08033726 76\n",
      "4       3 -0.4625055 99  0.40539778 52\n",
      "5       4 -1.0858006 53          NA NA\n"
     ]
    }
   ],
   "source": [
    "%%R\n",
    "# Dplyr. Note theat it is difficult to join by index in R. Transform the index to a column before joining\n",
    "# Use by = c('col1', 'col2',...) to specify one or more common columns to match on.\n",
    "left_join(x_r, y_r, by=c('index_x'='index_y')) # if the columns to join in both data frames have the same name, 'by' argument can be a string. e.g. by='index'"
   ]
  },
  {
   "cell_type": "markdown",
   "metadata": {},
   "source": [
    "#### right join"
   ]
  },
  {
   "cell_type": "code",
   "execution_count": 217,
   "metadata": {},
   "outputs": [
    {
     "data": {
      "text/html": [
       "<div>\n",
       "<style scoped>\n",
       "    .dataframe tbody tr th:only-of-type {\n",
       "        vertical-align: middle;\n",
       "    }\n",
       "\n",
       "    .dataframe tbody tr th {\n",
       "        vertical-align: top;\n",
       "    }\n",
       "\n",
       "    .dataframe thead th {\n",
       "        text-align: right;\n",
       "    }\n",
       "</style>\n",
       "<table border=\"1\" class=\"dataframe\">\n",
       "  <thead>\n",
       "    <tr style=\"text-align: right;\">\n",
       "      <th></th>\n",
       "      <th>a</th>\n",
       "      <th>b</th>\n",
       "      <th>c</th>\n",
       "      <th>d</th>\n",
       "    </tr>\n",
       "  </thead>\n",
       "  <tbody>\n",
       "    <tr>\n",
       "      <th>0</th>\n",
       "      <td>1.787484</td>\n",
       "      <td>91</td>\n",
       "      <td>0.639736</td>\n",
       "      <td>47</td>\n",
       "    </tr>\n",
       "    <tr>\n",
       "      <th>1</th>\n",
       "      <td>-0.569517</td>\n",
       "      <td>0</td>\n",
       "      <td>-0.211952</td>\n",
       "      <td>3</td>\n",
       "    </tr>\n",
       "    <tr>\n",
       "      <th>2</th>\n",
       "      <td>0.175387</td>\n",
       "      <td>14</td>\n",
       "      <td>-0.080337</td>\n",
       "      <td>76</td>\n",
       "    </tr>\n",
       "    <tr>\n",
       "      <th>3</th>\n",
       "      <td>-0.462506</td>\n",
       "      <td>99</td>\n",
       "      <td>0.405398</td>\n",
       "      <td>52</td>\n",
       "    </tr>\n",
       "  </tbody>\n",
       "</table>\n",
       "</div>"
      ],
      "text/plain": [
       "          a   b         c   d\n",
       "0  1.787484  91  0.639736  47\n",
       "1 -0.569517   0 -0.211952   3\n",
       "2  0.175387  14 -0.080337  76\n",
       "3 -0.462506  99  0.405398  52"
      ]
     },
     "execution_count": 217,
     "metadata": {},
     "output_type": "execute_result"
    }
   ],
   "source": [
    "# right join\n",
    "pd.merge(x_pd, y_pd, how='right', left_index=True, right_index=True)"
   ]
  },
  {
   "cell_type": "code",
   "execution_count": 218,
   "metadata": {},
   "outputs": [
    {
     "name": "stdout",
     "output_type": "stream",
     "text": [
      "  index_x          a  b           c  d\n",
      "1       0  1.7874840 91  0.63973599 47\n",
      "2       1 -0.5695173  0 -0.21195226  3\n",
      "3       2  0.1753865 14 -0.08033726 76\n",
      "4       3 -0.4625055 99  0.40539778 52\n"
     ]
    }
   ],
   "source": [
    "%%R\n",
    "# Dplyr. Note that it is difficult o join by index in R. Transform the index to a column before joining\n",
    "right_join(x_r, y_r, by=c('index_x' = 'index_y'))"
   ]
  },
  {
   "cell_type": "markdown",
   "metadata": {},
   "source": [
    "#### inner join"
   ]
  },
  {
   "cell_type": "code",
   "execution_count": 219,
   "metadata": {},
   "outputs": [
    {
     "data": {
      "text/html": [
       "<div>\n",
       "<style scoped>\n",
       "    .dataframe tbody tr th:only-of-type {\n",
       "        vertical-align: middle;\n",
       "    }\n",
       "\n",
       "    .dataframe tbody tr th {\n",
       "        vertical-align: top;\n",
       "    }\n",
       "\n",
       "    .dataframe thead th {\n",
       "        text-align: right;\n",
       "    }\n",
       "</style>\n",
       "<table border=\"1\" class=\"dataframe\">\n",
       "  <thead>\n",
       "    <tr style=\"text-align: right;\">\n",
       "      <th></th>\n",
       "      <th>a</th>\n",
       "      <th>b</th>\n",
       "      <th>c</th>\n",
       "      <th>d</th>\n",
       "    </tr>\n",
       "  </thead>\n",
       "  <tbody>\n",
       "    <tr>\n",
       "      <th>0</th>\n",
       "      <td>1.787484</td>\n",
       "      <td>91</td>\n",
       "      <td>0.639736</td>\n",
       "      <td>47</td>\n",
       "    </tr>\n",
       "    <tr>\n",
       "      <th>1</th>\n",
       "      <td>-0.569517</td>\n",
       "      <td>0</td>\n",
       "      <td>-0.211952</td>\n",
       "      <td>3</td>\n",
       "    </tr>\n",
       "    <tr>\n",
       "      <th>2</th>\n",
       "      <td>0.175387</td>\n",
       "      <td>14</td>\n",
       "      <td>-0.080337</td>\n",
       "      <td>76</td>\n",
       "    </tr>\n",
       "    <tr>\n",
       "      <th>3</th>\n",
       "      <td>-0.462506</td>\n",
       "      <td>99</td>\n",
       "      <td>0.405398</td>\n",
       "      <td>52</td>\n",
       "    </tr>\n",
       "  </tbody>\n",
       "</table>\n",
       "</div>"
      ],
      "text/plain": [
       "          a   b         c   d\n",
       "0  1.787484  91  0.639736  47\n",
       "1 -0.569517   0 -0.211952   3\n",
       "2  0.175387  14 -0.080337  76\n",
       "3 -0.462506  99  0.405398  52"
      ]
     },
     "execution_count": 219,
     "metadata": {},
     "output_type": "execute_result"
    }
   ],
   "source": [
    "# inner join\n",
    "pd.merge(x_pd, y_pd, how='inner', left_index=True, right_index=True)"
   ]
  },
  {
   "cell_type": "code",
   "execution_count": 220,
   "metadata": {},
   "outputs": [
    {
     "name": "stdout",
     "output_type": "stream",
     "text": [
      "  index_x          a  b           c  d\n",
      "1       0  1.7874840 91  0.63973599 47\n",
      "2       1 -0.5695173  0 -0.21195226  3\n",
      "3       2  0.1753865 14 -0.08033726 76\n",
      "4       3 -0.4625055 99  0.40539778 52\n"
     ]
    }
   ],
   "source": [
    "%%R\n",
    "# Dplyr. Note that it is difficult o join by index in R. Transform the index to a column before joining\n",
    "inner_join(x_r, y_r, by=c('index_x' = 'index_y'))"
   ]
  },
  {
   "cell_type": "markdown",
   "metadata": {},
   "source": [
    "#### full(outer) join"
   ]
  },
  {
   "cell_type": "code",
   "execution_count": 221,
   "metadata": {},
   "outputs": [
    {
     "data": {
      "text/html": [
       "<div>\n",
       "<style scoped>\n",
       "    .dataframe tbody tr th:only-of-type {\n",
       "        vertical-align: middle;\n",
       "    }\n",
       "\n",
       "    .dataframe tbody tr th {\n",
       "        vertical-align: top;\n",
       "    }\n",
       "\n",
       "    .dataframe thead th {\n",
       "        text-align: right;\n",
       "    }\n",
       "</style>\n",
       "<table border=\"1\" class=\"dataframe\">\n",
       "  <thead>\n",
       "    <tr style=\"text-align: right;\">\n",
       "      <th></th>\n",
       "      <th>a</th>\n",
       "      <th>b</th>\n",
       "      <th>c</th>\n",
       "      <th>d</th>\n",
       "    </tr>\n",
       "  </thead>\n",
       "  <tbody>\n",
       "    <tr>\n",
       "      <th>0</th>\n",
       "      <td>1.787484</td>\n",
       "      <td>91</td>\n",
       "      <td>0.639736</td>\n",
       "      <td>47.0</td>\n",
       "    </tr>\n",
       "    <tr>\n",
       "      <th>1</th>\n",
       "      <td>-0.569517</td>\n",
       "      <td>0</td>\n",
       "      <td>-0.211952</td>\n",
       "      <td>3.0</td>\n",
       "    </tr>\n",
       "    <tr>\n",
       "      <th>2</th>\n",
       "      <td>0.175387</td>\n",
       "      <td>14</td>\n",
       "      <td>-0.080337</td>\n",
       "      <td>76.0</td>\n",
       "    </tr>\n",
       "    <tr>\n",
       "      <th>3</th>\n",
       "      <td>-0.462506</td>\n",
       "      <td>99</td>\n",
       "      <td>0.405398</td>\n",
       "      <td>52.0</td>\n",
       "    </tr>\n",
       "    <tr>\n",
       "      <th>4</th>\n",
       "      <td>-1.085801</td>\n",
       "      <td>53</td>\n",
       "      <td>NaN</td>\n",
       "      <td>NaN</td>\n",
       "    </tr>\n",
       "  </tbody>\n",
       "</table>\n",
       "</div>"
      ],
      "text/plain": [
       "          a   b         c     d\n",
       "0  1.787484  91  0.639736  47.0\n",
       "1 -0.569517   0 -0.211952   3.0\n",
       "2  0.175387  14 -0.080337  76.0\n",
       "3 -0.462506  99  0.405398  52.0\n",
       "4 -1.085801  53       NaN   NaN"
      ]
     },
     "execution_count": 221,
     "metadata": {},
     "output_type": "execute_result"
    }
   ],
   "source": [
    "# full(outer) join\n",
    "pd.merge(x_pd, y_pd, how='outer', left_index=True, right_index=True)"
   ]
  },
  {
   "cell_type": "code",
   "execution_count": 223,
   "metadata": {},
   "outputs": [
    {
     "name": "stdout",
     "output_type": "stream",
     "text": [
      "  index_x          a  b           c  d\n",
      "1       0  1.7874840 91  0.63973599 47\n",
      "2       1 -0.5695173  0 -0.21195226  3\n",
      "3       2  0.1753865 14 -0.08033726 76\n",
      "4       3 -0.4625055 99  0.40539778 52\n",
      "5       4 -1.0858006 53          NA NA\n"
     ]
    }
   ],
   "source": [
    "%%R\n",
    "# Dplyr. Note that it is difficult o join by index in R. Transform the index to a column before joining\n",
    "full_join(x_r, y_r, by=c('index_x' = 'index_y'))"
   ]
  },
  {
   "cell_type": "markdown",
   "metadata": {},
   "source": [
    "#### cross join"
   ]
  },
  {
   "cell_type": "code",
   "execution_count": 224,
   "metadata": {},
   "outputs": [
    {
     "data": {
      "text/html": [
       "<div>\n",
       "<style scoped>\n",
       "    .dataframe tbody tr th:only-of-type {\n",
       "        vertical-align: middle;\n",
       "    }\n",
       "\n",
       "    .dataframe tbody tr th {\n",
       "        vertical-align: top;\n",
       "    }\n",
       "\n",
       "    .dataframe thead th {\n",
       "        text-align: right;\n",
       "    }\n",
       "</style>\n",
       "<table border=\"1\" class=\"dataframe\">\n",
       "  <thead>\n",
       "    <tr style=\"text-align: right;\">\n",
       "      <th></th>\n",
       "      <th>a</th>\n",
       "      <th>b</th>\n",
       "      <th>c</th>\n",
       "      <th>d</th>\n",
       "    </tr>\n",
       "  </thead>\n",
       "  <tbody>\n",
       "    <tr>\n",
       "      <th>0</th>\n",
       "      <td>1.787484</td>\n",
       "      <td>91</td>\n",
       "      <td>0.639736</td>\n",
       "      <td>47</td>\n",
       "    </tr>\n",
       "    <tr>\n",
       "      <th>1</th>\n",
       "      <td>1.787484</td>\n",
       "      <td>91</td>\n",
       "      <td>-0.211952</td>\n",
       "      <td>3</td>\n",
       "    </tr>\n",
       "    <tr>\n",
       "      <th>2</th>\n",
       "      <td>1.787484</td>\n",
       "      <td>91</td>\n",
       "      <td>-0.080337</td>\n",
       "      <td>76</td>\n",
       "    </tr>\n",
       "    <tr>\n",
       "      <th>3</th>\n",
       "      <td>1.787484</td>\n",
       "      <td>91</td>\n",
       "      <td>0.405398</td>\n",
       "      <td>52</td>\n",
       "    </tr>\n",
       "    <tr>\n",
       "      <th>4</th>\n",
       "      <td>-0.569517</td>\n",
       "      <td>0</td>\n",
       "      <td>0.639736</td>\n",
       "      <td>47</td>\n",
       "    </tr>\n",
       "    <tr>\n",
       "      <th>5</th>\n",
       "      <td>-0.569517</td>\n",
       "      <td>0</td>\n",
       "      <td>-0.211952</td>\n",
       "      <td>3</td>\n",
       "    </tr>\n",
       "    <tr>\n",
       "      <th>6</th>\n",
       "      <td>-0.569517</td>\n",
       "      <td>0</td>\n",
       "      <td>-0.080337</td>\n",
       "      <td>76</td>\n",
       "    </tr>\n",
       "    <tr>\n",
       "      <th>7</th>\n",
       "      <td>-0.569517</td>\n",
       "      <td>0</td>\n",
       "      <td>0.405398</td>\n",
       "      <td>52</td>\n",
       "    </tr>\n",
       "    <tr>\n",
       "      <th>8</th>\n",
       "      <td>0.175387</td>\n",
       "      <td>14</td>\n",
       "      <td>0.639736</td>\n",
       "      <td>47</td>\n",
       "    </tr>\n",
       "    <tr>\n",
       "      <th>9</th>\n",
       "      <td>0.175387</td>\n",
       "      <td>14</td>\n",
       "      <td>-0.211952</td>\n",
       "      <td>3</td>\n",
       "    </tr>\n",
       "    <tr>\n",
       "      <th>10</th>\n",
       "      <td>0.175387</td>\n",
       "      <td>14</td>\n",
       "      <td>-0.080337</td>\n",
       "      <td>76</td>\n",
       "    </tr>\n",
       "    <tr>\n",
       "      <th>11</th>\n",
       "      <td>0.175387</td>\n",
       "      <td>14</td>\n",
       "      <td>0.405398</td>\n",
       "      <td>52</td>\n",
       "    </tr>\n",
       "    <tr>\n",
       "      <th>12</th>\n",
       "      <td>-0.462506</td>\n",
       "      <td>99</td>\n",
       "      <td>0.639736</td>\n",
       "      <td>47</td>\n",
       "    </tr>\n",
       "    <tr>\n",
       "      <th>13</th>\n",
       "      <td>-0.462506</td>\n",
       "      <td>99</td>\n",
       "      <td>-0.211952</td>\n",
       "      <td>3</td>\n",
       "    </tr>\n",
       "    <tr>\n",
       "      <th>14</th>\n",
       "      <td>-0.462506</td>\n",
       "      <td>99</td>\n",
       "      <td>-0.080337</td>\n",
       "      <td>76</td>\n",
       "    </tr>\n",
       "    <tr>\n",
       "      <th>15</th>\n",
       "      <td>-0.462506</td>\n",
       "      <td>99</td>\n",
       "      <td>0.405398</td>\n",
       "      <td>52</td>\n",
       "    </tr>\n",
       "    <tr>\n",
       "      <th>16</th>\n",
       "      <td>-1.085801</td>\n",
       "      <td>53</td>\n",
       "      <td>0.639736</td>\n",
       "      <td>47</td>\n",
       "    </tr>\n",
       "    <tr>\n",
       "      <th>17</th>\n",
       "      <td>-1.085801</td>\n",
       "      <td>53</td>\n",
       "      <td>-0.211952</td>\n",
       "      <td>3</td>\n",
       "    </tr>\n",
       "    <tr>\n",
       "      <th>18</th>\n",
       "      <td>-1.085801</td>\n",
       "      <td>53</td>\n",
       "      <td>-0.080337</td>\n",
       "      <td>76</td>\n",
       "    </tr>\n",
       "    <tr>\n",
       "      <th>19</th>\n",
       "      <td>-1.085801</td>\n",
       "      <td>53</td>\n",
       "      <td>0.405398</td>\n",
       "      <td>52</td>\n",
       "    </tr>\n",
       "  </tbody>\n",
       "</table>\n",
       "</div>"
      ],
      "text/plain": [
       "           a   b         c   d\n",
       "0   1.787484  91  0.639736  47\n",
       "1   1.787484  91 -0.211952   3\n",
       "2   1.787484  91 -0.080337  76\n",
       "3   1.787484  91  0.405398  52\n",
       "4  -0.569517   0  0.639736  47\n",
       "5  -0.569517   0 -0.211952   3\n",
       "6  -0.569517   0 -0.080337  76\n",
       "7  -0.569517   0  0.405398  52\n",
       "8   0.175387  14  0.639736  47\n",
       "9   0.175387  14 -0.211952   3\n",
       "10  0.175387  14 -0.080337  76\n",
       "11  0.175387  14  0.405398  52\n",
       "12 -0.462506  99  0.639736  47\n",
       "13 -0.462506  99 -0.211952   3\n",
       "14 -0.462506  99 -0.080337  76\n",
       "15 -0.462506  99  0.405398  52\n",
       "16 -1.085801  53  0.639736  47\n",
       "17 -1.085801  53 -0.211952   3\n",
       "18 -1.085801  53 -0.080337  76\n",
       "19 -1.085801  53  0.405398  52"
      ]
     },
     "execution_count": 224,
     "metadata": {},
     "output_type": "execute_result"
    }
   ],
   "source": [
    "pd.merge(x_pd, y_pd, how='cross')"
   ]
  },
  {
   "cell_type": "code",
   "execution_count": 225,
   "metadata": {},
   "outputs": [
    {
     "name": "stdout",
     "output_type": "stream",
     "text": [
      "   index_x          a  b index_y           c  d\n",
      "1        0  1.7874840 91       0  0.63973599 47\n",
      "2        0  1.7874840 91       1 -0.21195226  3\n",
      "3        0  1.7874840 91       2 -0.08033726 76\n",
      "4        0  1.7874840 91       3  0.40539778 52\n",
      "5        1 -0.5695173  0       0  0.63973599 47\n",
      "6        1 -0.5695173  0       1 -0.21195226  3\n",
      "7        1 -0.5695173  0       2 -0.08033726 76\n",
      "8        1 -0.5695173  0       3  0.40539778 52\n",
      "9        2  0.1753865 14       0  0.63973599 47\n",
      "10       2  0.1753865 14       1 -0.21195226  3\n",
      "11       2  0.1753865 14       2 -0.08033726 76\n",
      "12       2  0.1753865 14       3  0.40539778 52\n",
      "13       3 -0.4625055 99       0  0.63973599 47\n",
      "14       3 -0.4625055 99       1 -0.21195226  3\n",
      "15       3 -0.4625055 99       2 -0.08033726 76\n",
      "16       3 -0.4625055 99       3  0.40539778 52\n",
      "17       4 -1.0858006 53       0  0.63973599 47\n",
      "18       4 -1.0858006 53       1 -0.21195226  3\n",
      "19       4 -1.0858006 53       2 -0.08033726 76\n",
      "20       4 -1.0858006 53       3  0.40539778 52\n"
     ]
    }
   ],
   "source": [
    "%%R\n",
    "# Dplyr\n",
    "cross_join(x_r, y_r)"
   ]
  },
  {
   "cell_type": "code",
   "execution_count": null,
   "metadata": {},
   "outputs": [],
   "source": []
  }
 ],
 "metadata": {
  "kernelspec": {
   "display_name": "Python 3",
   "language": "python",
   "name": "python3"
  },
  "language_info": {
   "codemirror_mode": {
    "name": "ipython",
    "version": 3
   },
   "file_extension": ".py",
   "mimetype": "text/x-python",
   "name": "python",
   "nbconvert_exporter": "python",
   "pygments_lexer": "ipython3",
   "version": "3.11.9"
  }
 },
 "nbformat": 4,
 "nbformat_minor": 2
}
